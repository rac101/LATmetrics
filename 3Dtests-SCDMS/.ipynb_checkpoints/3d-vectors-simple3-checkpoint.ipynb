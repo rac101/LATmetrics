{
 "cells": [
  {
   "cell_type": "markdown",
   "metadata": {},
   "source": [
    "# Plot 3D vectors on 3D axes - Simple Stereo Plot Figure\n",
    "\n",
    "### Robert Cameron\n",
    "### March 2016"
   ]
  },
  {
   "cell_type": "code",
   "execution_count": 10,
   "metadata": {
    "collapsed": true
   },
   "outputs": [],
   "source": [
    "import numpy as np\n",
    "from matplotlib import pyplot as plt\n",
    "from mpl_toolkits.mplot3d import Axes3D\n",
    "from matplotlib.patches import FancyArrowPatch\n",
    "from mpl_toolkits.mplot3d import proj3d"
   ]
  },
  {
   "cell_type": "code",
   "execution_count": null,
   "metadata": {
    "collapsed": false
   },
   "outputs": [],
   "source": [
    "class Arrow3D(FancyArrowPatch):\n",
    "    def __init__(self, xs, ys, zs, *args, **kwargs):\n",
    "        FancyArrowPatch.__init__(self, (0,0), (0,0), *args, **kwargs)\n",
    "        self._verts3d = xs, ys, zs\n",
    "\n",
    "    def draw(self, renderer):\n",
    "        xs3d, ys3d, zs3d = self._verts3d\n",
    "        xs, ys, zs = proj3d.proj_transform(xs3d, ys3d, zs3d, renderer.M)\n",
    "        self.set_positions((xs[0],ys[0]),(xs[1],ys[1]))\n",
    "        FancyArrowPatch.draw(self, renderer)\n",
    "\n",
    "def Rx(phi):\n",
    "    return np.array([[1, 0, 0],\n",
    "                     [0, np.cos(phi), -np.sin(phi)],\n",
    "                     [0, np.sin(phi), np.cos(phi)]])\n",
    "\n",
    "def Ry(theta):\n",
    "    return np.array([[np.cos(theta), 0, np.sin(theta)],\n",
    "                     [0, 1, 0],\n",
    "                     [-np.sin(theta), 0, np.cos(theta)]])\n",
    "\n",
    "def Rz(psi):\n",
    "    return np.array([[np.cos(psi), -np.sin(psi), 0],\n",
    "                     [np.sin(psi), np.cos(psi), 0],\n",
    "                     [0, 0, 1]])"
   ]
  },
  {
   "cell_type": "code",
   "execution_count": null,
   "metadata": {
    "collapsed": false
   },
   "outputs": [],
   "source": [
    "text_options = {'horizontalalignment': 'center',\n",
    "                'verticalalignment': 'center',\n",
    "                'fontsize': 14}\n",
    "\n",
    "# define ox0y0z0 axes\n",
    "x0 = np.array([1,0,0])\n",
    "y0 = np.array([0,1,0])\n",
    "z0 = np.array([0,0,1])\n",
    "\n",
    "# define Sun vector\n",
    "sun= np.array([1.4,1.5,1.6])\n",
    "\n",
    "# produce figure\n",
    "fig = plt.figure(figsize = (10,4), facecolor='none')\n",
    "sp1 = fig.add_subplot(121, projection='3d', axisbg='none')\n",
    "sp2 = fig.add_subplot(122, projection='3d', axisbg='none')\n",
    "sp1.view_init(elev=20, azim=60)\n",
    "sp1.axis('off')\n",
    "sp2.view_init(elev=20, azim=55)\n",
    "sp2.axis('off')\n",
    "\n",
    "def p2(v,nam,clr):\n",
    "    arrow_prop_dict = dict(mutation_scale=20, arrowstyle='-|>', shrinkA=0, shrinkB=0)\n",
    "    a = Arrow3D([0, v[0]], [0, v[1]], [0, v[2]], **arrow_prop_dict, color=clr)\n",
    "    sp1.add_artist(a)\n",
    "    a = Arrow3D([0, v[0]], [0, v[1]], [0, v[2]], **arrow_prop_dict, color=clr)\n",
    "    sp2.add_artist(a)\n",
    "    if nam:\n",
    "        sp1.text(1.1*v[0],1.1*v[1],1.1*v[2],nam, **text_options)\n",
    "        sp2.text(1.1*v[0],1.1*v[1],1.1*v[2],nam, **text_options)\n",
    "    \n",
    "arrow_prop_dict = dict(mutation_scale=20, arrowstyle='-|>', shrinkA=0, shrinkB=0)\n",
    "\n",
    "p2(x0,'X','b')\n",
    "p2(y0,'Y','b')\n",
    "p2(z0,'Z','b')\n",
    "p2(sun,'','r')\n",
    "\n",
    "# show figure\n",
    "plt.show()"
   ]
  },
  {
   "cell_type": "code",
   "execution_count": null,
   "metadata": {
    "collapsed": true
   },
   "outputs": [],
   "source": []
  }
 ],
 "metadata": {
  "kernelspec": {
   "display_name": "Python 3",
   "language": "python",
   "name": "python3"
  },
  "language_info": {
   "codemirror_mode": {
    "name": "ipython",
    "version": 3
   },
   "file_extension": ".py",
   "mimetype": "text/x-python",
   "name": "python",
   "nbconvert_exporter": "python",
   "pygments_lexer": "ipython3",
   "version": "3.5.1"
  }
 },
 "nbformat": 4,
 "nbformat_minor": 0
}
