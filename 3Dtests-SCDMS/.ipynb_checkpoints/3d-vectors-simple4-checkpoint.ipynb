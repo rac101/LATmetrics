{
 "cells": [
  {
   "cell_type": "markdown",
   "metadata": {},
   "source": [
    "# Plot 3D vectors on 3D axes - Simple Stereo Plot Animation\n",
    "\n",
    "### Robert Cameron\n",
    "### March 2016"
   ]
  },
  {
   "cell_type": "code",
   "execution_count": 1,
   "metadata": {
    "collapsed": true
   },
   "outputs": [],
   "source": [
    "import numpy as np\n",
    "from matplotlib import pyplot as plt\n",
    "from mpl_toolkits.mplot3d import Axes3D\n",
    "from mpl_toolkits.mplot3d import proj3d\n",
    "%matplotlib inline\n",
    "import JSAnimation\n",
    "from JSAnimation import IPython_display\n",
    "from matplotlib.animation import FuncAnimation"
   ]
  },
  {
   "cell_type": "code",
   "execution_count": 2,
   "metadata": {
    "collapsed": false
   },
   "outputs": [],
   "source": [
    "def Rx(phi):\n",
    "    return np.array([[1, 0, 0],\n",
    "                     [0, np.cos(phi), -np.sin(phi)],\n",
    "                     [0, np.sin(phi), np.cos(phi)]])\n",
    "\n",
    "def Ry(theta):\n",
    "    return np.array([[np.cos(theta), 0, np.sin(theta)],\n",
    "                     [0, 1, 0],\n",
    "                     [-np.sin(theta), 0, np.cos(theta)]])\n",
    "\n",
    "def Rz(psi):\n",
    "    return np.array([[np.cos(psi), -np.sin(psi), 0],\n",
    "                     [np.sin(psi), np.cos(psi), 0],\n",
    "                     [0, 0, 1]])"
   ]
  },
  {
   "cell_type": "code",
   "execution_count": null,
   "metadata": {
    "collapsed": false
   },
   "outputs": [],
   "source": [
    "text_options = {'horizontalalignment': 'center',\n",
    "                'verticalalignment': 'center',\n",
    "                'fontsize': 14}\n",
    "\n",
    "# define ox0y0z0 axes\n",
    "x0 = np.array([1,0,0])\n",
    "y0 = np.array([0,1,0])\n",
    "z0 = np.array([0,0,1])\n",
    "\n",
    "# define Sun vector\n",
    "sun= np.array([1.0,1.0,1.0])\n",
    "\n",
    "# produce figure\n",
    "fig = plt.figure(figsize = (10,4), facecolor='none')\n",
    "sp1 = fig.add_subplot(121, projection='3d', axisbg='none')\n",
    "sp2 = fig.add_subplot(122, projection='3d', axisbg='none')\n",
    "sp1.view_init(elev=20, azim=60)\n",
    "sp1.axis('off')\n",
    "sp2.view_init(elev=20, azim=65)\n",
    "sp2.axis('off')\n",
    "\n",
    "def p2(v,nam,clr,wid):\n",
    "    sp1.plot([0, v[0]], [0, v[1]], [0, v[2]], color=clr,lw=wid)\n",
    "    sp2.plot([0, v[0]], [0, v[1]], [0, v[2]], color=clr,lw=wid)\n",
    "    if nam:\n",
    "        sp1.text(1.1*v[0],1.1*v[1],1.1*v[2],nam, **text_options)\n",
    "        sp2.text(1.1*v[0],1.1*v[1],1.1*v[2],nam, **text_options)\n",
    "\n",
    "p2(x0,'X','b',1.0)\n",
    "p2(y0,'Y','b',1.0)\n",
    "p2(z0,'Z','b',1.0)\n",
    "\n",
    "p2(sun,'','r',1.0)\n",
    "\n",
    "def update(i):\n",
    "    p2(x0,'X','b',1.0)\n",
    "    p2(y0,'Y','b',1.0)\n",
    "    p2(z0,'Z','b',1.0)\n",
    "    psi = np.radians(i-1)\n",
    "    sr = Rz(psi).dot(sun)\n",
    "    p2(sr,'','#ffffff',2.0)\n",
    "    psi = np.radians(i)\n",
    "    sr = Rz(psi).dot(sun)\n",
    "    p2(sr,'','r',1.0)\n",
    "\n",
    "FuncAnimation(fig, update, frames=359, interval=90)\n"
   ]
  },
  {
   "cell_type": "code",
   "execution_count": null,
   "metadata": {
    "collapsed": true
   },
   "outputs": [],
   "source": []
  },
  {
   "cell_type": "code",
   "execution_count": null,
   "metadata": {
    "collapsed": true
   },
   "outputs": [],
   "source": []
  }
 ],
 "metadata": {
  "kernelspec": {
   "display_name": "Python 3",
   "language": "python",
   "name": "python3"
  },
  "language_info": {
   "codemirror_mode": {
    "name": "ipython",
    "version": 3
   },
   "file_extension": ".py",
   "mimetype": "text/x-python",
   "name": "python",
   "nbconvert_exporter": "python",
   "pygments_lexer": "ipython3",
   "version": "3.5.1"
  }
 },
 "nbformat": 4,
 "nbformat_minor": 0
}
