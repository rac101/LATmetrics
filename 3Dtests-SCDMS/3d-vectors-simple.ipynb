{
 "cells": [
  {
   "cell_type": "markdown",
   "metadata": {},
   "source": [
    "# Plot 3D vectors on 3D axes - Simpler Figure\n",
    "\n",
    "### Robert Cameron\n",
    "### March 2016"
   ]
  },
  {
   "cell_type": "code",
   "execution_count": 1,
   "metadata": {
    "collapsed": true
   },
   "outputs": [],
   "source": [
    "import numpy as np\n",
    "from matplotlib import pyplot as plt\n",
    "from mpl_toolkits.mplot3d import Axes3D\n",
    "from matplotlib.patches import FancyArrowPatch\n",
    "from mpl_toolkits.mplot3d import proj3d"
   ]
  },
  {
   "cell_type": "code",
   "execution_count": 2,
   "metadata": {
    "collapsed": true
   },
   "outputs": [],
   "source": [
    "class Arrow3D(FancyArrowPatch):\n",
    "    def __init__(self, xs, ys, zs, *args, **kwargs):\n",
    "        FancyArrowPatch.__init__(self, (0,0), (0,0), *args, **kwargs)\n",
    "        self._verts3d = xs, ys, zs\n",
    "\n",
    "    def draw(self, renderer):\n",
    "        xs3d, ys3d, zs3d = self._verts3d\n",
    "        xs, ys, zs = proj3d.proj_transform(xs3d, ys3d, zs3d, renderer.M)\n",
    "        self.set_positions((xs[0],ys[0]),(xs[1],ys[1]))\n",
    "        FancyArrowPatch.draw(self, renderer)\n",
    "\n",
    "def Rx(phi):\n",
    "    return np.array([[1, 0, 0],\n",
    "                     [0, np.cos(phi), -np.sin(phi)],\n",
    "                     [0, np.sin(phi), np.cos(phi)]])\n",
    "\n",
    "def Ry(theta):\n",
    "    return np.array([[np.cos(theta), 0, np.sin(theta)],\n",
    "                     [0, 1, 0],\n",
    "                     [-np.sin(theta), 0, np.cos(theta)]])\n",
    "\n",
    "def Rz(psi):\n",
    "    return np.array([[np.cos(psi), -np.sin(psi), 0],\n",
    "                     [np.sin(psi), np.cos(psi), 0],\n",
    "                     [0, 0, 1]])"
   ]
  },
  {
   "cell_type": "code",
   "execution_count": 3,
   "metadata": {
    "collapsed": false
   },
   "outputs": [],
   "source": [
    "# define origin\n",
    "o = np.array([0,0,0])\n",
    "\n",
    "# define ox0y0z0 axes\n",
    "x0 = np.array([1,0,0])\n",
    "y0 = np.array([0,1,0])\n",
    "z0 = np.array([0,0,1])\n",
    "\n",
    "# define ox1y1z1 axes\n",
    "psi = 20 * np.pi / 180\n",
    "x1 = Rz(psi).dot(x0)\n",
    "y1 = Rz(psi).dot(y0)\n",
    "z1 = Rz(psi).dot(z0)\n",
    "\n",
    "# define ox2y2z2 axes\n",
    "theta = 10 * np.pi / 180\n",
    "x2 = Rz(psi).dot(Ry(theta)).dot(x0)\n",
    "y2 = Rz(psi).dot(Ry(theta)).dot(y0)\n",
    "z2 = Rz(psi).dot(Ry(theta)).dot(z0)\n",
    "\n",
    "# define ox3y3z3 axes\n",
    "phi = 30 * np.pi / 180\n",
    "x3 = Rz(psi).dot(Ry(theta)).dot(Rx(phi)).dot(x0)\n",
    "y3 = Rz(psi).dot(Ry(theta)).dot(Rx(phi)).dot(y0)\n",
    "z3 = Rz(psi).dot(Ry(theta)).dot(Rx(phi)).dot(z0)\n",
    "\n",
    "# produce figure\n",
    "fig = plt.figure()\n",
    "ax = fig.add_subplot(111, projection='3d')\n",
    "\n",
    "arrow_prop_dict = dict(mutation_scale=20, arrowstyle='-|>', shrinkA=0, shrinkB=0)\n",
    "# plot ox0y0z0 axes\n",
    "a = Arrow3D([o[0], x0[0]], [o[1], x0[1]], [o[2], x0[2]], **arrow_prop_dict, color='b')\n",
    "ax.add_artist(a)\n",
    "a = Arrow3D([o[0], y0[0]], [o[1], y0[1]], [o[2], y0[2]], **arrow_prop_dict, color='b')\n",
    "ax.add_artist(a)\n",
    "a = Arrow3D([o[0], z0[0]], [o[1], z0[1]], [o[2], z0[2]], **arrow_prop_dict, color='b')\n",
    "ax.add_artist(a)\n",
    "\n",
    "# plot ox1y1z1 axes\n",
    "a = Arrow3D([o[0], x1[0]], [o[1], x1[1]], [o[2], x1[2]], **arrow_prop_dict)\n",
    "ax.add_artist(a)\n",
    "a = Arrow3D([o[0], y1[0]], [o[1], y1[1]], [o[2], y1[2]], **arrow_prop_dict)\n",
    "ax.add_artist(a)\n",
    "a = Arrow3D([o[0], z1[0]], [o[1], z1[1]], [o[2], z1[2]], **arrow_prop_dict)\n",
    "ax.add_artist(a)\n",
    "\n",
    "# plot ox2y2z2 axes\n",
    "a = Arrow3D([o[0], x2[0]], [o[1], x2[1]], [o[2], x2[2]], **arrow_prop_dict)\n",
    "ax.add_artist(a)\n",
    "a = Arrow3D([o[0], y2[0]], [o[1], y2[1]], [o[2], y2[2]], **arrow_prop_dict)\n",
    "ax.add_artist(a)\n",
    "a = Arrow3D([o[0], z2[0]], [o[1], z2[1]], [o[2], z2[2]], **arrow_prop_dict)\n",
    "ax.add_artist(a)\n",
    "\n",
    "# plot ox3y3z3 axes\n",
    "a = Arrow3D([o[0], x3[0]], [o[1], x3[1]], [o[2], x3[2]], **arrow_prop_dict, color='r')\n",
    "ax.add_artist(a)\n",
    "a = Arrow3D([o[0], y3[0]], [o[1], y3[1]], [o[2], y3[2]], **arrow_prop_dict, color = 'r')\n",
    "ax.add_artist(a)\n",
    "a = Arrow3D([o[0], z3[0]], [o[1], z3[1]], [o[2], z3[2]], **arrow_prop_dict, color = 'r')\n",
    "ax.add_artist(a)\n",
    "\n",
    "text_options = {'horizontalalignment': 'center',\n",
    "                'verticalalignment': 'center',\n",
    "                'fontsize': 14}\n",
    "\n",
    "# add labels for x axes\n",
    "ax.text(1.1*x0[0],1.1*x0[1],1.1*x0[2],r'$x_0$', **text_options)\n",
    "ax.text(1.1*x1[0],1.1*x1[1],1.1*x1[2],r'$x_1$', **text_options)\n",
    "ax.text(1.1*x2[0],1.1*x2[1],1.1*x2[2],r'$x_2, x_3$', **text_options)\n",
    "\n",
    "# add labels for y axes\n",
    "ax.text(1.1*y0[0],1.1*y0[1],1.1*y0[2],r'$y_0$', **text_options)\n",
    "ax.text(1.1*y1[0],1.1*y1[1],1.1*y1[2],r'$y_1, y_2$', **text_options)\n",
    "ax.text(1.1*y3[0],1.1*y3[1],1.1*y3[2],r'$y_3$', **text_options)\n",
    "\n",
    "# add labels for z axes\n",
    "ax.text(1.1*z0[0],1.1*z0[1],1.1*z0[2],r'$z_0, z_1$', **text_options)\n",
    "ax.text(1.1*z2[0],1.1*z2[1],1.1*z2[2],r'$z_2$', **text_options)\n",
    "ax.text(1.1*z3[0],1.1*z3[1],1.1*z3[2],r'$z_3$', **text_options)\n",
    "\n",
    "# show figure\n",
    "ax.view_init(elev=30, azim=60)\n",
    "ax.set_axis_off()\n",
    "plt.show()"
   ]
  },
  {
   "cell_type": "code",
   "execution_count": null,
   "metadata": {
    "collapsed": true
   },
   "outputs": [],
   "source": []
  }
 ],
 "metadata": {
  "kernelspec": {
   "display_name": "Python 3",
   "language": "python",
   "name": "python3"
  },
  "language_info": {
   "codemirror_mode": {
    "name": "ipython",
    "version": 3
   },
   "file_extension": ".py",
   "mimetype": "text/x-python",
   "name": "python",
   "nbconvert_exporter": "python",
   "pygments_lexer": "ipython3",
   "version": "3.5.1"
  }
 },
 "nbformat": 4,
 "nbformat_minor": 0
}
