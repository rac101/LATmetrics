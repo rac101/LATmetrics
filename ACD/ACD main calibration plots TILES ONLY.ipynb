{
 "cells": [
  {
   "cell_type": "markdown",
   "metadata": {},
   "source": [
    "# ACD Main Gain and Pedestal Calibration Plots, for Tiles Only\n",
    "\n",
    "### Robert Cameron\n",
    "### February 2021"
   ]
  },
  {
   "cell_type": "code",
   "execution_count": 1,
   "metadata": {},
   "outputs": [],
   "source": [
    "import pandas as pd\n",
    "import matplotlib.pyplot as plt\n",
    "import sys\n",
    "from matplotlib.dates import (MONTHLY, YEARLY, DateFormatter, rrulewrapper, RRuleLocator, drange)\n",
    "from matplotlib.ticker import (MultipleLocator, FormatStrFormatter, AutoMinorLocator)\n",
    "%matplotlib inline\n",
    "#plt.rc('font', size = 26)\n",
    "# plt.rcParams.update({'font.size': 22})"
   ]
  },
  {
   "cell_type": "code",
   "execution_count": 2,
   "metadata": {},
   "outputs": [],
   "source": [
    "dir = \"/Users/rac/Documents/GLAST/ISOC/LATmetrics/ACD/\"\n",
    "pdir = dir + \"plots-21-02-07/\"\n",
    "npedfile = dir+\"ped-tile-pcstats.dat\"\n",
    "ngainfile = dir+\"gain-tile-pcstats.dat\"\n",
    "\n",
    "np = pd.read_table(npedfile, parse_dates=[0], delim_whitespace=True)\n",
    "ng = pd.read_table(ngainfile, parse_dates=[0], delim_whitespace=True)\n",
    "#np, ng"
   ]
  },
  {
   "cell_type": "code",
   "execution_count": 3,
   "metadata": {},
   "outputs": [],
   "source": [
    "# Save plots to disk (=1), or to screen (=0)\n",
    "\n",
    "SAVE = 1"
   ]
  },
  {
   "cell_type": "code",
   "execution_count": 4,
   "metadata": {},
   "outputs": [],
   "source": [
    "x = ng['Date']\n",
    "mylim = (-20,20)\n",
    "y = ng['ValMean']\n",
    "e = ng['ValStdev']\n",
    "ylab = \"Change in ACD Mean MIP Peak (TILES ONLY) (%)\"\n",
    "ptit=\"Trend_of_ACD_Mean_MIP_Peak_for_TILES\"\n",
    "\n",
    "f,ax = plt.subplots(1, 1, figsize=(15,8))\n",
    "datemin = pd.to_datetime('2008-01-01')\n",
    "datemax = pd.to_datetime('2021-01-01')\n",
    "plt.xlim(datemin,datemax)\n",
    "plt.ylim(mylim)\n",
    "plt.plot(x,y,marker='o',color='b',linestyle='None')\n",
    "plt.errorbar(x,y,yerr=e,fmt='o',markersize=12)\n",
    "plt.title(ptit)\n",
    "plt.ylabel(ylab)\n",
    "yrule = rrulewrapper(YEARLY, interval=1)\n",
    "yloc = RRuleLocator(yrule)\n",
    "ax.xaxis.set_major_locator(yloc)\n",
    "plt.tick_params(which='both', length=10, width=1, direction='in',top=True,right=True)\n",
    "plt.grid(True)\n",
    "if SAVE:\n",
    "    plt.savefig(pdir+ptit+\".png\")\n",
    "    plt.close()"
   ]
  },
  {
   "cell_type": "code",
   "execution_count": 5,
   "metadata": {},
   "outputs": [],
   "source": [
    "x = ng['Date']\n",
    "mylim = (-20,20)\n",
    "y = ng['WidMean']\n",
    "e = ng['WidStdev']\n",
    "ylab = \"Change in ACD Mean MIP Peak Width (TILES ONLY) (%)\"\n",
    "ptit=\"Trend_of_ACD_Mean_MIP_Peak_Width_for_TILES\"\n",
    "\n",
    "f,ax = plt.subplots(1, 1, figsize=(15,8))\n",
    "datemin = pd.to_datetime('2008-01-01')\n",
    "datemax = pd.to_datetime('2021-01-01')\n",
    "plt.xlim(datemin,datemax)\n",
    "plt.ylim(mylim)\n",
    "plt.plot(x,y,marker='o',color='b',linestyle='None')\n",
    "plt.errorbar(x,y,yerr=e,fmt='o',markersize=12)\n",
    "plt.title(ptit)\n",
    "plt.ylabel(ylab)\n",
    "yrule = rrulewrapper(YEARLY, interval=1)\n",
    "yloc = RRuleLocator(yrule)\n",
    "ax.xaxis.set_major_locator(yloc)\n",
    "plt.tick_params(which='both', length=10, width=1, direction='in',top=True,right=True)\n",
    "plt.grid(True)\n",
    "if SAVE:\n",
    "    plt.savefig(pdir+ptit+\".png\")\n",
    "    plt.close()"
   ]
  },
  {
   "cell_type": "code",
   "execution_count": 6,
   "metadata": {},
   "outputs": [],
   "source": [
    "x = np['Date']\n",
    "mylim = (-5,5)\n",
    "y = np['ValMean']\n",
    "e = np['ValStdev']\n",
    "ylab = \"Change in ACD Mean Pedestal (TILES ONLY) (%)\"\n",
    "ptit=\"Trend_of_ACD_Mean_Pedestal_for_TILES\"\n",
    "\n",
    "f,ax = plt.subplots(1, 1, figsize=(15,8))\n",
    "datemin = pd.to_datetime('2008-01-01')\n",
    "datemax = pd.to_datetime('2021-01-01')\n",
    "plt.xlim(datemin,datemax)\n",
    "plt.ylim(mylim)\n",
    "plt.plot(x,y,marker='o',color='b',linestyle='None')\n",
    "plt.errorbar(x,y,yerr=e,fmt='o',markersize=12)\n",
    "plt.title(ptit)\n",
    "plt.ylabel(ylab)\n",
    "yrule = rrulewrapper(YEARLY, interval=1)\n",
    "yloc = RRuleLocator(yrule)\n",
    "ax.xaxis.set_major_locator(yloc)\n",
    "plt.tick_params(which='both', length=10, width=1, direction='in',top=True,right=True)\n",
    "plt.grid(True)\n",
    "if SAVE:\n",
    "    plt.savefig(pdir+ptit+\".png\")\n",
    "    plt.close()"
   ]
  },
  {
   "cell_type": "code",
   "execution_count": 7,
   "metadata": {},
   "outputs": [],
   "source": [
    "x = np['Date']\n",
    "mylim = (-50,50)\n",
    "y = np['WidMean']\n",
    "e = np['WidStdev']\n",
    "ylab = \"Change in ACD Mean Pedestal Width (TILES ONLY) (%)\"\n",
    "ptit=\"Trend_of_ACD_Mean_Pedestal_Width_for_TILES\"\n",
    "\n",
    "f,ax = plt.subplots(1, 1, figsize=(15,8))\n",
    "datemin = pd.to_datetime('2008-01-01')\n",
    "datemax = pd.to_datetime('2021-01-01')\n",
    "plt.xlim(datemin,datemax)\n",
    "plt.ylim(mylim)\n",
    "plt.plot(x,y,marker='o',color='b',linestyle='None')\n",
    "plt.errorbar(x,y,yerr=e,fmt='o',markersize=12)\n",
    "plt.title(ptit)\n",
    "plt.ylabel(ylab)\n",
    "yrule = rrulewrapper(YEARLY, interval=1)\n",
    "yloc = RRuleLocator(yrule)\n",
    "ax.xaxis.set_major_locator(yloc)\n",
    "plt.tick_params(which='both', length=10, width=1, direction='in',top=True,right=True)\n",
    "plt.grid(True)\n",
    "if SAVE:\n",
    "    plt.savefig(pdir+ptit+\".png\")\n",
    "    plt.close()"
   ]
  }
 ],
 "metadata": {
  "kernelspec": {
   "display_name": "Python [default]",
   "language": "python",
   "name": "python3"
  },
  "language_info": {
   "codemirror_mode": {
    "name": "ipython",
    "version": 3
   },
   "file_extension": ".py",
   "mimetype": "text/x-python",
   "name": "python",
   "nbconvert_exporter": "python",
   "pygments_lexer": "ipython3",
   "version": "3.5.6"
  }
 },
 "nbformat": 4,
 "nbformat_minor": 1
}
