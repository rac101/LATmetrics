{
 "cells": [
  {
   "cell_type": "markdown",
   "metadata": {},
   "source": [
    "# Running SGP4 to calculate and plot Fermi beta angle"
   ]
  },
  {
   "cell_type": "markdown",
   "metadata": {},
   "source": [
    "### <span style=\"color:red; font-family:Georgia;\">Robert Cameron, July 2015</span>"
   ]
  },
  {
   "cell_type": "markdown",
   "metadata": {},
   "source": [
    "Based on the python implementation of SGP4 orbit propagator\n",
    "available at https://pypi.python.org/pypi/sgp4/"
   ]
  },
  {
   "cell_type": "code",
   "execution_count": 1,
   "metadata": {
    "collapsed": false
   },
   "outputs": [],
   "source": [
    "# specify the date range limits to calculate the beta angle for Fermi\n",
    "start = \"2016-2-08\" \n",
    "stop = \"2016-12-08\""
   ]
  },
  {
   "cell_type": "code",
   "execution_count": 2,
   "metadata": {
    "collapsed": false
   },
   "outputs": [
    {
     "name": "stderr",
     "output_type": "stream",
     "text": [
      "/Users/rac/anaconda/lib/python3.5/site-packages/IPython/html.py:14: ShimWarning: The `IPython.html` package has been deprecated. You should import from `notebook` instead. `IPython.html.widgets` has moved to `ipywidgets`.\n",
      "  \"`IPython.html.widgets` has moved to `ipywidgets`.\", ShimWarning)\n"
     ]
    }
   ],
   "source": [
    "import numpy as np\n",
    "from IPython.html.widgets import *\n",
    "from IPython.display import *\n",
    "%matplotlib inline\n",
    "import matplotlib.pyplot as plt\n",
    "plt.rc('figure', figsize = [12, 8])\n",
    "plt.rc('font', size = 16)\n",
    "import sys\n",
    "from os.path import expanduser\n",
    "HOME = expanduser(\"~\")\n",
    "sys.path.append(HOME+'/Documents/GLAST/sgp4-1.4')\n",
    "from sgp4.earth_gravity import wgs84\n",
    "from sgp4.io import twoline2rv\n",
    "from sgp4.ext import jday, invjday, days2mdhms\n",
    "import datetime as dt     \n",
    "today = str(dt.date.today())"
   ]
  },
  {
   "cell_type": "code",
   "execution_count": 3,
   "metadata": {
    "collapsed": false
   },
   "outputs": [],
   "source": [
    "tle = !tail -2 HOME+'/Documents/GLAST/FGST-TLE.txt'"
   ]
  },
  {
   "cell_type": "code",
   "execution_count": 4,
   "metadata": {
    "collapsed": false
   },
   "outputs": [
    {
     "data": {
      "text/plain": [
       "['tail: HOME+/Documents/GLAST/FGST-TLE.txt: No such file or directory']"
      ]
     },
     "execution_count": 4,
     "metadata": {},
     "output_type": "execute_result"
    }
   ],
   "source": [
    "tle"
   ]
  },
  {
   "cell_type": "code",
   "execution_count": 5,
   "metadata": {
    "collapsed": false
   },
   "outputs": [
    {
     "ename": "IndexError",
     "evalue": "list index out of range",
     "output_type": "error",
     "traceback": [
      "\u001b[0;31m---------------------------------------------------------------------------\u001b[0m",
      "\u001b[0;31mIndexError\u001b[0m                                Traceback (most recent call last)",
      "\u001b[0;32m<ipython-input-5-b661d347bb5c>\u001b[0m in \u001b[0;36m<module>\u001b[0;34m()\u001b[0m\n\u001b[0;32m----> 1\u001b[0;31m \u001b[0msatellite\u001b[0m \u001b[0;34m=\u001b[0m \u001b[0mtwoline2rv\u001b[0m\u001b[0;34m(\u001b[0m\u001b[0mtle\u001b[0m\u001b[0;34m[\u001b[0m\u001b[0;36m0\u001b[0m\u001b[0;34m]\u001b[0m\u001b[0;34m,\u001b[0m \u001b[0mtle\u001b[0m\u001b[0;34m[\u001b[0m\u001b[0;36m1\u001b[0m\u001b[0;34m]\u001b[0m\u001b[0;34m,\u001b[0m \u001b[0mwgs84\u001b[0m\u001b[0;34m)\u001b[0m\u001b[0;34m\u001b[0m\u001b[0m\n\u001b[0m",
      "\u001b[0;31mIndexError\u001b[0m: list index out of range"
     ]
    }
   ],
   "source": [
    "satellite = twoline2rv(tle[0], tle[1], wgs84)"
   ]
  },
  {
   "cell_type": "code",
   "execution_count": null,
   "metadata": {
    "collapsed": false
   },
   "outputs": [],
   "source": [
    "(y0,m0,d0) = map(int, start.split(\"-\"))\n",
    "jd0 = jday(y0,m0,d0,0,0,0)\n",
    "doy0 = jd0 - jday(y0,1,0,0,0,0)\n",
    "(y1,m1,d1) = map(int, stop.split(\"-\"))\n",
    "ndays = int(jday(y1,m1,d1,0,0,0)  - jd0)\n",
    "(y0, doy0, ndays)"
   ]
  },
  {
   "cell_type": "code",
   "execution_count": null,
   "metadata": {
    "collapsed": false
   },
   "outputs": [],
   "source": [
    "oformat = \"%4d %02d %02d %02d %02d %02d %12.5f %12.6f %12.6f %12.6f %8.3f\\n\"\n",
    "fo = open(\"beta_\"+today+\".txt\", \"w\")\n",
    "fdoypl = []\n",
    "betapl = []\n",
    "for day in range(ndays):\n",
    "    for hour in range(24):\n",
    "# add a small amount to the day number to ensure it is always a fraction of a second past the hour\n",
    "        dinc = day + hour/24.0 + 1.0e-9\n",
    "        jd = jd0 + dinc\n",
    "        fdoy = doy0 + dinc\n",
    "        (y,mon,d,h,m,s) = invjday(jd)    # need jd for the sun ephemeris\n",
    "        s = int(s)\n",
    "        fdoypl.append(fdoy)\n",
    "        pos, vel = satellite.propagate(y,mon,d,h,m,s)  # this is the key line to specify the date\n",
    "        pole = np.cross(pos,vel)\n",
    "        polelen = np.linalg.norm(pole)\n",
    "# calculate sun coordinates\n",
    "        n = jd - 2451545.0\n",
    "        L = (280.460 + 0.9856474 * n) % 360\n",
    "        g = np.radians((357.528 + 0.9856003 * n) % 360)\n",
    "        lamda = np.radians(L + 1.915 * np.sin(g) + 0.020 * np.sin(2*g))\n",
    "        epsilon = np.radians(23.439 - 0.0000004 * n)\n",
    "        Xsun = np.cos(lamda)\n",
    "        Ysun = np.cos(epsilon) * np.sin(lamda)\n",
    "        Zsun = np.sin(epsilon) * np.sin(lamda)\n",
    "        dotprod = np.dot([Xsun,Ysun,Zsun], pole)\n",
    "        beta = np.degrees(np.arcsin(dotprod/polelen))\n",
    "        betapl.append(beta)\n",
    "        fo.write(oformat % (y, mon, d, h, m, s, fdoy, pos[0], pos[1], pos[2], beta))\n",
    "fo.close()"
   ]
  },
  {
   "cell_type": "code",
   "execution_count": null,
   "metadata": {
    "collapsed": false
   },
   "outputs": [],
   "source": [
    "plt.ylim(-50, 50)\n",
    "plt.xlim(doy0, doy0+ndays)\n",
    "plt.minorticks_on()\n",
    "plt.xlabel(str(y0)+' Day of Year')\n",
    "plt.ylabel('beta (degrees)', color='b')\n",
    "plt.title(\"Beta Angle\")\n",
    "plt.plot(fdoypl, betapl, label = 'Beta angle')\n",
    "plt.plot([fdoypl[0],fdoypl[-1]],[0,0],'k')\n",
    "plt.plot([fdoypl[0],fdoypl[-1]],[45,45],'r')\n",
    "plt.plot([fdoypl[0],fdoypl[-1]],[-45,-45],'r')\n"
   ]
  },
  {
   "cell_type": "markdown",
   "metadata": {},
   "source": [
    "## Below is an interactive version of the plot, where you can slide the vertical cursor, to get the beta angle value at any DoY and hour of the day (HoD)\n",
    "\n",
    "The values of the DoY, HoD and corresponding beta angle for the cursor position are show below the plot."
   ]
  },
  {
   "cell_type": "code",
   "execution_count": null,
   "metadata": {
    "collapsed": false
   },
   "outputs": [],
   "source": [
    "fig, ax = plt.subplots()\n",
    "\n",
    "plt.ylim(-50, 50)\n",
    "plt.xlim(doy0, doy0+ndays)\n",
    "plt.minorticks_on()\n",
    "plt.xlabel(str(y0)+' Day of Year')\n",
    "plt.ylabel('beta (degrees)', color='b')\n",
    "plt.title(\"Beta Angle\")\n",
    "ax.plot(fdoypl, betapl, label = 'Beta angle')\n",
    "ax.plot([fdoypl[0],fdoypl[-1]],[0,0],'k')\n",
    "ax.plot([fdoypl[0],fdoypl[-1]],[45,45],'r')\n",
    "ax.plot([fdoypl[0],fdoypl[-1]],[-45,-45],'r')\n",
    "plt.close(fig)\n",
    "\n",
    "vline = ax.axvline(1)\n",
    "\n",
    "def get_val(idx):\n",
    "    xx = fdoypl[idx]\n",
    "    didx = int(xx)\n",
    "    hidx = xx*24 % 24\n",
    "    betaidx = betapl[idx]\n",
    "    vline.set_xdata((xx, xx))\n",
    "    display(fig)\n",
    "    print (\"DoY = %d, HoD = %d, Beta angle (deg) = %.3f\" % (didx, hidx, betaidx))\n",
    "\n",
    "interactive(get_val, idx=(0, ndays*24-1))"
   ]
  }
 ],
 "metadata": {
  "celltoolbar": "Raw Cell Format",
  "kernelspec": {
   "display_name": "Python 3",
   "language": "python",
   "name": "python3"
  },
  "language_info": {
   "codemirror_mode": {
    "name": "ipython",
    "version": 3
   },
   "file_extension": ".py",
   "mimetype": "text/x-python",
   "name": "python",
   "nbconvert_exporter": "python",
   "pygments_lexer": "ipython3",
   "version": "3.5.1"
  }
 },
 "nbformat": 4,
 "nbformat_minor": 0
}
