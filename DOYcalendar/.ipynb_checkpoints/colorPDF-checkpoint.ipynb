{
 "cells": [
  {
   "cell_type": "code",
   "execution_count": null,
   "metadata": {},
   "outputs": [],
   "source": [
    "from reportlab.lib import colors\n",
    "from reportlab.lib.pagesizes import letter\n",
    "from reportlab.platypus import SimpleDocTemplate, Table, TableStyle\n",
    " \n",
    "doc = SimpleDocTemplate(\"simple_table.pdf\", pagesize=letter)\n",
    "# container for the 'Flowable' objects\n",
    "elements = []\n",
    " \n",
    "data= [['00', '01', '02', '03', '04'],\n",
    "       ['10', '11', '12', '13', '14'],\n",
    "       ['20', '21', '22', '23', '24'],\n",
    "       ['30', '31', '32', '33', '34']]\n",
    "t=Table(data)\n",
    "t.setStyle(TableStyle([('BACKGROUND',(1,1),(-2,-2),colors.green),\n",
    "                       ('TEXTCOLOR',(0,0),(1,-1),colors.red)]))\n",
    "elements.append(t)\n",
    "# write the document to disk\n",
    "doc.build(elements)"
   ]
  }
 ],
 "metadata": {
  "kernelspec": {
   "display_name": "Python [conda env:anaconda]",
   "language": "python",
   "name": "conda-env-anaconda-py"
  },
  "language_info": {
   "codemirror_mode": {
    "name": "ipython",
    "version": 3
   },
   "file_extension": ".py",
   "mimetype": "text/x-python",
   "name": "python",
   "nbconvert_exporter": "python",
   "pygments_lexer": "ipython3",
   "version": "3.5.6"
  }
 },
 "nbformat": 4,
 "nbformat_minor": 2
}
