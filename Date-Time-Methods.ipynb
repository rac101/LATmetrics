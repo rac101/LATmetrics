{
 "cells": [
  {
   "cell_type": "code",
   "execution_count": null,
   "metadata": {},
   "outputs": [],
   "source": [
    "import time\n",
    "import calendar\n",
    "start = \"2018-01-01\"\n",
    "end = \"2018-04-01\"\n",
    "t_start = calendar.timegm(time.strptime(start, '%Y-%m-%d'))   # t_start is in Unix seconds (since start of 1970)\n",
    "t_end = calendar.timegm(time.strptime(end, '%Y-%m-%d'))      # t_end is in Unix seconds (since start of 1970)"
   ]
  },
  {
   "cell_type": "code",
   "execution_count": null,
   "metadata": {},
   "outputs": [],
   "source": [
    "import datetime as dt     \n",
    "today = str(dt.date.today())"
   ]
  },
  {
   "cell_type": "code",
   "execution_count": null,
   "metadata": {},
   "outputs": [],
   "source": [
    "from os.path import expanduser\n",
    "HOME = expanduser(\"~\")\n",
    "sys.path.append(HOME+'/Documents/GLAST/sgp4-1.4')\n",
    "from sgp4.earth_gravity import wgs84\n",
    "from sgp4.io import twoline2rv\n",
    "from sgp4.ext import jday, invjday, days2mdhms\n",
    "# The Fermi MOC and FSSC have the convention that the start of January 1 UTC = day-of-year (DOY) 1.0\n",
    "start = \"2018-01-01\" \n",
    "stop = \"2019-01-01\"\n",
    "(y0,m0,d0) = map(int, start.split(\"-\"))\n",
    "jd0 = jday(y0,m0,d0,0,0,0)\n",
    "doy0 = jd0 - jday(y0,1,0,0,0,0)\n",
    "# omit the following line to have the beta angle time scale agree with the MOC/FOT and the FSSC\n",
    "#doy0 -= 1       ##### include this line to have the start of the year at Day-Of-Year = 0.0\n",
    "(y1,m1,d1) = map(int, stop.split(\"-\"))\n",
    "ndays = int(jday(y1,m1,d1,0,0,0)  - jd0)\n",
    "(y0, doy0, ndays)"
   ]
  }
 ],
 "metadata": {
  "kernelspec": {
   "display_name": "Python [conda root]",
   "language": "python",
   "name": "conda-root-py"
  },
  "language_info": {
   "codemirror_mode": {
    "name": "ipython",
    "version": 3
   },
   "file_extension": ".py",
   "mimetype": "text/x-python",
   "name": "python",
   "nbconvert_exporter": "python",
   "pygments_lexer": "ipython3",
   "version": "3.5.4"
  }
 },
 "nbformat": 4,
 "nbformat_minor": 2
}
