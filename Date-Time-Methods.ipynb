{
 "cells": [
  {
   "cell_type": "code",
   "execution_count": null,
   "metadata": {},
   "outputs": [],
   "source": [
    "from datetime import datetime\n",
    "startYMD = (2018,1,1)\n",
    "endYMD = (2018,4,1)\n",
    "#\n",
    "ylen = float(format(datetime(startYMD[0],12,31), '%j'))\n",
    "doy = float(format(datetime(startYMD[0],startYMD[1],startYMD[2]), '%j'))-1\n",
    "startFY = startYMD[0]+doy/ylen\n",
    "ylen = float(format(datetime(endYMD[0],12,31), '%j'))\n",
    "doy = float(format(datetime(endYMD[0],endYMD[1],endYMD[2]), '%j'))-1\n",
    "endFY = endYMD[0]+doy/ylen\n",
    "(startFY,endFY)"
   ]
  },
  {
   "cell_type": "code",
   "execution_count": 28,
   "metadata": {},
   "outputs": [
    {
     "data": {
      "image/png": "[encoded data removed]",
      "text/plain": [
       "<matplotlib.figure.Figure at 0x119922208>"
      ]
     },
     "metadata": {},
     "output_type": "display_data"
    }
   ],
   "source": [
    "import datetime as dt \n",
    "%matplotlib inline\n",
    "import matplotlib.pyplot as plt\n",
    "d = dt.timedelta(minutes=2)\n",
    "#d = dt.timedelta(hours=2)\n",
    "#d = dt.timedelta(days=2)\n",
    "#d = dt.timedelta(weeks=2)\n",
    "now =  dt.datetime.now()\n",
    "now = \"2018-01-01 00:00:00\"\n",
    "now = dt.datetime.strptime(now,\"%Y-%m-%d %H:%M:%S\")\n",
    "vals = range(200)\n",
    "times = [now + d * j for j in vals]\n",
    "\n",
    "fig, ax = plt.subplots(figsize = [11, 3])\n",
    "ax = plt.gca() # get the current axes\n",
    "ax.plot(times, vals)\n",
    "#ax.set_xlim(2018,2028)\n",
    "xax = ax.get_xaxis() # get the x-axis\n",
    "adf = xax.get_major_formatter() # the auto-formatter\n",
    "\n",
    "adf.scaled[1./24] = '%H:%M:%S'  # set the < 1d scale to H:M\n",
    "adf.scaled[1.0] = '%Y-%m-%d' # set the > 1d < 1m scale to Y-m-d\n",
    "adf.scaled[30.] = '%Y-%m-%d' # set the > 1m < 1Y scale to Y-m\n",
    "adf.scaled[365.] = '%Y' # set the > 1y scale to Y\n",
    "\n",
    "plt.draw()\n"
   ]
  },
  {
   "cell_type": "code",
   "execution_count": null,
   "metadata": {},
   "outputs": [],
   "source": [
    "import time\n",
    "import calendar\n",
    "start = \"2018-01-01\"\n",
    "end = \"2018-04-01\"\n",
    "t_start = calendar.timegm(time.strptime(start, '%Y-%m-%d'))   # t_start is in Unix seconds (since start of 1970)\n",
    "t_end = calendar.timegm(time.strptime(end, '%Y-%m-%d'))      # t_end is in Unix seconds (since start of 1970)"
   ]
  },
  {
   "cell_type": "code",
   "execution_count": null,
   "metadata": {},
   "outputs": [],
   "source": [
    "import datetime as dt     \n",
    "today = str(dt.date.today())"
   ]
  },
  {
   "cell_type": "code",
   "execution_count": null,
   "metadata": {},
   "outputs": [],
   "source": [
    "from os.path import expanduser\n",
    "HOME = expanduser(\"~\")\n",
    "sys.path.append(HOME+'/Documents/GLAST/sgp4-1.4')\n",
    "from sgp4.earth_gravity import wgs84\n",
    "from sgp4.io import twoline2rv\n",
    "from sgp4.ext import jday, invjday, days2mdhms\n",
    "# The Fermi MOC and FSSC have the convention that the start of January 1 UTC = day-of-year (DOY) 1.0\n",
    "start = \"2018-01-01\" \n",
    "stop = \"2019-01-01\"\n",
    "(y0,m0,d0) = map(int, start.split(\"-\"))\n",
    "jd0 = jday(y0,m0,d0,0,0,0)\n",
    "doy0 = jd0 - jday(y0,1,0,0,0,0)\n",
    "# omit the following line to have the beta angle time scale agree with the MOC/FOT and the FSSC\n",
    "#doy0 -= 1       ##### include this line to have the start of the year at Day-Of-Year = 0.0\n",
    "(y1,m1,d1) = map(int, stop.split(\"-\"))\n",
    "ndays = int(jday(y1,m1,d1,0,0,0)  - jd0)\n",
    "(y0, doy0, ndays)"
   ]
  }
 ],
 "metadata": {
  "kernelspec": {
   "display_name": "Python [conda root]",
   "language": "python",
   "name": "conda-root-py"
  },
  "language_info": {
   "codemirror_mode": {
    "name": "ipython",
    "version": 3
   },
   "file_extension": ".py",
   "mimetype": "text/x-python",
   "name": "python",
   "nbconvert_exporter": "python",
   "pygments_lexer": "ipython3",
   "version": "3.5.4"
  }
 },
 "nbformat": 4,
 "nbformat_minor": 2
}
