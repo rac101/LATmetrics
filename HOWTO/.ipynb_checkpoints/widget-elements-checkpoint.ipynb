{
 "cells": [
  {
   "cell_type": "code",
   "execution_count": 123,
   "metadata": {
    "collapsed": false
   },
   "outputs": [
    {
     "data": {
      "text/plain": [
       "['AccordionWidget',\n",
       " 'BoundedFloatTextWidget',\n",
       " 'BoundedIntTextWidget',\n",
       " 'ButtonWidget',\n",
       " 'CheckboxWidget',\n",
       " 'ContainerWidget',\n",
       " 'DOMWidget',\n",
       " 'DropdownWidget',\n",
       " 'FloatProgressWidget',\n",
       " 'FloatSliderWidget',\n",
       " 'FloatTextWidget',\n",
       " 'HTMLWidget',\n",
       " 'ImageWidget',\n",
       " 'IntProgressWidget',\n",
       " 'IntSliderWidget',\n",
       " 'IntTextWidget',\n",
       " 'LatexWidget',\n",
       " 'RadioButtonsWidget',\n",
       " 'SelectWidget',\n",
       " 'TabWidget',\n",
       " 'TextWidget',\n",
       " 'TextareaWidget',\n",
       " 'ToggleButtonWidget',\n",
       " 'ToggleButtonsWidget',\n",
       " 'Widget']"
      ]
     },
     "execution_count": 123,
     "metadata": {},
     "output_type": "execute_result"
    }
   ],
   "source": [
    "from IPython.html import widgets\n",
    "from IPython.display import *\n",
    "[widget for widget in dir(widgets) if widget.endswith('Widget')]"
   ]
  },
  {
   "cell_type": "code",
   "execution_count": 131,
   "metadata": {
    "collapsed": false
   },
   "outputs": [],
   "source": [
    "foo=widgets.IntSlider(slider_color = 'red')\n",
    "display(foo)"
   ]
  },
  {
   "cell_type": "code",
   "execution_count": 125,
   "metadata": {
    "collapsed": false
   },
   "outputs": [
    {
     "data": {
      "text/plain": [
       "{'_model_id': '3bc7b4637f4a42adaeec434237ac57a5',\n",
       " '_trait_dyn_inits': {'keys': '_keys_default', 'log': '_log_default'},\n",
       " '_trait_notifiers': {'border_color': [<function IPython.html.widgets.widget.DOMWidget.__init__.<locals>._validate_border>],\n",
       "  'border_style': [<function IPython.html.widgets.widget.DOMWidget.__init__.<locals>._validate_border>],\n",
       "  'border_width': [<function IPython.html.widgets.widget.DOMWidget.__init__.<locals>._validate_border>],\n",
       "  'max': [<bound method IntSlider._handle_max_changed of <IPython.html.widgets.widget_int.IntSlider object at 0x104ec7898>>],\n",
       "  'min': [<bound method IntSlider._handle_min_changed of <IPython.html.widgets.widget_int.IntSlider object at 0x104ec7898>>],\n",
       "  'value': [<bound method IntSlider._handle_value_changed of <IPython.html.widgets.widget_int.IntSlider object at 0x104ec7898>>]},\n",
       " '_trait_values': {'_css': (),\n",
       "  '_display_callbacks': <IPython.html.widgets.widget.CallbackDispatcher at 0x104ec7f28>,\n",
       "  '_dom_classes': (),\n",
       "  '_model_module': None,\n",
       "  '_model_name': 'WidgetModel',\n",
       "  '_msg_callbacks': <IPython.html.widgets.widget.CallbackDispatcher at 0x104ec7208>,\n",
       "  '_property_lock': (None, None),\n",
       "  '_range': False,\n",
       "  '_send_state_lock': 0,\n",
       "  '_states_to_send': set(),\n",
       "  '_view_module': '',\n",
       "  '_view_name': 'IntSliderView',\n",
       "  'background_color': '',\n",
       "  'border_color': '',\n",
       "  'border_radius': '',\n",
       "  'border_style': '',\n",
       "  'border_width': '',\n",
       "  'color': '',\n",
       "  'comm': <IPython.kernel.comm.comm.Comm at 0x104ec7c88>,\n",
       "  'config': {},\n",
       "  'description': '',\n",
       "  'disabled': False,\n",
       "  'font_family': '',\n",
       "  'font_size': '',\n",
       "  'font_style': '',\n",
       "  'font_weight': '',\n",
       "  'height': '',\n",
       "  'keys': ['height',\n",
       "   'width',\n",
       "   'font_size',\n",
       "   'border_color',\n",
       "   'border_radius',\n",
       "   'background_color',\n",
       "   'msg_throttle',\n",
       "   'margin',\n",
       "   'color',\n",
       "   '_view_module',\n",
       "   'slider_color',\n",
       "   '_view_name',\n",
       "   'font_family',\n",
       "   'readout',\n",
       "   '_dom_classes',\n",
       "   'version',\n",
       "   'font_style',\n",
       "   'font_weight',\n",
       "   'padding',\n",
       "   'description',\n",
       "   'max',\n",
       "   'disabled',\n",
       "   'value',\n",
       "   'step',\n",
       "   'border_width',\n",
       "   'visible',\n",
       "   '_range',\n",
       "   'orientation',\n",
       "   'border_style',\n",
       "   '_css',\n",
       "   'min'],\n",
       "  'margin': '',\n",
       "  'max': 100,\n",
       "  'min': 0,\n",
       "  'msg_throttle': 3,\n",
       "  'orientation': 'horizontal',\n",
       "  'padding': '',\n",
       "  'parent': None,\n",
       "  'readout': True,\n",
       "  'slider_color': '',\n",
       "  'step': 1,\n",
       "  'value': 0,\n",
       "  'version': 0,\n",
       "  'visible': True,\n",
       "  'width': ''}}"
      ]
     },
     "execution_count": 125,
     "metadata": {},
     "output_type": "execute_result"
    }
   ],
   "source": [
    "foo.__dict__"
   ]
  },
  {
   "cell_type": "code",
   "execution_count": 119,
   "metadata": {
    "collapsed": false
   },
   "outputs": [
    {
     "data": {
      "text/plain": [
       "13"
      ]
     },
     "execution_count": 119,
     "metadata": {},
     "output_type": "execute_result"
    }
   ],
   "source": [
    "foo.value"
   ]
  },
  {
   "cell_type": "code",
   "execution_count": 120,
   "metadata": {
    "collapsed": true
   },
   "outputs": [],
   "source": [
    "myslide=widgets.FloatSlider(\n",
    "    value=7.5,\n",
    "    min=5.0,\n",
    "    max=10.0,\n",
    "    step=0.1,\n",
    "    description='Test:',\n",
    ")\n",
    "display(myslide)"
   ]
  },
  {
   "cell_type": "code",
   "execution_count": 121,
   "metadata": {
    "collapsed": false
   },
   "outputs": [
    {
     "data": {
      "text/plain": [
       "5.8"
      ]
     },
     "execution_count": 121,
     "metadata": {},
     "output_type": "execute_result"
    }
   ],
   "source": [
    "myslide.value"
   ]
  },
  {
   "cell_type": "code",
   "execution_count": 71,
   "metadata": {
    "collapsed": true
   },
   "outputs": [],
   "source": [
    "FloatSlider(\n",
    "    value=7.5,\n",
    "    min=5.0,\n",
    "    max=10.0,\n",
    "    step=0.1,\n",
    "    description='Test',\n",
    "    orientation='vertical',\n",
    ")"
   ]
  },
  {
   "cell_type": "code",
   "execution_count": 72,
   "metadata": {
    "collapsed": true
   },
   "outputs": [],
   "source": [
    "FloatProgress(\n",
    "    value=7.5,\n",
    "    min=5.0,\n",
    "    max=10.0,\n",
    "    step=0.1,\n",
    "    description='Loading:',\n",
    ")"
   ]
  },
  {
   "cell_type": "code",
   "execution_count": 73,
   "metadata": {
    "collapsed": true
   },
   "outputs": [],
   "source": [
    "BoundedFloatText(\n",
    "    value=7.5,\n",
    "    min=5.0,\n",
    "    max=10.0,\n",
    "    description='Bounded Values:',\n",
    ")"
   ]
  },
  {
   "cell_type": "code",
   "execution_count": 74,
   "metadata": {
    "collapsed": true
   },
   "outputs": [],
   "source": [
    "FloatText(\n",
    "    value=7.5,\n",
    "    description='Any value:',\n",
    ")"
   ]
  },
  {
   "cell_type": "code",
   "execution_count": 75,
   "metadata": {
    "collapsed": true
   },
   "outputs": [],
   "source": [
    "ToggleButton(\n",
    "    description='Click me',\n",
    "    value=False,\n",
    ")"
   ]
  },
  {
   "cell_type": "code",
   "execution_count": 76,
   "metadata": {
    "collapsed": true
   },
   "outputs": [],
   "source": [
    "Checkbox(\n",
    "    description='Check me',\n",
    "    value=True,\n",
    ")"
   ]
  },
  {
   "cell_type": "code",
   "execution_count": 107,
   "metadata": {
    "collapsed": true
   },
   "outputs": [],
   "source": [
    "from IPython.display import display\n",
    "w = Dropdown(\n",
    "    options=['1', '2', '3'],\n",
    "    value='2',\n",
    "    description='Picklist:',\n",
    ")\n",
    "display(w)"
   ]
  },
  {
   "cell_type": "code",
   "execution_count": 106,
   "metadata": {
    "collapsed": false
   },
   "outputs": [
    {
     "data": {
      "text/plain": [
       "7.5"
      ]
     },
     "execution_count": 106,
     "metadata": {},
     "output_type": "execute_result"
    }
   ],
   "source": [
    "w.value"
   ]
  },
  {
   "cell_type": "code",
   "execution_count": 79,
   "metadata": {
    "collapsed": true
   },
   "outputs": [],
   "source": [
    "RadioButtons(\n",
    "    description='Pizza topping:',\n",
    "    options=['pepperoni', 'pineapple', 'anchovies'],\n",
    ")"
   ]
  },
  {
   "cell_type": "code",
   "execution_count": 80,
   "metadata": {
    "collapsed": true
   },
   "outputs": [],
   "source": [
    "ToggleButtons(\n",
    "    description='Speed:',\n",
    "    options=['Slow', 'Regular', 'Fast'],\n",
    ")"
   ]
  },
  {
   "cell_type": "code",
   "execution_count": 81,
   "metadata": {
    "collapsed": true
   },
   "outputs": [],
   "source": [
    "Select(\n",
    "    description='OS:',\n",
    "    options=['Linux', 'Windows', 'OSX'],\n",
    ")"
   ]
  },
  {
   "cell_type": "code",
   "execution_count": 82,
   "metadata": {
    "collapsed": true
   },
   "outputs": [],
   "source": [
    "w = SelectMultiple(\n",
    "    description=\"Fruits\",\n",
    "    options=['Apples', 'Oranges', 'Pears']\n",
    ")\n",
    "display(w)"
   ]
  },
  {
   "cell_type": "code",
   "execution_count": 83,
   "metadata": {
    "collapsed": false
   },
   "outputs": [
    {
     "data": {
      "text/plain": [
       "('Apples',)"
      ]
     },
     "execution_count": 83,
     "metadata": {},
     "output_type": "execute_result"
    }
   ],
   "source": [
    "w.value"
   ]
  },
  {
   "cell_type": "code",
   "execution_count": 84,
   "metadata": {
    "collapsed": true
   },
   "outputs": [],
   "source": [
    "Text(\n",
    "    description='String:',\n",
    "    value='Hello World',\n",
    ")"
   ]
  },
  {
   "cell_type": "code",
   "execution_count": 85,
   "metadata": {
    "collapsed": true
   },
   "outputs": [],
   "source": [
    "Textarea(\n",
    "    description='String:',\n",
    "    value='Hello Worlds',\n",
    ")"
   ]
  },
  {
   "cell_type": "code",
   "execution_count": 86,
   "metadata": {
    "collapsed": true
   },
   "outputs": [],
   "source": [
    "Latex(\n",
    "    value=\"$$\\\\frac{n!}{k!(n-k)!} = \\\\binom{n}{k}$$\",\n",
    ")"
   ]
  },
  {
   "cell_type": "code",
   "execution_count": 87,
   "metadata": {
    "collapsed": true
   },
   "outputs": [],
   "source": [
    "Latex(\n",
    "    value=\"$$\\\\frac{n!}{k!(n-k)!} = \\\\binom{n}{k}$$\",\n",
    ")"
   ]
  },
  {
   "cell_type": "code",
   "execution_count": 88,
   "metadata": {
    "collapsed": true
   },
   "outputs": [],
   "source": [
    "HTML(\n",
    "    value=\"Hello <b>World</b>\"\n",
    ")"
   ]
  },
  {
   "cell_type": "code",
   "execution_count": 89,
   "metadata": {
    "collapsed": false
   },
   "outputs": [],
   "source": [
    "Button(description='Click me')"
   ]
  },
  {
   "cell_type": "code",
   "execution_count": null,
   "metadata": {
    "collapsed": true
   },
   "outputs": [],
   "source": []
  },
  {
   "cell_type": "code",
   "execution_count": null,
   "metadata": {
    "collapsed": true
   },
   "outputs": [],
   "source": []
  }
 ],
 "metadata": {
  "kernelspec": {
   "display_name": "Python 3",
   "language": "python",
   "name": "python3"
  },
  "language_info": {
   "codemirror_mode": {
    "name": "ipython",
    "version": 3
   },
   "file_extension": ".py",
   "mimetype": "text/x-python",
   "name": "python",
   "nbconvert_exporter": "python",
   "pygments_lexer": "ipython3",
   "version": "3.4.3"
  }
 },
 "nbformat": 4,
 "nbformat_minor": 0
}
