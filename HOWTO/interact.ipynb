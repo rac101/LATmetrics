{
 "cells": [
  {
   "cell_type": "markdown",
   "metadata": {},
   "source": [
    "from:\n",
    "       https://github.com/ipython/ipython/blob/master/examples/Interactive%20Widgets/Using%20Interact.ipynb"
   ]
  },
  {
   "cell_type": "code",
   "execution_count": 3,
   "metadata": {},
   "outputs": [
    {
     "name": "stderr",
     "output_type": "stream",
     "text": [
      "/Users/rac/anaconda/lib/python3.5/site-packages/IPython/html.py:14: ShimWarning: The `IPython.html` package has been deprecated since IPython 4.0. You should import from `notebook` instead. `IPython.html.widgets` has moved to `ipywidgets`.\n",
      "  \"`IPython.html.widgets` has moved to `ipywidgets`.\", ShimWarning)\n"
     ]
    }
   ],
   "source": [
    "from IPython.html.widgets import *\n",
    "from IPython.display import *\n",
    "%matplotlib inline\n",
    "import matplotlib.pyplot as plt\n",
    "import numpy as np"
   ]
  },
  {
   "cell_type": "code",
   "execution_count": 4,
   "metadata": {},
   "outputs": [
    {
     "data": {
      "application/vnd.jupyter.widget-view+json": {
       "model_id": "6f668a20a42348268b9294f07601863d",
       "version_major": 2,
       "version_minor": 0
      },
      "text/plain": [
       "interactive(children=(FloatSlider(value=5.0, description='x', max=9.0, min=1.0, step=0.01), FloatSlider(value=…"
      ]
     },
     "metadata": {},
     "output_type": "display_data"
    },
    {
     "data": {
      "text/plain": [
       "<function __main__.set_cursor(x, y)>"
      ]
     },
     "execution_count": 4,
     "metadata": {},
     "output_type": "execute_result"
    }
   ],
   "source": [
    "fig, ax = plt.subplots()\n",
    "ax.plot([3,1,2,4,0,5,3,2,0,2,4],\"o\")\n",
    "plt.close(fig)\n",
    "\n",
    "vline = ax.axvline(1)\n",
    "hline = ax.axhline(0.5)\n",
    "\n",
    "def set_cursor(x, y):\n",
    "    vline.set_xdata((x, x))\n",
    "    hline.set_ydata((y, y))\n",
    "    display(fig)\n",
    "\n",
    "interact(set_cursor, x=(1, 9, 0.01), y=(0, 5, 0.01))"
   ]
  },
  {
   "cell_type": "code",
   "execution_count": null,
   "metadata": {},
   "outputs": [],
   "source": [
    "interact(r, foo=(0,10,0.1))\n",
    "r=FloatText(\n",
    "    value=foo,\n",
    "    description='slider:',\n",
    ")"
   ]
  },
  {
   "cell_type": "code",
   "execution_count": null,
   "metadata": {},
   "outputs": [],
   "source": [
    "x = np.linspace(0, 40, 200)\n",
    "y = np.sin(x)*5\n",
    "\n",
    "fig, ax = plt.subplots()\n",
    "ax.plot(x,y,\".-\")\n",
    "plt.close(fig)\n",
    "\n",
    "vline = ax.axvline(1)\n",
    "hline = ax.axhline(0.5)\n",
    "\n",
    "def set_cursor(x, y):\n",
    "    vline.set_xdata((x, x))\n",
    "    hline.set_ydata((y, y))\n",
    "    display(fig)\n",
    "\n",
    "interact(set_cursor, x=(1, 19, 0.01), y=(0, 5, 0.01))"
   ]
  },
  {
   "cell_type": "code",
   "execution_count": null,
   "metadata": {},
   "outputs": [],
   "source": [
    "x = np.linspace(0, 10, 100)\n",
    "y = np.sin(x)*5\n",
    "\n",
    "fig, ax = plt.subplots()\n",
    "ax.plot(x,y,\".-\")\n",
    "plt.close(fig)\n",
    "\n",
    "vline = ax.axvline(1)\n",
    "\n",
    "def set_cursor(x):\n",
    "    vline.set_xdata((x, x))\n",
    "    display(fig)\n",
    "\n",
    "interact(set_cursor, x=(0, 10, 0.1))"
   ]
  },
  {
   "cell_type": "code",
   "execution_count": null,
   "metadata": {},
   "outputs": [],
   "source": [
    "x = np.linspace(0, 40, 100)\n",
    "y = np.sin(x)*5\n",
    "\n",
    "def set_range(imin, imax):\n",
    "    plt.ylim(-6, 6)\n",
    "    plt.xlim(0, 40)\n",
    "    plt.plot(x[imin:imax], y[imin:imax], '.-')\n",
    "    plt.title('Min='+str(imin)+'     Max='+str(imax))\n",
    "#set_range(0,100)\n",
    "interact(set_range, imin=(0, 20), imax=(80, 100))"
   ]
  },
  {
   "cell_type": "code",
   "execution_count": null,
   "metadata": {},
   "outputs": [],
   "source": [
    "@interact(x=(0.0,20.0,0.5))\n",
    "def h(x=5.5):\n",
    "    print(x)"
   ]
  },
  {
   "cell_type": "code",
   "execution_count": null,
   "metadata": {},
   "outputs": [],
   "source": [
    "x = np.linspace(0, 40, 200)\n",
    "y = np.sin(x)*5\n",
    "\n",
    "fig, ax = plt.subplots()\n",
    "ax.plot(x,y,\".-\")\n",
    "plt.close(fig)\n",
    "\n",
    "vline = ax.axvline(1)\n",
    "\n",
    "def set_cursor(idx):\n",
    "    vline.set_xdata((x[idx], x[idx]))\n",
    "    display(fig)\n",
    "    xx = x[idx]\n",
    "    yy = y[idx]\n",
    "    return xx, yy\n",
    "\n",
    "interact((xxx,yyy)=set_cursor, idx=(0, 199))\n",
    "def h(idx=55):\n",
    "    print(idx, xxx, yyy)"
   ]
  },
  {
   "cell_type": "code",
   "execution_count": null,
   "metadata": {},
   "outputs": [],
   "source": [
    "@interact\n",
    "def f(n=(0,10), x=TextWidget('hi')):\n",
    "    print (n, x)"
   ]
  },
  {
   "cell_type": "code",
   "execution_count": null,
   "metadata": {},
   "outputs": [],
   "source": []
  }
 ],
 "metadata": {
  "kernelspec": {
   "display_name": "Python [default]",
   "language": "python",
   "name": "python3"
  },
  "language_info": {
   "codemirror_mode": {
    "name": "ipython",
    "version": 3
   },
   "file_extension": ".py",
   "mimetype": "text/x-python",
   "name": "python",
   "nbconvert_exporter": "python",
   "pygments_lexer": "ipython3",
   "version": "3.5.6"
  }
 },
 "nbformat": 4,
 "nbformat_minor": 1
}
