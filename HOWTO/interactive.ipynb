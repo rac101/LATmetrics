{
 "cells": [
  {
   "cell_type": "markdown",
   "metadata": {},
   "source": [
    "from:\n",
    "       https://github.com/ipython/ipython/blob/master/examples/Interactive%20Widgets/Using%20Interact.ipynb"
   ]
  },
  {
   "cell_type": "code",
   "execution_count": 2,
   "metadata": {
    "collapsed": false
   },
   "outputs": [
    {
     "name": "stderr",
     "output_type": "stream",
     "text": [
      ":0: FutureWarning: IPython widgets are experimental and may change in the future.\n"
     ]
    }
   ],
   "source": [
    "from IPython.html.widgets import *\n",
    "from IPython.display import *\n",
    "%matplotlib inline\n",
    "import matplotlib.pyplot as plt\n",
    "import numpy as np\n",
    "\n",
    "#from IPython.html.widgets import interact, interactive, fixed\n",
    "#from IPython.html import widgets"
   ]
  },
  {
   "cell_type": "code",
   "execution_count": 5,
   "metadata": {
    "collapsed": false
   },
   "outputs": [
    {
     "data": {
      "text/plain": [
       "IPython.html.widgets.widget_box.Box"
      ]
     },
     "execution_count": 5,
     "metadata": {},
     "output_type": "execute_result"
    }
   ],
   "source": [
    "def f(a, b):\n",
    "    print (a,b,a+b)\n",
    "\n",
    "w = interactive(f, a=10, b=20)\n",
    "\n",
    "type(w)"
   ]
  },
  {
   "cell_type": "code",
   "execution_count": 6,
   "metadata": {
    "collapsed": false
   },
   "outputs": [
    {
     "name": "stdout",
     "output_type": "stream",
     "text": [
      "21 20 41\n"
     ]
    }
   ],
   "source": [
    "w.children\n",
    "display(w)"
   ]
  },
  {
   "cell_type": "code",
   "execution_count": 14,
   "metadata": {
    "collapsed": false
   },
   "outputs": [
    {
     "data": {
      "image/png": "[encoded data removed]",
      "text/plain": [
       "<matplotlib.figure.Figure at 0x106deac18>"
      ]
     },
     "metadata": {},
     "output_type": "display_data"
    },
    {
     "name": "stdout",
     "output_type": "stream",
     "text": [
      "X-axis value = 4, Y-axis value = -5.000\n"
     ]
    }
   ],
   "source": [
    "x = np.linspace(0, 10, 101)\n",
    "y = np.sin(x)*5\n",
    "\n",
    "fig, ax = plt.subplots()\n",
    "ax.plot(x,y,\".-\")\n",
    "plt.close(fig)\n",
    "\n",
    "vline = ax.axvline(1)\n",
    "\n",
    "def get_val(idx):\n",
    "    xx = x[idx]\n",
    "    yy = y[idx]\n",
    "    vline.set_xdata((xx, xx))\n",
    "    display(fig)\n",
    "    print (\"X-axis value = %d, Y-axis value = %.3f\" % (xx, yy))\n",
    "\n",
    "interactive(get_val, idx=(0, 100))"
   ]
  },
  {
   "cell_type": "code",
   "execution_count": 33,
   "metadata": {
    "collapsed": false
   },
   "outputs": [
    {
     "data": {
      "text/plain": [
       "<function __main__.set_range>"
      ]
     },
     "execution_count": 33,
     "metadata": {},
     "output_type": "execute_result"
    },
    {
     "data": {
      "image/png": "[encoded data removed]",
      "text/plain": [
       "<matplotlib.figure.Figure at 0x106848358>"
      ]
     },
     "metadata": {},
     "output_type": "display_data"
    }
   ],
   "source": [
    "x = np.linspace(0, 40, 100)\n",
    "y = np.sin(x)*5\n",
    "\n",
    "def set_range(imin, imax):\n",
    "    plt.ylim(-6, 6)\n",
    "    plt.xlim(0, 40)\n",
    "    plt.plot(x[imin:imax], y[imin:imax], '.-')\n",
    "    plt.title('Min='+str(imin)+'     Max='+str(imax))\n",
    "#set_range(0,100)\n",
    "interact(set_range, imin=(0, 20), imax=(80, 100))"
   ]
  },
  {
   "cell_type": "code",
   "execution_count": 22,
   "metadata": {
    "collapsed": false
   },
   "outputs": [
    {
     "name": "stdout",
     "output_type": "stream",
     "text": [
      "7.0\n"
     ]
    }
   ],
   "source": [
    "@interact(x=(0.0,20.0,0.5))\n",
    "def h(x=5.5):\n",
    "    print(x)"
   ]
  },
  {
   "cell_type": "code",
   "execution_count": 26,
   "metadata": {
    "collapsed": false
   },
   "outputs": [
    {
     "name": "stdout",
     "output_type": "stream",
     "text": [
      "2 hillo\n"
     ]
    }
   ],
   "source": [
    "@interact\n",
    "def f(n=(0,10), x=TextWidget('hi')):\n",
    "    print (n, x)"
   ]
  },
  {
   "cell_type": "code",
   "execution_count": null,
   "metadata": {
    "collapsed": true
   },
   "outputs": [],
   "source": []
  }
 ],
 "metadata": {
  "kernelspec": {
   "display_name": "Python 3",
   "language": "python",
   "name": "python3"
  },
  "language_info": {
   "codemirror_mode": {
    "name": "ipython",
    "version": 3
   },
   "file_extension": ".py",
   "mimetype": "text/x-python",
   "name": "python",
   "nbconvert_exporter": "python",
   "pygments_lexer": "ipython3",
   "version": "3.4.3"
  }
 },
 "nbformat": 4,
 "nbformat_minor": 0
}
