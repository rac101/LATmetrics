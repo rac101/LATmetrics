{
 "cells": [
  {
   "cell_type": "markdown",
   "metadata": {},
   "source": [
    "\n",
    "# Precessing Jet - Interactive 3D View\n",
    "### Robert Cameron\n",
    "### March 2016\n",
    "\n",
    "\n",
    "Implement the precessing jet model of\n",
    "Vincent Icke, 1981, Ap.J. (Letters), 246, L65.\n",
    "Output stereo views to see a 3D view of the trajectory."
   ]
  },
  {
   "cell_type": "code",
   "execution_count": 1,
   "metadata": {},
   "outputs": [],
   "source": [
    "import matplotlib.pyplot as plt\n",
    "from numpy import sin, cos, radians, sqrt, linspace, exp, pi, append\n",
    "%matplotlib inline\n",
    "from ipywidgets import *\n",
    "from IPython.display import *"
   ]
  },
  {
   "cell_type": "code",
   "execution_count": 2,
   "metadata": {},
   "outputs": [],
   "source": [
    "a = 90         # a = angle between precession cone axis and line-of-sight (degrees)\n",
    "b = 70         # b = angle between east and projection of precession cone axis on sky (degrees)\n",
    "theta = 16     # theta = half angle of precession cone (degrees)\n",
    "e = (1, 1, 100)  # e = (ex, ey, ez) = velocity of galaxy to the (West, North, Towards Observer\n",
    "t0 = 0         # t0 = phase of the jet precession (radians)\n",
    "u0 = 3         # u0 = jet velocity at the nucleus, in units of galaxy velocity relative to ICM\n",
    "n = 5.0        # n = number of precessions per stopping time\n",
    "\n",
    "a = radians(a)\n",
    "b = radians(b)\n",
    "theta = radians(theta)\n",
    "sina = sin(a)\n",
    "sinb = sin(b)\n",
    "cosa = cos(a)\n",
    "cosb = cos(b)\n",
    "sintheta = sin(theta)\n",
    "costheta = cos(theta)\n",
    "\n",
    "delta = 5     # delta is the angle between your eyes for the stereo projection (degrees)\n",
    "delta = radians(delta)\n",
    "sindelta = sin(delta)\n",
    "cosdelta = cos(delta)"
   ]
  },
  {
   "cell_type": "code",
   "execution_count": 3,
   "metadata": {},
   "outputs": [],
   "source": [
    "ex = e[0]\n",
    "ey = e[1]\n",
    "ez = e[2]\n",
    "\n",
    "# convert ex,ey,ez to eu,ev,ew\n",
    "\n",
    "eu = ex*cosa*cosb-ey*cosa*sinb+ez*sina\n",
    "ev = ex*sinb+ey*cosb\n",
    "ew =-ex*sina*cosb+ey*sina*sinb+ez*cosa\n",
    "\n",
    "# normalise e\n",
    "\n",
    "norme=sqrt(eu*eu+ev*ev+ew*ew)\n",
    "eu=eu/norme\n",
    "ev=ev/norme\n",
    "ew=ew/norme\n",
    "\n",
    "# run the dynamics for both jets\n",
    "\n",
    "t = linspace(0,3,61)\n",
    "expt=n*(1.0-exp(-t/n))\n",
    "cost = cos(2*pi*(t0-t))\n",
    "sint = sin(2*pi*(t0-t))"
   ]
  },
  {
   "cell_type": "code",
   "execution_count": 4,
   "metadata": {},
   "outputs": [],
   "source": [
    "# do one jet first\n",
    "\n",
    "su1=-eu*t+(u0*sintheta*cost+eu)*expt\n",
    "sv1=-ev*t+(u0*sintheta*sint+ev)*expt\n",
    "sw1=-ew*t+(u0*costheta+ew)*expt\n",
    "\n",
    "su1 = eu*t-(u0*sintheta*cost+eu)*expt\n",
    "sv1 = ev*t-(u0*sintheta*sint+ev)*expt\n",
    "sw1 = ew*t-(u0*costheta+ew)*expt\n",
    "\n",
    "# project onto the x,y,z axes\n",
    "\n",
    "x1= su1*cosa*cosb+sv1*sinb-sw1*sina*cosb\n",
    "y1=-su1*cosa*sinb+sv1*cosb+sw1*sina*sinb\n",
    "z1= su1*sina+sw1*cosa\n",
    "\n",
    "# project onto the x',y',z' axes\n",
    "\n",
    "xd1= x1*cosdelta+z1*sindelta\n",
    "yd1= y1\n",
    "zd1=-x1*sindelta+z1*cosdelta\n",
    "\n",
    "# now do the opposite jet\n",
    "\n",
    "su2=-eu*t-(u0*sintheta*cost-eu)*expt\n",
    "sv2=-ev*t-(u0*sintheta*sint-ev)*expt\n",
    "sw2=-ew*t-(u0*costheta-ew)*expt\n",
    "\n",
    "# project onto the x,y,z axes\n",
    "\n",
    "x2= su2*cosa*cosb+sv2*sinb-sw2*sina*cosb\n",
    "y2=-su2*cosa*sinb+sv2*cosb+sw2*sina*sinb\n",
    "z2= su2*sina+sw2*cosa\n",
    "\n",
    "# project onto the x',y',z' axes\n",
    "\n",
    "xd2= x2*cosdelta+z2*sindelta\n",
    "yd2= y2\n",
    "zd2=-x2*sindelta+z2*cosdelta"
   ]
  },
  {
   "cell_type": "code",
   "execution_count": 5,
   "metadata": {},
   "outputs": [],
   "source": [
    "xd = append(xd1[::-1], xd2)\n",
    "yd = append(yd1[::-1], yd2)\n",
    "zd = append(zd1[::-1], zd2)\n",
    "x = append(x1[::-1], x2)\n",
    "y = append(y1[::-1], y2)\n",
    "z = append(z1[::-1], z2)"
   ]
  },
  {
   "cell_type": "code",
   "execution_count": 6,
   "metadata": {},
   "outputs": [
    {
     "data": {
      "application/vnd.jupyter.widget-view+json": {
       "model_id": "22d8d2daada04011b2128af4b137e920",
       "version_major": 2,
       "version_minor": 0
      },
      "text/plain": [
       "interactive(children=(IntSlider(value=0, description='i', max=180, min=-180), Output()), _dom_classes=('widget…"
      ]
     },
     "metadata": {},
     "output_type": "display_data"
    },
    {
     "data": {
      "image/png": "[encoded data removed]",
      "text/plain": [
       "<Figure size 720x720 with 2 Axes>"
      ]
     },
     "metadata": {},
     "output_type": "display_data"
    }
   ],
   "source": [
    "fig2, (sp1, sp2) = plt.subplots(1, 2, subplot_kw=dict(frame_on=False),figsize=(10,10))\n",
    "jet1, = sp1.plot(x,y,'o')\n",
    "jet2, = sp2.plot(xd,y,'o')\n",
    "sp1.axis('off')\n",
    "sp2.axis('off')\n",
    "sp1.set_xlim(-5,4)\n",
    "sp2.set_xlim(-5,4)\n",
    "sp1.set_ylim(-8,8)\n",
    "sp2.set_ylim(-8,8)\n",
    "\n",
    "def update(i):\n",
    "    t0 = radians(i)\n",
    "    cost = cos(2*pi*(t0-t))\n",
    "    sint = sin(2*pi*(t0-t))\n",
    "    \n",
    "    a = radians(i+90)\n",
    "    sina = sin(a)\n",
    "    cosa = cos(a)\n",
    "       \n",
    "    # do one jet first\n",
    "\n",
    "    su1=-eu*t+(u0*sintheta*cost+eu)*expt\n",
    "    sv1=-ev*t+(u0*sintheta*sint+ev)*expt\n",
    "    sw1=-ew*t+(u0*costheta+ew)*expt\n",
    "    \n",
    "    # project onto the x,y,z axes\n",
    "\n",
    "    x1= su1*cosa*cosb+sv1*sinb-sw1*sina*cosb\n",
    "    y1=-su1*cosa*sinb+sv1*cosb+sw1*sina*sinb\n",
    "    z1= su1*sina+sw1*cosa\n",
    "\n",
    "    # project onto the x',y',z' axes\n",
    "\n",
    "    xd1= x1*cosdelta+z1*sindelta\n",
    "    yd1= y1\n",
    "#    zd1=-x1*sindelta+z1*cosdelta\n",
    "\n",
    "    # now do the opposite jet\n",
    "\n",
    "    su2=-eu*t-(u0*sintheta*cost-eu)*expt\n",
    "    sv2=-ev*t-(u0*sintheta*sint-ev)*expt\n",
    "    sw2=-ew*t-(u0*costheta-ew)*expt\n",
    "\n",
    "    # project onto the x,y,z axes\n",
    "\n",
    "    x2= su2*cosa*cosb+sv2*sinb-sw2*sina*cosb\n",
    "    y2=-su2*cosa*sinb+sv2*cosb+sw2*sina*sinb\n",
    "    z2= su2*sina+sw2*cosa\n",
    "\n",
    "    # project onto the x',y',z' axes\n",
    "\n",
    "    xd2= x2*cosdelta+z2*sindelta\n",
    "    yd2= y2\n",
    "#   zd2=-x2*sindelta+z2*cosdelta\n",
    "    \n",
    "    xd = append(xd1[::-1], xd2)\n",
    "    yd = append(yd1[::-1], yd2)\n",
    "#    zd = append(zd1[::-1], zd2)\n",
    "    x = append(x1[::-1], x2)\n",
    "    y = append(y1[::-1], y2)\n",
    "#    z = append(z1[::-1], z2)\n",
    "\n",
    "    jet1.set_xdata(x)\n",
    "    jet1.set_ydata(y)\n",
    "    jet2.set_xdata(xd)\n",
    "    jet2.set_ydata(y)\n",
    "\n",
    "    display(fig2)\n",
    "                \n",
    "interactive(update, i=(-180, 180))"
   ]
  }
 ],
 "metadata": {
  "kernelspec": {
   "display_name": "Python [default]",
   "language": "python",
   "name": "python3"
  },
  "language_info": {
   "codemirror_mode": {
    "name": "ipython",
    "version": 3
   },
   "file_extension": ".py",
   "mimetype": "text/x-python",
   "name": "python",
   "nbconvert_exporter": "python",
   "pygments_lexer": "ipython3",
   "version": "3.5.5"
  }
 },
 "nbformat": 4,
 "nbformat_minor": 1
}
