{
 "cells": [
  {
   "cell_type": "code",
   "execution_count": 1,
   "metadata": {
    "collapsed": true
   },
   "outputs": [],
   "source": [
    "import simplejson as json\n",
    "#import json\n",
    "import yaml"
   ]
  },
  {
   "cell_type": "code",
   "execution_count": 2,
   "metadata": {
    "collapsed": true
   },
   "outputs": [],
   "source": [
    "# read in a JSON file into a python data structure\n",
    "\n",
    "f = open('sgp4-beta.ipynb', 'r')\n",
    "jsonData = json.load(f)\n",
    "f.close()"
   ]
  },
  {
   "cell_type": "code",
   "execution_count": 3,
   "metadata": {
    "collapsed": false
   },
   "outputs": [
    {
     "name": "stderr",
     "output_type": "stream",
     "text": [
      "ERROR: Cell magic `%%ignore` not found.\n"
     ]
    }
   ],
   "source": [
    "%%ignore\n",
    "ff = open('/Users/rc/Desktop/json2.yaml', 'w+')\n",
    "#yamlData = {'cells':'', 'metadata':''}\n",
    "yamlData['cells'] = jsonData['cells']\n",
    "yamlData['metadata'] = jsonData['metadata']\n",
    "yaml.dump(yamlData, ff)\n",
    "ff.close()"
   ]
  },
  {
   "cell_type": "code",
   "execution_count": 4,
   "metadata": {
    "collapsed": true
   },
   "outputs": [],
   "source": [
    "# output the python data structure as YAML to a file\n",
    "\n",
    "ff = open('/Users/rc/Desktop/json5.yaml', 'w+')\n",
    "yaml.dump(jsonData, ff)\n",
    "ff.close()"
   ]
  }
 ],
 "metadata": {
  "kernelspec": {
   "display_name": "Python 3",
   "language": "python",
   "name": "python3"
  },
  "language_info": {
   "codemirror_mode": {
    "name": "ipython",
    "version": 3
   },
   "file_extension": ".py",
   "mimetype": "text/x-python",
   "name": "python",
   "nbconvert_exporter": "python",
   "pygments_lexer": "ipython3",
   "version": "3.5.1"
  }
 },
 "nbformat": 4,
 "nbformat_minor": 0
}
