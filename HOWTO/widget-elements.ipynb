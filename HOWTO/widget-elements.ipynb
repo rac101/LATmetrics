{
 "cells": [
  {
   "cell_type": "code",
   "execution_count": 2,
   "metadata": {},
   "outputs": [],
   "source": [
    "import ipywidgets\n",
    "import notebook"
   ]
  },
  {
   "cell_type": "code",
   "execution_count": 46,
   "metadata": {},
   "outputs": [
    {
     "data": {
      "text/plain": [
       "{'Accordion': ipywidgets.widgets.widget_selectioncontainer.Accordion,\n",
       " 'Audio': ipywidgets.widgets.widget_media.Audio,\n",
       " 'BoundedFloatText': ipywidgets.widgets.widget_float.BoundedFloatText,\n",
       " 'BoundedIntText': ipywidgets.widgets.widget_int.BoundedIntText,\n",
       " 'Box': ipywidgets.widgets.widget_box.Box,\n",
       " 'Button': ipywidgets.widgets.widget_button.Button,\n",
       " 'ButtonStyle': ipywidgets.widgets.widget_button.ButtonStyle,\n",
       " 'CallbackDispatcher': ipywidgets.widgets.widget.CallbackDispatcher,\n",
       " 'Checkbox': ipywidgets.widgets.widget_bool.Checkbox,\n",
       " 'Color': ipywidgets.widgets.trait_types.Color,\n",
       " 'ColorPicker': ipywidgets.widgets.widget_color.ColorPicker,\n",
       " 'Controller': ipywidgets.widgets.widget_controller.Controller,\n",
       " 'CoreWidget': ipywidgets.widgets.widget_core.CoreWidget,\n",
       " 'DOMWidget': ipywidgets.widgets.domwidget.DOMWidget,\n",
       " 'DatePicker': ipywidgets.widgets.widget_date.DatePicker,\n",
       " 'Datetime': ipywidgets.widgets.trait_types.Datetime,\n",
       " 'Dropdown': ipywidgets.widgets.widget_selection.Dropdown,\n",
       " 'FloatLogSlider': ipywidgets.widgets.widget_float.FloatLogSlider,\n",
       " 'FloatProgress': ipywidgets.widgets.widget_float.FloatProgress,\n",
       " 'FloatRangeSlider': ipywidgets.widgets.widget_float.FloatRangeSlider,\n",
       " 'FloatSlider': ipywidgets.widgets.widget_float.FloatSlider,\n",
       " 'FloatText': ipywidgets.widgets.widget_float.FloatText,\n",
       " 'GridBox': ipywidgets.widgets.widget_box.GridBox,\n",
       " 'HBox': ipywidgets.widgets.widget_box.HBox,\n",
       " 'HTML': ipywidgets.widgets.widget_string.HTML,\n",
       " 'HTMLMath': ipywidgets.widgets.widget_string.HTMLMath,\n",
       " 'Image': ipywidgets.widgets.widget_media.Image,\n",
       " 'IntProgress': ipywidgets.widgets.widget_int.IntProgress,\n",
       " 'IntRangeSlider': ipywidgets.widgets.widget_int.IntRangeSlider,\n",
       " 'IntSlider': ipywidgets.widgets.widget_int.IntSlider,\n",
       " 'IntText': ipywidgets.widgets.widget_int.IntText,\n",
       " 'Label': ipywidgets.widgets.widget_string.Label,\n",
       " 'Layout': ipywidgets.widgets.widget_layout.Layout,\n",
       " 'NumberFormat': ipywidgets.widgets.trait_types.NumberFormat,\n",
       " 'Output': ipywidgets.widgets.widget_output.Output,\n",
       " 'Password': ipywidgets.widgets.widget_string.Password,\n",
       " 'Play': ipywidgets.widgets.widget_int.Play,\n",
       " 'RadioButtons': ipywidgets.widgets.widget_selection.RadioButtons,\n",
       " 'Select': ipywidgets.widgets.widget_selection.Select,\n",
       " 'SelectMultiple': ipywidgets.widgets.widget_selection.SelectMultiple,\n",
       " 'SelectionRangeSlider': ipywidgets.widgets.widget_selection.SelectionRangeSlider,\n",
       " 'SelectionSlider': ipywidgets.widgets.widget_selection.SelectionSlider,\n",
       " 'SliderStyle': ipywidgets.widgets.widget_int.SliderStyle,\n",
       " 'Style': ipywidgets.widgets.widget_style.Style,\n",
       " 'Tab': ipywidgets.widgets.widget_selectioncontainer.Tab,\n",
       " 'Text': ipywidgets.widgets.widget_string.Text,\n",
       " 'Textarea': ipywidgets.widgets.widget_string.Textarea,\n",
       " 'ToggleButton': ipywidgets.widgets.widget_bool.ToggleButton,\n",
       " 'ToggleButtons': ipywidgets.widgets.widget_selection.ToggleButtons,\n",
       " 'ToggleButtonsStyle': ipywidgets.widgets.widget_selection.ToggleButtonsStyle,\n",
       " 'VBox': ipywidgets.widgets.widget_box.VBox,\n",
       " 'Valid': ipywidgets.widgets.widget_bool.Valid,\n",
       " 'ValueWidget': ipywidgets.widgets.valuewidget.ValueWidget,\n",
       " 'Video': ipywidgets.widgets.widget_media.Video,\n",
       " 'Widget': ipywidgets.widgets.widget.Widget,\n",
       " '__builtins__': {'ArithmeticError': ArithmeticError,\n",
       "  'AssertionError': AssertionError,\n",
       "  'AttributeError': AttributeError,\n",
       "  'BaseException': BaseException,\n",
       "  'BlockingIOError': BlockingIOError,\n",
       "  'BrokenPipeError': BrokenPipeError,\n",
       "  'BufferError': BufferError,\n",
       "  'BytesWarning': BytesWarning,\n",
       "  'ChildProcessError': ChildProcessError,\n",
       "  'ConnectionAbortedError': ConnectionAbortedError,\n",
       "  'ConnectionError': ConnectionError,\n",
       "  'ConnectionRefusedError': ConnectionRefusedError,\n",
       "  'ConnectionResetError': ConnectionResetError,\n",
       "  'DeprecationWarning': DeprecationWarning,\n",
       "  'EOFError': EOFError,\n",
       "  'Ellipsis': Ellipsis,\n",
       "  'EnvironmentError': OSError,\n",
       "  'Exception': Exception,\n",
       "  'False': False,\n",
       "  'FileExistsError': FileExistsError,\n",
       "  'FileNotFoundError': FileNotFoundError,\n",
       "  'FloatingPointError': FloatingPointError,\n",
       "  'FutureWarning': FutureWarning,\n",
       "  'GeneratorExit': GeneratorExit,\n",
       "  'IOError': OSError,\n",
       "  'ImportError': ImportError,\n",
       "  'ImportWarning': ImportWarning,\n",
       "  'IndentationError': IndentationError,\n",
       "  'IndexError': IndexError,\n",
       "  'InterruptedError': InterruptedError,\n",
       "  'IsADirectoryError': IsADirectoryError,\n",
       "  'KeyError': KeyError,\n",
       "  'KeyboardInterrupt': KeyboardInterrupt,\n",
       "  'LookupError': LookupError,\n",
       "  'MemoryError': MemoryError,\n",
       "  'NameError': NameError,\n",
       "  'None': None,\n",
       "  'NotADirectoryError': NotADirectoryError,\n",
       "  'NotImplemented': NotImplemented,\n",
       "  'NotImplementedError': NotImplementedError,\n",
       "  'OSError': OSError,\n",
       "  'OverflowError': OverflowError,\n",
       "  'PendingDeprecationWarning': PendingDeprecationWarning,\n",
       "  'PermissionError': PermissionError,\n",
       "  'ProcessLookupError': ProcessLookupError,\n",
       "  'RecursionError': RecursionError,\n",
       "  'ReferenceError': ReferenceError,\n",
       "  'ResourceWarning': ResourceWarning,\n",
       "  'RuntimeError': RuntimeError,\n",
       "  'RuntimeWarning': RuntimeWarning,\n",
       "  'StopAsyncIteration': StopAsyncIteration,\n",
       "  'StopIteration': StopIteration,\n",
       "  'SyntaxError': SyntaxError,\n",
       "  'SyntaxWarning': SyntaxWarning,\n",
       "  'SystemError': SystemError,\n",
       "  'SystemExit': SystemExit,\n",
       "  'TabError': TabError,\n",
       "  'TimeoutError': TimeoutError,\n",
       "  'True': True,\n",
       "  'TypeError': TypeError,\n",
       "  'UnboundLocalError': UnboundLocalError,\n",
       "  'UnicodeDecodeError': UnicodeDecodeError,\n",
       "  'UnicodeEncodeError': UnicodeEncodeError,\n",
       "  'UnicodeError': UnicodeError,\n",
       "  'UnicodeTranslateError': UnicodeTranslateError,\n",
       "  'UnicodeWarning': UnicodeWarning,\n",
       "  'UserWarning': UserWarning,\n",
       "  'ValueError': ValueError,\n",
       "  'Warning': Warning,\n",
       "  'ZeroDivisionError': ZeroDivisionError,\n",
       "  '__IPYTHON__': True,\n",
       "  '__build_class__': <function __build_class__>,\n",
       "  '__debug__': True,\n",
       "  '__doc__': \"Built-in functions, exceptions, and other objects.\\n\\nNoteworthy: None is the `nil' object; Ellipsis represents `...' in slices.\",\n",
       "  '__import__': <function __import__>,\n",
       "  '__loader__': _frozen_importlib.BuiltinImporter,\n",
       "  '__name__': 'builtins',\n",
       "  '__package__': '',\n",
       "  '__spec__': ModuleSpec(name='builtins', loader=<class '_frozen_importlib.BuiltinImporter'>),\n",
       "  'abs': <function abs(x, /)>,\n",
       "  'all': <function all(iterable, /)>,\n",
       "  'any': <function any(iterable, /)>,\n",
       "  'ascii': <function ascii(obj, /)>,\n",
       "  'bin': <function bin(number, /)>,\n",
       "  'bool': bool,\n",
       "  'bytearray': bytearray,\n",
       "  'bytes': bytes,\n",
       "  'callable': <function callable(obj, /)>,\n",
       "  'chr': <function chr(i, /)>,\n",
       "  'classmethod': classmethod,\n",
       "  'compile': <function compile(source, filename, mode, flags=0, dont_inherit=False, optimize=-1)>,\n",
       "  'complex': complex,\n",
       "  'copyright': Copyright (c) 2001-2018 Python Software Foundation.\n",
       "  All Rights Reserved.\n",
       "  \n",
       "  Copyright (c) 2000 BeOpen.com.\n",
       "  All Rights Reserved.\n",
       "  \n",
       "  Copyright (c) 1995-2001 Corporation for National Research Initiatives.\n",
       "  All Rights Reserved.\n",
       "  \n",
       "  Copyright (c) 1991-1995 Stichting Mathematisch Centrum, Amsterdam.\n",
       "  All Rights Reserved.,\n",
       "  'credits':     Thanks to CWI, CNRI, BeOpen.com, Zope Corporation and a cast of thousands\n",
       "      for supporting Python development.  See www.python.org for more information.,\n",
       "  'delattr': <function delattr(obj, name, /)>,\n",
       "  'dict': dict,\n",
       "  'dir': <function dir>,\n",
       "  'display': <function IPython.core.display.display(*objs, include=None, exclude=None, metadata=None, transient=None, display_id=None, **kwargs)>,\n",
       "  'divmod': <function divmod(x, y, /)>,\n",
       "  'enumerate': enumerate,\n",
       "  'eval': <function eval(source, globals=None, locals=None, /)>,\n",
       "  'exec': <function exec(source, globals=None, locals=None, /)>,\n",
       "  'filter': filter,\n",
       "  'float': float,\n",
       "  'format': <function format(value, format_spec='', /)>,\n",
       "  'frozenset': frozenset,\n",
       "  'get_ipython': <bound method InteractiveShell.get_ipython of <ipykernel.zmqshell.ZMQInteractiveShell object at 0x111eef860>>,\n",
       "  'getattr': <function getattr>,\n",
       "  'globals': <function globals()>,\n",
       "  'hasattr': <function hasattr(obj, name, /)>,\n",
       "  'hash': <function hash(obj, /)>,\n",
       "  'help': Type help() for interactive help, or help(object) for help about object.,\n",
       "  'hex': <function hex(number, /)>,\n",
       "  'id': <function id(obj, /)>,\n",
       "  'input': <bound method Kernel.raw_input of <ipykernel.ipkernel.IPythonKernel object at 0x111efe048>>,\n",
       "  'int': int,\n",
       "  'isinstance': <function isinstance(obj, class_or_tuple, /)>,\n",
       "  'issubclass': <function issubclass(cls, class_or_tuple, /)>,\n",
       "  'iter': <function iter>,\n",
       "  'len': <function len(obj, /)>,\n",
       "  'license': Type license() to see the full license text,\n",
       "  'list': list,\n",
       "  'locals': <function locals()>,\n",
       "  'map': map,\n",
       "  'max': <function max>,\n",
       "  'memoryview': memoryview,\n",
       "  'min': <function min>,\n",
       "  'next': <function next>,\n",
       "  'object': object,\n",
       "  'oct': <function oct(number, /)>,\n",
       "  'open': <function io.open(file, mode='r', buffering=-1, encoding=None, errors=None, newline=None, closefd=True, opener=None)>,\n",
       "  'ord': <function ord(c, /)>,\n",
       "  'pow': <function pow(x, y, z=None, /)>,\n",
       "  'print': <function print>,\n",
       "  'property': property,\n",
       "  'range': range,\n",
       "  'repr': <function repr(obj, /)>,\n",
       "  'reversed': reversed,\n",
       "  'round': <function round>,\n",
       "  'set': set,\n",
       "  'setattr': <function setattr(obj, name, value, /)>,\n",
       "  'slice': slice,\n",
       "  'sorted': <function sorted(iterable, /, *, key=None, reverse=False)>,\n",
       "  'staticmethod': staticmethod,\n",
       "  'str': str,\n",
       "  'sum': <function sum(iterable, start=0, /)>,\n",
       "  'super': super,\n",
       "  'tuple': tuple,\n",
       "  'type': type,\n",
       "  'vars': <function vars>,\n",
       "  'zip': zip},\n",
       " '__cached__': '/Users/rac/anaconda/lib/python3.5/site-packages/ipywidgets/__pycache__/__init__.cpython-35.pyc',\n",
       " '__doc__': \"Interactive widgets for the Jupyter notebook.\\n\\nProvide simple interactive controls in the notebook.\\nEach Widget corresponds to an object in Python and Javascript,\\nwith controls on the page.\\n\\nTo put a Widget on the page, you can display it with IPython's display machinery::\\n\\n    from ipywidgets import IntSlider\\n    from IPython.display import display\\n    slider = IntSlider(min=1, max=10)\\n    display(slider)\\n\\nMoving the slider will change the value. Most Widgets have a current value,\\naccessible as a `value` attribute.\\n\",\n",
       " '__file__': '/Users/rac/anaconda/lib/python3.5/site-packages/ipywidgets/__init__.py',\n",
       " '__jupyter_widgets_base_version__': '1.1.0',\n",
       " '__jupyter_widgets_controls_version__': '1.4.0',\n",
       " '__loader__': <_frozen_importlib_external.SourceFileLoader at 0x111fb10b8>,\n",
       " '__name__': 'ipywidgets',\n",
       " '__package__': 'ipywidgets',\n",
       " '__path__': ['/Users/rac/anaconda/lib/python3.5/site-packages/ipywidgets'],\n",
       " '__protocol_version__': '2.0.0',\n",
       " '__spec__': ModuleSpec(name='ipywidgets', loader=<_frozen_importlib_external.SourceFileLoader object at 0x111fb10b8>, origin='/Users/rac/anaconda/lib/python3.5/site-packages/ipywidgets/__init__.py', submodule_search_locations=['/Users/rac/anaconda/lib/python3.5/site-packages/ipywidgets']),\n",
       " '__version__': '7.4.1',\n",
       " '_handle_ipython': <function ipywidgets._handle_ipython()>,\n",
       " '_version': <module 'ipywidgets._version' from '/Users/rac/anaconda/lib/python3.5/site-packages/ipywidgets/_version.py'>,\n",
       " 'dlink': traitlets.traitlets.directional_link,\n",
       " 'docutils': <module 'ipywidgets.widgets.docutils' from '/Users/rac/anaconda/lib/python3.5/site-packages/ipywidgets/widgets/docutils.py'>,\n",
       " 'domwidget': <module 'ipywidgets.widgets.domwidget' from '/Users/rac/anaconda/lib/python3.5/site-packages/ipywidgets/widgets/domwidget.py'>,\n",
       " 'fixed': ipywidgets.widgets.interaction.fixed,\n",
       " 'get_ipython': <function IPython.core.getipython.get_ipython()>,\n",
       " 'handle_kernel': <function ipywidgets.register_comm_target(kernel=None)>,\n",
       " 'interact': <ipywidgets.widgets.interaction._InteractFactory at 0x112032cf8>,\n",
       " 'interact_manual': <ipywidgets.widgets.interaction._InteractFactory at 0x112032d68>,\n",
       " 'interaction': <module 'ipywidgets.widgets.interaction' from '/Users/rac/anaconda/lib/python3.5/site-packages/ipywidgets/widgets/interaction.py'>,\n",
       " 'interactive': ipywidgets.widgets.interaction.interactive,\n",
       " 'interactive_output': <function ipywidgets.widgets.interaction.interactive_output(f, controls)>,\n",
       " 'jsdlink': <function ipywidgets.widgets.widget_link.jsdlink(source, target)>,\n",
       " 'jslink': <function ipywidgets.widgets.widget_link.jslink(attr1, attr2)>,\n",
       " 'link': traitlets.traitlets.link,\n",
       " 'load_ipython_extension': <function ipywidgets.load_ipython_extension(ip)>,\n",
       " 'os': <module 'os' from '/Users/rac/anaconda/lib/python3.5/os.py'>,\n",
       " 'register': <function ipywidgets.widgets.widget.register(name='')>,\n",
       " 'register_comm_target': <function ipywidgets.register_comm_target(kernel=None)>,\n",
       " 'trait_types': <module 'ipywidgets.widgets.trait_types' from '/Users/rac/anaconda/lib/python3.5/site-packages/ipywidgets/widgets/trait_types.py'>,\n",
       " 'valuewidget': <module 'ipywidgets.widgets.valuewidget' from '/Users/rac/anaconda/lib/python3.5/site-packages/ipywidgets/widgets/valuewidget.py'>,\n",
       " 'version_info': (7, 4, 1, 'final', 0),\n",
       " 'widget': <module 'ipywidgets.widgets.widget' from '/Users/rac/anaconda/lib/python3.5/site-packages/ipywidgets/widgets/widget.py'>,\n",
       " 'widget_bool': <module 'ipywidgets.widgets.widget_bool' from '/Users/rac/anaconda/lib/python3.5/site-packages/ipywidgets/widgets/widget_bool.py'>,\n",
       " 'widget_box': <module 'ipywidgets.widgets.widget_box' from '/Users/rac/anaconda/lib/python3.5/site-packages/ipywidgets/widgets/widget_box.py'>,\n",
       " 'widget_button': <module 'ipywidgets.widgets.widget_button' from '/Users/rac/anaconda/lib/python3.5/site-packages/ipywidgets/widgets/widget_button.py'>,\n",
       " 'widget_color': <module 'ipywidgets.widgets.widget_color' from '/Users/rac/anaconda/lib/python3.5/site-packages/ipywidgets/widgets/widget_color.py'>,\n",
       " 'widget_controller': <module 'ipywidgets.widgets.widget_controller' from '/Users/rac/anaconda/lib/python3.5/site-packages/ipywidgets/widgets/widget_controller.py'>,\n",
       " 'widget_core': <module 'ipywidgets.widgets.widget_core' from '/Users/rac/anaconda/lib/python3.5/site-packages/ipywidgets/widgets/widget_core.py'>,\n",
       " 'widget_date': <module 'ipywidgets.widgets.widget_date' from '/Users/rac/anaconda/lib/python3.5/site-packages/ipywidgets/widgets/widget_date.py'>,\n",
       " 'widget_description': <module 'ipywidgets.widgets.widget_description' from '/Users/rac/anaconda/lib/python3.5/site-packages/ipywidgets/widgets/widget_description.py'>,\n",
       " 'widget_float': <module 'ipywidgets.widgets.widget_float' from '/Users/rac/anaconda/lib/python3.5/site-packages/ipywidgets/widgets/widget_float.py'>,\n",
       " 'widget_int': <module 'ipywidgets.widgets.widget_int' from '/Users/rac/anaconda/lib/python3.5/site-packages/ipywidgets/widgets/widget_int.py'>,\n",
       " 'widget_layout': <module 'ipywidgets.widgets.widget_layout' from '/Users/rac/anaconda/lib/python3.5/site-packages/ipywidgets/widgets/widget_layout.py'>,\n",
       " 'widget_link': <module 'ipywidgets.widgets.widget_link' from '/Users/rac/anaconda/lib/python3.5/site-packages/ipywidgets/widgets/widget_link.py'>,\n",
       " 'widget_media': <module 'ipywidgets.widgets.widget_media' from '/Users/rac/anaconda/lib/python3.5/site-packages/ipywidgets/widgets/widget_media.py'>,\n",
       " 'widget_output': <module 'ipywidgets.widgets.widget_output' from '/Users/rac/anaconda/lib/python3.5/site-packages/ipywidgets/widgets/widget_output.py'>,\n",
       " 'widget_selection': <module 'ipywidgets.widgets.widget_selection' from '/Users/rac/anaconda/lib/python3.5/site-packages/ipywidgets/widgets/widget_selection.py'>,\n",
       " 'widget_selectioncontainer': <module 'ipywidgets.widgets.widget_selectioncontainer' from '/Users/rac/anaconda/lib/python3.5/site-packages/ipywidgets/widgets/widget_selectioncontainer.py'>,\n",
       " 'widget_serialization': {'from_json': <function ipywidgets.widgets.widget._json_to_widget(x, obj)>,\n",
       "  'to_json': <function ipywidgets.widgets.widget._widget_to_json(x, obj)>},\n",
       " 'widget_string': <module 'ipywidgets.widgets.widget_string' from '/Users/rac/anaconda/lib/python3.5/site-packages/ipywidgets/widgets/widget_string.py'>,\n",
       " 'widget_style': <module 'ipywidgets.widgets.widget_style' from '/Users/rac/anaconda/lib/python3.5/site-packages/ipywidgets/widgets/widget_style.py'>,\n",
       " 'widgets': <module 'ipywidgets.widgets' from '/Users/rac/anaconda/lib/python3.5/site-packages/ipywidgets/widgets/__init__.py'>}"
      ]
     },
     "execution_count": 46,
     "metadata": {},
     "output_type": "execute_result"
    }
   ],
   "source": [
    "ipywidgets.__dict__"
   ]
  },
  {
   "cell_type": "code",
   "execution_count": 41,
   "metadata": {},
   "outputs": [
    {
     "data": {
      "application/vnd.jupyter.widget-view+json": {
       "model_id": "72d71c259ddd4e049db404024719eefe",
       "version_major": 2,
       "version_minor": 0
      },
      "text/plain": [
       "IntSlider(value=0)"
      ]
     },
     "metadata": {},
     "output_type": "display_data"
    }
   ],
   "source": [
    "foo=ipywidgets.IntSlider(slider_color = 'r')\n",
    "foo"
   ]
  },
  {
   "cell_type": "code",
   "execution_count": 42,
   "metadata": {},
   "outputs": [
    {
     "data": {
      "text/plain": [
       "57"
      ]
     },
     "execution_count": 42,
     "metadata": {},
     "output_type": "execute_result"
    }
   ],
   "source": [
    "foo.value"
   ]
  },
  {
   "cell_type": "code",
   "execution_count": 6,
   "metadata": {},
   "outputs": [
    {
     "data": {
      "text/plain": [
       "{'_cross_validation_lock': False,\n",
       " '_model_id': '4a6a3a7c4f9f4be789027b131f8071c9',\n",
       " '_trait_notifiers': {'comm': {'change': [<traitlets.traitlets.ObserveHandler at 0x111fa01d0>]}},\n",
       " '_trait_validators': {'max': <traitlets.traitlets.ValidateHandler at 0x111fea2e8>,\n",
       "  'min': <traitlets.traitlets.ValidateHandler at 0x111fea278>,\n",
       "  'value': <traitlets.traitlets.ValidateHandler at 0x111fea208>},\n",
       " '_trait_values': {'_display_callbacks': <ipywidgets.widgets.widget.CallbackDispatcher at 0x112127908>,\n",
       "  '_dom_classes': (),\n",
       "  '_model_module': '@jupyter-widgets/controls',\n",
       "  '_model_module_version': '1.4.0',\n",
       "  '_model_name': 'IntSliderModel',\n",
       "  '_property_lock': {},\n",
       "  '_view_count': None,\n",
       "  '_view_module': '@jupyter-widgets/controls',\n",
       "  '_view_module_version': '1.4.0',\n",
       "  '_view_name': 'IntSliderView',\n",
       "  'comm': <ipykernel.comm.comm.Comm at 0x112127e10>,\n",
       "  'continuous_update': True,\n",
       "  'description': '',\n",
       "  'description_tooltip': None,\n",
       "  'disabled': False,\n",
       "  'keys': ['_view_module_version',\n",
       "   '_model_name',\n",
       "   '_dom_classes',\n",
       "   '_view_module',\n",
       "   'disabled',\n",
       "   'description_tooltip',\n",
       "   '_view_count',\n",
       "   'continuous_update',\n",
       "   '_model_module',\n",
       "   '_view_name',\n",
       "   'readout',\n",
       "   '_model_module_version',\n",
       "   'description',\n",
       "   'readout_format',\n",
       "   'step',\n",
       "   'style',\n",
       "   'orientation',\n",
       "   'value',\n",
       "   'layout',\n",
       "   'max',\n",
       "   'min'],\n",
       "  'layout': Layout(),\n",
       "  'max': 100,\n",
       "  'min': 0,\n",
       "  'orientation': 'horizontal',\n",
       "  'readout': True,\n",
       "  'readout_format': 'd',\n",
       "  'step': 1,\n",
       "  'style': SliderStyle(),\n",
       "  'value': 0}}"
      ]
     },
     "execution_count": 6,
     "metadata": {},
     "output_type": "execute_result"
    }
   ],
   "source": [
    "foo.__dict__"
   ]
  },
  {
   "cell_type": "code",
   "execution_count": 4,
   "metadata": {},
   "outputs": [
    {
     "data": {
      "text/plain": [
       "0"
      ]
     },
     "execution_count": 4,
     "metadata": {},
     "output_type": "execute_result"
    }
   ],
   "source": [
    "foo.value"
   ]
  },
  {
   "cell_type": "code",
   "execution_count": 10,
   "metadata": {},
   "outputs": [
    {
     "data": {
      "application/vnd.jupyter.widget-view+json": {
       "model_id": "b2a73cca009a4fe0993e685acf599130",
       "version_major": 2,
       "version_minor": 0
      },
      "text/plain": [
       "FloatSlider(value=7.5, description='Test:', max=10.0, min=5.0)"
      ]
     },
     "metadata": {},
     "output_type": "display_data"
    },
    {
     "data": {
      "application/vnd.jupyter.widget-view+json": {
       "model_id": "5671c213861740609b47cfe0eac2c6c1",
       "version_major": 2,
       "version_minor": 0
      },
      "text/plain": [
       "FloatText(value=7.5, description='slider:')"
      ]
     },
     "metadata": {},
     "output_type": "display_data"
    }
   ],
   "source": [
    "myslide=ipywidgets.FloatSlider(\n",
    "    value=7.5,\n",
    "    min=5.0,\n",
    "    max=10.0,\n",
    "    step=0.1,\n",
    "    description='Test:',\n",
    ")\n",
    "display(myslide)\n",
    "foo = myslide.value\n",
    "ipywidgets.FloatText(\n",
    "    value=foo,\n",
    "    description='slider:',\n",
    ")"
   ]
  },
  {
   "cell_type": "code",
   "execution_count": 9,
   "metadata": {},
   "outputs": [
    {
     "data": {
      "text/plain": [
       "8.7"
      ]
     },
     "execution_count": 9,
     "metadata": {},
     "output_type": "execute_result"
    }
   ],
   "source": [
    "myslide.value"
   ]
  },
  {
   "cell_type": "code",
   "execution_count": 11,
   "metadata": {},
   "outputs": [
    {
     "data": {
      "application/vnd.jupyter.widget-view+json": {
       "model_id": "009ff14db9a942ddbcaa84c0079ba81a",
       "version_major": 2,
       "version_minor": 0
      },
      "text/plain": [
       "FloatSlider(value=7.5, description='Test', max=10.0, min=5.0, orientation='vertical')"
      ]
     },
     "metadata": {},
     "output_type": "display_data"
    }
   ],
   "source": [
    "ipywidgets.FloatSlider(\n",
    "    value=7.5,\n",
    "    min=5.0,\n",
    "    max=10.0,\n",
    "    step=0.1,\n",
    "    description='Test',\n",
    "    orientation='vertical',\n",
    ")"
   ]
  },
  {
   "cell_type": "code",
   "execution_count": 12,
   "metadata": {},
   "outputs": [
    {
     "data": {
      "application/vnd.jupyter.widget-view+json": {
       "model_id": "b91e46fcbbf44331864b02d7a5138cf0",
       "version_major": 2,
       "version_minor": 0
      },
      "text/plain": [
       "FloatProgress(value=7.5, description='Loading:', max=10.0, min=5.0)"
      ]
     },
     "metadata": {},
     "output_type": "display_data"
    }
   ],
   "source": [
    "ipywidgets.FloatProgress(\n",
    "    value=7.5,\n",
    "    min=5.0,\n",
    "    max=10.0,\n",
    "    step=0.1,\n",
    "    description='Loading:',\n",
    ")"
   ]
  },
  {
   "cell_type": "code",
   "execution_count": 13,
   "metadata": {},
   "outputs": [
    {
     "data": {
      "application/vnd.jupyter.widget-view+json": {
       "model_id": "cc3c84d3a2d94e4cb72619f60308f8f2",
       "version_major": 2,
       "version_minor": 0
      },
      "text/plain": [
       "BoundedFloatText(value=7.5, description='Bounded Values:', max=10.0, min=5.0)"
      ]
     },
     "metadata": {},
     "output_type": "display_data"
    }
   ],
   "source": [
    "ipywidgets.BoundedFloatText(\n",
    "    value=7.5,\n",
    "    min=5.0,\n",
    "    max=10.0,\n",
    "    description='Bounded Values:',\n",
    ")"
   ]
  },
  {
   "cell_type": "code",
   "execution_count": 14,
   "metadata": {},
   "outputs": [
    {
     "data": {
      "application/vnd.jupyter.widget-view+json": {
       "model_id": "f54b3cff7c6b4ab9922c5beb78862a72",
       "version_major": 2,
       "version_minor": 0
      },
      "text/plain": [
       "FloatText(value=6.3, description='Any value:')"
      ]
     },
     "metadata": {},
     "output_type": "display_data"
    }
   ],
   "source": [
    "foo = 6.3\n",
    "ipywidgets.FloatText(\n",
    "    value=foo,\n",
    "    description='Any value:',\n",
    ")"
   ]
  },
  {
   "cell_type": "code",
   "execution_count": 15,
   "metadata": {},
   "outputs": [
    {
     "data": {
      "application/vnd.jupyter.widget-view+json": {
       "model_id": "cd31d3bbe4be45c6bfe3e75384575d8e",
       "version_major": 2,
       "version_minor": 0
      },
      "text/plain": [
       "ToggleButton(value=False, description='Click me')"
      ]
     },
     "metadata": {},
     "output_type": "display_data"
    }
   ],
   "source": [
    "ipywidgets.ToggleButton(\n",
    "    description='Click me',\n",
    "    value=False,\n",
    ")"
   ]
  },
  {
   "cell_type": "code",
   "execution_count": 16,
   "metadata": {},
   "outputs": [
    {
     "data": {
      "application/vnd.jupyter.widget-view+json": {
       "model_id": "1e1478ae4d73462c8f6cacd5d65fc26a",
       "version_major": 2,
       "version_minor": 0
      },
      "text/plain": [
       "Checkbox(value=True, description='Check me')"
      ]
     },
     "metadata": {},
     "output_type": "display_data"
    }
   ],
   "source": [
    "ipywidgets.Checkbox(\n",
    "    description='Check me',\n",
    "    value=True,\n",
    ")"
   ]
  },
  {
   "cell_type": "code",
   "execution_count": 17,
   "metadata": {},
   "outputs": [
    {
     "data": {
      "application/vnd.jupyter.widget-view+json": {
       "model_id": "3fcddb816d5f4df0b770b86476e3bc6d",
       "version_major": 2,
       "version_minor": 0
      },
      "text/plain": [
       "Dropdown(description='Picklist:', index=1, options=('1', '2', '3'), value='2')"
      ]
     },
     "metadata": {},
     "output_type": "display_data"
    }
   ],
   "source": [
    "import notebook\n",
    "w = ipywidgets.Dropdown(\n",
    "    options=['1', '2', '3'],\n",
    "    value='2',\n",
    "    description='Picklist:',\n",
    ")\n",
    "display(w)"
   ]
  },
  {
   "cell_type": "code",
   "execution_count": 14,
   "metadata": {},
   "outputs": [
    {
     "data": {
      "text/plain": [
       "'2'"
      ]
     },
     "execution_count": 14,
     "metadata": {},
     "output_type": "execute_result"
    }
   ],
   "source": [
    "w.value"
   ]
  },
  {
   "cell_type": "code",
   "execution_count": 22,
   "metadata": {},
   "outputs": [
    {
     "data": {
      "application/vnd.jupyter.widget-view+json": {
       "model_id": "8367c63e5f574c8cbc985d7d89a6929a",
       "version_major": 2,
       "version_minor": 0
      },
      "text/plain": [
       "RadioButtons(description='Pizza topping:', options=('pepperoni', 'pineapple', 'anchovies'), value='pepperoni')"
      ]
     },
     "metadata": {},
     "output_type": "display_data"
    }
   ],
   "source": [
    "r=ipywidgets.RadioButtons(\n",
    "    description='Pizza topping:',\n",
    "    options=['pepperoni', 'pineapple', 'anchovies'],\n",
    ")\n",
    "r"
   ]
  },
  {
   "cell_type": "code",
   "execution_count": 23,
   "metadata": {},
   "outputs": [
    {
     "data": {
      "text/plain": [
       "'pineapple'"
      ]
     },
     "execution_count": 23,
     "metadata": {},
     "output_type": "execute_result"
    }
   ],
   "source": [
    "r.value"
   ]
  },
  {
   "cell_type": "code",
   "execution_count": 27,
   "metadata": {},
   "outputs": [
    {
     "data": {
      "application/vnd.jupyter.widget-view+json": {
       "model_id": "e21412261b89433fa0b06d3b02f85d9b",
       "version_major": 2,
       "version_minor": 0
      },
      "text/plain": [
       "ToggleButtons(description='Speed:', options=('Slow', 'Regular', 'Fast'), value='Slow')"
      ]
     },
     "metadata": {},
     "output_type": "display_data"
    }
   ],
   "source": [
    "sp = ipywidgets.ToggleButtons(\n",
    "    description='Speed:',\n",
    "    options=['Slow', 'Regular', 'Fast'],\n",
    ")\n",
    "sp"
   ]
  },
  {
   "cell_type": "code",
   "execution_count": 29,
   "metadata": {},
   "outputs": [
    {
     "data": {
      "text/plain": [
       "'Fast'"
      ]
     },
     "execution_count": 29,
     "metadata": {},
     "output_type": "execute_result"
    }
   ],
   "source": [
    "sp.value"
   ]
  },
  {
   "cell_type": "code",
   "execution_count": 30,
   "metadata": {},
   "outputs": [
    {
     "data": {
      "application/vnd.jupyter.widget-view+json": {
       "model_id": "52ebebb80a4e4d928e2da8d116068c54",
       "version_major": 2,
       "version_minor": 0
      },
      "text/plain": [
       "Select(description='OS:', options=('Linux', 'Windows', 'OSX'), value='Linux')"
      ]
     },
     "metadata": {},
     "output_type": "display_data"
    }
   ],
   "source": [
    "os = ipywidgets.Select(\n",
    "    description='OS:',\n",
    "    options=['Linux', 'Windows', 'OSX'],\n",
    ")\n",
    "os"
   ]
  },
  {
   "cell_type": "code",
   "execution_count": 31,
   "metadata": {},
   "outputs": [
    {
     "data": {
      "text/plain": [
       "'OSX'"
      ]
     },
     "execution_count": 31,
     "metadata": {},
     "output_type": "execute_result"
    }
   ],
   "source": [
    "os.value"
   ]
  },
  {
   "cell_type": "code",
   "execution_count": 32,
   "metadata": {},
   "outputs": [
    {
     "data": {
      "application/vnd.jupyter.widget-view+json": {
       "model_id": "05de0e6622cc4b5b94ecc949408e0076",
       "version_major": 2,
       "version_minor": 0
      },
      "text/plain": [
       "SelectMultiple(description='Fruits', options=('Apples', 'Oranges', 'Pears'), value=())"
      ]
     },
     "metadata": {},
     "output_type": "display_data"
    }
   ],
   "source": [
    "w = ipywidgets.SelectMultiple(\n",
    "    description=\"Fruits\",\n",
    "    options=['Apples', 'Oranges', 'Pears']\n",
    ")\n",
    "w"
   ]
  },
  {
   "cell_type": "code",
   "execution_count": 33,
   "metadata": {},
   "outputs": [
    {
     "data": {
      "text/plain": [
       "('Oranges', 'Pears')"
      ]
     },
     "execution_count": 33,
     "metadata": {},
     "output_type": "execute_result"
    }
   ],
   "source": [
    "w.value"
   ]
  },
  {
   "cell_type": "code",
   "execution_count": 34,
   "metadata": {},
   "outputs": [
    {
     "data": {
      "application/vnd.jupyter.widget-view+json": {
       "model_id": "b4148912741e490783c71679d5c8b942",
       "version_major": 2,
       "version_minor": 0
      },
      "text/plain": [
       "Text(value='Hello World', description='String:')"
      ]
     },
     "metadata": {},
     "output_type": "display_data"
    }
   ],
   "source": [
    "ipywidgets.Text(\n",
    "    description='String:',\n",
    "    value='Hello World',\n",
    ")"
   ]
  },
  {
   "cell_type": "code",
   "execution_count": 35,
   "metadata": {},
   "outputs": [
    {
     "data": {
      "application/vnd.jupyter.widget-view+json": {
       "model_id": "297011a1311444cebb8d83c5aae50914",
       "version_major": 2,
       "version_minor": 0
      },
      "text/plain": [
       "Textarea(value='Hello Worlds', description='String:')"
      ]
     },
     "metadata": {},
     "output_type": "display_data"
    }
   ],
   "source": [
    "ipywidgets.Textarea(\n",
    "    description='String:',\n",
    "    value='Hello Worlds',\n",
    ")"
   ]
  },
  {
   "cell_type": "code",
   "execution_count": 37,
   "metadata": {},
   "outputs": [
    {
     "ename": "NameError",
     "evalue": "name 'Latex' is not defined",
     "output_type": "error",
     "traceback": [
      "\u001b[0;31m---------------------------------------------------------------------------\u001b[0m",
      "\u001b[0;31mNameError\u001b[0m                                 Traceback (most recent call last)",
      "\u001b[0;32m<ipython-input-37-324ea735d322>\u001b[0m in \u001b[0;36m<module>\u001b[0;34m()\u001b[0m\n\u001b[0;32m----> 1\u001b[0;31m Latex(\n\u001b[0m\u001b[1;32m      2\u001b[0m     \u001b[0mvalue\u001b[0m\u001b[0;34m=\u001b[0m\u001b[0;34m\"$$\\\\frac{n!}{k!(n-k)!} = \\\\binom{n}{k}$$\"\u001b[0m\u001b[0;34m,\u001b[0m\u001b[0;34m\u001b[0m\u001b[0m\n\u001b[1;32m      3\u001b[0m )\n",
      "\u001b[0;31mNameError\u001b[0m: name 'Latex' is not defined"
     ]
    }
   ],
   "source": [
    "Latex(\n",
    "    value=\"$$\\\\frac{n!}{k!(n-k)!} = \\\\binom{n}{k}$$\",\n",
    ")"
   ]
  },
  {
   "cell_type": "code",
   "execution_count": 40,
   "metadata": {},
   "outputs": [
    {
     "ename": "AttributeError",
     "evalue": "module 'ipywidgets' has no attribute 'Latex'",
     "output_type": "error",
     "traceback": [
      "\u001b[0;31m---------------------------------------------------------------------------\u001b[0m",
      "\u001b[0;31mAttributeError\u001b[0m                            Traceback (most recent call last)",
      "\u001b[0;32m<ipython-input-40-5d5d42c82418>\u001b[0m in \u001b[0;36m<module>\u001b[0;34m()\u001b[0m\n\u001b[0;32m----> 1\u001b[0;31m lat = ipywidgets.Latex(\n\u001b[0m\u001b[1;32m      2\u001b[0m     \u001b[0mvalue\u001b[0m\u001b[0;34m=\u001b[0m\u001b[0;34m\"$$\\\\frac{n!}{k!(n-k)!} = \\\\binom{n}{k}$$\"\u001b[0m\u001b[0;34m,\u001b[0m\u001b[0;34m\u001b[0m\u001b[0m\n\u001b[1;32m      3\u001b[0m )\n\u001b[1;32m      4\u001b[0m \u001b[0mlat\u001b[0m\u001b[0;34m\u001b[0m\u001b[0m\n",
      "\u001b[0;31mAttributeError\u001b[0m: module 'ipywidgets' has no attribute 'Latex'"
     ]
    }
   ],
   "source": [
    "lat = ipywidgets.Latex(\n",
    "    value=\"$$\\\\frac{n!}{k!(n-k)!} = \\\\binom{n}{k}$$\",\n",
    ")\n",
    "lat"
   ]
  },
  {
   "cell_type": "code",
   "execution_count": 39,
   "metadata": {},
   "outputs": [
    {
     "data": {
      "application/vnd.jupyter.widget-view+json": {
       "model_id": "655736a591424535a1c32725007908a9",
       "version_major": 2,
       "version_minor": 0
      },
      "text/plain": [
       "HTML(value='Hello <b>World</b>')"
      ]
     },
     "metadata": {},
     "output_type": "display_data"
    }
   ],
   "source": [
    "ipywidgets.HTML(\n",
    "    value=\"Hello <b>World</b>\"\n",
    ")"
   ]
  },
  {
   "cell_type": "code",
   "execution_count": 38,
   "metadata": {},
   "outputs": [
    {
     "data": {
      "application/vnd.jupyter.widget-view+json": {
       "model_id": "1055002446a3410d841c01f03e77b2d7",
       "version_major": 2,
       "version_minor": 0
      },
      "text/plain": [
       "Button(description='Click me', style=ButtonStyle())"
      ]
     },
     "metadata": {},
     "output_type": "display_data"
    }
   ],
   "source": [
    "ipywidgets.Button(description='Click me')"
   ]
  },
  {
   "cell_type": "code",
   "execution_count": null,
   "metadata": {
    "collapsed": true
   },
   "outputs": [],
   "source": []
  }
 ],
 "metadata": {
  "kernelspec": {
   "display_name": "Python [default]",
   "language": "python",
   "name": "python3"
  },
  "language_info": {
   "codemirror_mode": {
    "name": "ipython",
    "version": 3
   },
   "file_extension": ".py",
   "mimetype": "text/x-python",
   "name": "python",
   "nbconvert_exporter": "python",
   "pygments_lexer": "ipython3",
   "version": "3.5.6"
  }
 },
 "nbformat": 4,
 "nbformat_minor": 1
}
