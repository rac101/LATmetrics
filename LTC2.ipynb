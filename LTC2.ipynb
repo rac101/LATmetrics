{
 "cells": [
  {
   "cell_type": "markdown",
   "metadata": {},
   "source": [
    "#LAT Thermal Control Plots\n",
    "### Robert Cameron, September 2015"
   ]
  },
  {
   "cell_type": "code",
   "execution_count": 1,
   "metadata": {
    "collapsed": false
   },
   "outputs": [],
   "source": [
    "import numpy as np\n",
    "import matplotlib.pyplot as plt\n",
    "import matplotlib.dates as mdates\n",
    "import pandas as pd\n",
    "import datetime as dt\n",
    "%matplotlib inline\n",
    "plt.rc('figure', figsize = [16, 16])\n",
    "plt.rc('font', size = 18)"
   ]
  },
  {
   "cell_type": "code",
   "execution_count": 2,
   "metadata": {
    "collapsed": false
   },
   "outputs": [
    {
     "ename": "NameError",
     "evalue": "name 'hb' is not defined",
     "output_type": "error",
     "traceback": [
      "\u001b[0;31m---------------------------------------------------------------------------\u001b[0m",
      "\u001b[0;31mNameError\u001b[0m                                 Traceback (most recent call last)",
      "\u001b[0;32m<ipython-input-2-6a9cb5a75ebf>\u001b[0m in \u001b[0;36m<module>\u001b[0;34m()\u001b[0m\n\u001b[1;32m      7\u001b[0m np.loadtxt(betafile,unpack=True,usecols=(0,1,2,4,8,9),\n\u001b[1;32m      8\u001b[0m            dtype={'names':('yb','mb','db','hb','rau','beta'),'formats':('i','i','i','i','f','f')})\n\u001b[0;32m----> 9\u001b[0;31m \u001b[0mhb\u001b[0m\u001b[0;34m[\u001b[0m\u001b[0;36m20\u001b[0m\u001b[0;34m:\u001b[0m\u001b[0;36m30\u001b[0m\u001b[0;34m]\u001b[0m\u001b[0;34m\u001b[0m\u001b[0m\n\u001b[0m\u001b[1;32m     10\u001b[0m \u001b[0;31m#bx = [dt.datetime(yb[i],mb[i],db[i],hb[i]) for i in range(len(yb))]\u001b[0m\u001b[0;34m\u001b[0m\u001b[0;34m\u001b[0m\u001b[0m\n\u001b[1;32m     11\u001b[0m \u001b[0mhb\u001b[0m\u001b[0;34m[\u001b[0m\u001b[0;36m20\u001b[0m\u001b[0;34m:\u001b[0m\u001b[0;36m30\u001b[0m\u001b[0;34m]\u001b[0m\u001b[0;34m\u001b[0m\u001b[0m\n",
      "\u001b[0;31mNameError\u001b[0m: name 'hb' is not defined"
     ]
    }
   ],
   "source": [
    "# read regular ASCII tabular file of beta angle history\n",
    "betafile = \"/Users/rc/Documents/GLAST/ISOC/LATmetrics/LTC/betaangle.txt\"\n",
    "#yb,mb,db,rau,beta = np.loadtxt(betafile, unpack=True, usecols=(0,1,2,8,9))\n",
    "#yb = np.int_(yb)\n",
    "#mb = np.int_(mb)\n",
    "#db = np.int_(db)\n",
    "np.loadtxt(betafile,unpack=True,usecols=(0,1,2,4,8,9),\n",
    "           dtype={'names':('yb','mb','db','hb','rau','beta'),'formats':('i','i','i','i','f','f')})\n",
    "hb[20:30]\n",
    "#bx = [dt.datetime(yb[i],mb[i],db[i],hb[i]) for i in range(len(yb))]\n",
    "hb[20:30]"
   ]
  },
  {
   "cell_type": "code",
   "execution_count": null,
   "metadata": {
    "collapsed": false
   },
   "outputs": [],
   "source": [
    "# read irregular ASCII tabular file of history of VCHP control\n",
    "htrfile = \"/Users/rc/Documents/GLAST/ISOC/LATmetrics/LTC/htr.history\"\n",
    "df = pd.read_csv(htrfile, parse_dates=[1], delimiter=\"\\t\",header=None)\n",
    "(ymd,tot0,off0,tot6,off6,tot7,off7) = (df[0],df[2],df[3],df[5],df[6],df[8],df[9])\n",
    "\n",
    "ok = (tot0 > 0) & (tot6 > 0) & (tot7 > 0)\n",
    "\n",
    "ymd = ymd[ok]\n",
    "tot0 = tot0[ok]\n",
    "off0 = off0[ok]\n",
    "tot6 = tot6[ok]\n",
    "off6 = off6[ok]\n",
    "tot7 = tot7[ok]\n",
    "off7 = off7[ok]\n",
    "f0 = off0/tot0\n",
    "f6 = off6/tot6\n",
    "f7 = off7/tot7\n",
    "VCHP0 = 1-pd.rolling_window(f0,20,win_type='boxcar',center='True')\n",
    "VCHP6 = 1-pd.rolling_window(f6,20,win_type='boxcar',center='True')\n",
    "VCHP7 = 1-pd.rolling_window(f7,20,win_type='boxcar',center='True')\n",
    "\n",
    "fx = [dt.datetime.strptime(d,'%Y-%m-%d').date() for d in ymd]\n",
    "captionx = dt.date(2010,3,1)"
   ]
  },
  {
   "cell_type": "code",
   "execution_count": null,
   "metadata": {
    "collapsed": false
   },
   "outputs": [],
   "source": [
    "# 3 subplots for beta, VCHP, rAU, where the axes array is 1-d\n",
    "\n",
    "fig, (ax1, ax2, ax3) = plt.subplots(3, sharex=True)\n",
    "\n",
    "years    = mdates.YearLocator()   # every year\n",
    "months   = mdates.MonthLocator()  # every month\n",
    "yearsFmt = mdates.DateFormatter('%Y')\n",
    "\n",
    "ax1.plot(bx, beta)\n",
    "ax1.xaxis.set_major_locator(years)\n",
    "ax1.xaxis.set_major_formatter(yearsFmt)\n",
    "ax1.xaxis.set_minor_locator(months)\n",
    "\n",
    "datemin = dt.date(int(yb[0]), 1, 1)\n",
    "datemax = dt.date(int(yb[-1])+1, 1, 1)\n",
    "ax1.set_xlim(datemin, datemax)\n",
    "ax1.grid(True)\n",
    "ax1.set_ylabel('Beta angle (deg)')\n",
    "\n",
    "ax2.plot(fx,VCHP0,'-b',label='VCHP0')\n",
    "ax2.plot(fx,VCHP6,'-r',label='VCHP6')\n",
    "ax2.plot(fx,VCHP7,'-k',label='VCHP7')\n",
    "ax2.grid(True)\n",
    "ax2.set_ylim(0.9,1.0)\n",
    "#ax2.legend(loc='lower center',fontsize='small')\n",
    "ax2.set_ylabel('Conductance Duty Cycle')\n",
    "ax2.text(captionx,0.93,\"VCHP 0\",color='b',fontsize='large')\n",
    "ax2.text(captionx,0.92,\"VCHP 6\",color='r',fontsize='large')\n",
    "ax2.text(captionx,0.91,\"VCHP 7\",color='k',fontsize='large')\n",
    "\n",
    "ax3.plot(bx,rau)\n",
    "ax3.grid(True)\n",
    "ax3.set_ylabel('Earth-Sun Distance (AU)')\n",
    "\n",
    "fig.subplots_adjust(hspace=0.1)\n",
    "#fig.autofmt_xdate()"
   ]
  },
  {
   "cell_type": "code",
   "execution_count": null,
   "metadata": {
    "collapsed": true
   },
   "outputs": [],
   "source": []
  }
 ],
 "metadata": {
  "kernelspec": {
   "display_name": "Python 3",
   "language": "python",
   "name": "python3"
  },
  "language_info": {
   "codemirror_mode": {
    "name": "ipython",
    "version": 3
   },
   "file_extension": ".py",
   "mimetype": "text/x-python",
   "name": "python",
   "nbconvert_exporter": "python",
   "pygments_lexer": "ipython3",
   "version": "3.4.3"
  }
 },
 "nbformat": 4,
 "nbformat_minor": 0
}
