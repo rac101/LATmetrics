{
 "cells": [
  {
   "cell_type": "markdown",
   "metadata": {},
   "source": [
    "# Fermi SSR Usage Plot\n",
    "\n",
    "### Robert Cameron, July 2018"
   ]
  },
  {
   "cell_type": "code",
   "execution_count": 1,
   "metadata": {},
   "outputs": [],
   "source": [
    "#from astropy.table import Table, Column\n",
    "#import numpy as np\n",
    "import matplotlib.pyplot as plt\n",
    "#import matplotlib.dates as mdates\n",
    "import pandas as pd\n",
    "import datetime as dt\n",
    "#import re\n",
    "%matplotlib notebook\n",
    "from matplotlib.dates import (MONTHLY, YEARLY, DateFormatter, rrulewrapper, RRuleLocator, drange)"
   ]
  },
  {
   "cell_type": "code",
   "execution_count": null,
   "metadata": {},
   "outputs": [],
   "source": [
    "url = \"http://www.slac.stanford.edu/exp/glast/ops/notebook/ssr.txt\"\n",
    "table = pd.read_csv(url,names=('date','gbps'),parse_dates=[0],sep=' ')"
   ]
  },
  {
   "cell_type": "code",
   "execution_count": null,
   "metadata": {},
   "outputs": [],
   "source": [
    "dnt = table['date']\n",
    "gbps = table['gbps']\n",
    "#fx = [dt.datetime.strptime(d,'%Y-%m-%d').date() for d in dnt]\n",
    "#dnt?"
   ]
  },
  {
   "cell_type": "code",
   "execution_count": null,
   "metadata": {},
   "outputs": [],
   "source": [
    "plt.figure(figsize = [15, 8])\n",
    "plt.rc('font', size = 15)\n",
    "fig, ax1 = plt.subplots(1, figsize = [15, 8])\n",
    "\n",
    "yrule = rrulewrapper(YEARLY, interval=1)\n",
    "yloc = RRuleLocator(yrule)\n",
    "mrule = rrulewrapper(MONTHLY, interval=3)\n",
    "mloc = RRuleLocator(mrule)\n",
    "\n",
    "ax1.xaxis.set_major_locator(yloc)\n",
    "ax1.xaxis.set_minor_locator(mloc)\n",
    "\n",
    "\n",
    "# set plot date range\n",
    "dntmin=\"2008-01-01 00:00:00\"\n",
    "dntmax=\"2019-01-01 00:00:00\"\n",
    "dnt0 = dt.datetime.strptime(dntmin,\"%Y-%m-%d %H:%M:%S\")\n",
    "dnt1 = dt.datetime.strptime(dntmax,\"%Y-%m-%d %H:%M:%S\")\n",
    "plt.xlim(dnt0,dnt1)\n",
    "plt.tick_params(axis = 'both', which = 'major')\n",
    "plt.tick_params(axis = 'both', which = 'minor')\n",
    "plt.minorticks_on()\n",
    "#table.plot(x='date', y='gbps')\n",
    "plt.plot(dnt, gbps)\n",
    "plt.grid(True)\n",
    "plt.ylim(100, 160)\n",
    "plt.ylabel('SSR Usage: Gbits/day')"
   ]
  },
  {
   "cell_type": "code",
   "execution_count": null,
   "metadata": {},
   "outputs": [],
   "source": [
    "plt.figure(figsize = [15, 8])\n",
    "plt.rc('font', size = 15)\n",
    "\n",
    "plt.plot(dnt, gbps)\n",
    "plt.grid(True)\n",
    "plt.ylim(100, 160)\n",
    "plt.ylabel('SSR Usage: Gbits/day')"
   ]
  },
  {
   "cell_type": "code",
   "execution_count": null,
   "metadata": {},
   "outputs": [],
   "source": []
  },
  {
   "cell_type": "code",
   "execution_count": null,
   "metadata": {},
   "outputs": [],
   "source": []
  }
 ],
 "metadata": {
  "kernelspec": {
   "display_name": "Python [default]",
   "language": "python",
   "name": "python3"
  },
  "language_info": {
   "codemirror_mode": {
    "name": "ipython",
    "version": 3
   },
   "file_extension": ".py",
   "mimetype": "text/x-python",
   "name": "python",
   "nbconvert_exporter": "python",
   "pygments_lexer": "ipython3",
   "version": "3.5.5"
  }
 },
 "nbformat": 4,
 "nbformat_minor": 1
}
