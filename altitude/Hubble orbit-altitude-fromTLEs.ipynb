{
 "cells": [
  {
   "cell_type": "markdown",
   "metadata": {},
   "source": [
    "# Hubble Orbit Altitude History\n",
    "\n",
    "### Robert Cameron, February 2018"
   ]
  },
  {
   "cell_type": "code",
   "execution_count": 1,
   "metadata": {},
   "outputs": [
    {
     "name": "stderr",
     "output_type": "stream",
     "text": [
      "/Users/rac/anaconda/lib/python3.5/importlib/_bootstrap.py:222: RuntimeWarning: numpy.dtype size changed, may indicate binary incompatibility. Expected 96, got 88\n",
      "  return f(*args, **kwds)\n"
     ]
    }
   ],
   "source": [
    "from astropy.table import Table, Column\n",
    "import numpy as np\n",
    "import matplotlib.pyplot as plt\n",
    "import matplotlib.dates as mdates\n",
    "import pandas as pd\n",
    "import datetime as dt\n",
    "import re\n",
    "%matplotlib notebook"
   ]
  },
  {
   "cell_type": "code",
   "execution_count": 2,
   "metadata": {},
   "outputs": [],
   "source": [
    "path = \"/Users/rac/Documents/GLAST/ISOC/LATmetrics/Hubble-TLE/\"\n",
    "# input file = history listing of TLE orbit parameter records for Fermi\n",
    "tlefile = path+\"hst-fix-tle.txt\"\n",
    "\n",
    "# write ASCII tabular file of Fermi orbit history\n",
    "outfile = path+\"orbit-history2.txt\"\n",
    "h1=\"Year      Orbit MeanMot(o/d) MMdot Period(s) SemiMajor(km) Alt  \"\n",
    "h2=\"Inclin   Eccen     RAAN   MeanAnom ArgPer PrecRate PrecPer(d)\\n\"\n",
    "h = h1 + h2   # 14 variables per line\n",
    "fo = open(outfile, 'w')\n",
    "fo.write(h)\n",
    "\n",
    "outfmt1 = \"{0:10.5f} {1:5d} {2:9.6f} {3:8.2e} {4:8.3f} {5:8.3f} {6:7.3f} \"\n",
    "outfmt1 = \"{0:10.5f} {1:5d} {2:9.6f} {3:s} {4:8.3f} {5:8.3f} {6:7.3f} \"\n",
    "outfmt2 = \"{0:7.4f} {1:9.4e} {2:8.4f} {3:8.4f} {4:8.4f} {5:8.5f} {6:6.3f}\\n\""
   ]
  },
  {
   "cell_type": "code",
   "execution_count": 3,
   "metadata": {},
   "outputs": [],
   "source": [
    "# TLE Line 1\n",
    "# Column  Description\n",
    "# ======  ===========\n",
    "# 01      Line Number of Element Data = 1\n",
    "# 03-07   Satellite Number (HST = 20580)\n",
    "# 08      Classification (U = Unclassified)\n",
    "# 10-11   International Designator (Last two digits of launch year) (FGST = 08)\n",
    "# 12-14   International Designator (Launch number of the year) (FGST = 029)\n",
    "# 15-17   International Designator (Piece of the launch) (FGST = \"A  \")\n",
    "# 19-20   Epoch Year (Last two digits of year)\n",
    "# 21-32   Epoch (Day of the year and fractional portion of the day) (123.56789012)\n",
    "# 34-43   First Time Derivative of the Mean Motion ( .67890123 =  .00000NNN)\n",
    "# 45-52   Second Time Derivative of Mean Motion (decimal point assumed) ( 67890-2 =  00000-0)\n",
    "# 54-61   BSTAR drag term (decimal point assumed) ( 5678901 =  NNNNN-N)\n",
    "# 63      Ephemeris type (generally = 0)\n",
    "# 65-68   Element number ( NNN)\n",
    "# 69      Checksum (Modulo 10) (Letters, blanks, periods, plus signs = 0; minus signs = 1)\n",
    "\n",
    "# TLE Line 2\n",
    "# Column  Description\n",
    "# ======  ===========\n",
    "# 01      Line Number of Element Data = 2\n",
    "# 03-07   Satellite Number (HST = 20580)\n",
    "# 09-16   Inclination [Degrees] (HST = 26.46NN degrees)\n",
    "# 18-25   Right Ascension of the Ascending Node [Degrees] (890.2345 = NNN.NNNN)\n",
    "# 27-33   Eccentricity (decimal point assumed) (7890123, HST = 001NNNN)\n",
    "# 35-42   Argument of Perigee [Degrees] (567.9012 = NNN.NNNN)\n",
    "# 44-51   Mean Anomaly [Degrees] (456.8901 = NNN.NNNN)\n",
    "# 53-63   Mean Motion [Revs per day] (34.67890123, HST = 15.NNNNnnnn)\n",
    "# 64-68   Revolution number at epoch [Revs] (45678 = NNNNN)\n",
    "# 69      Checksum (Modulo 10)\n",
    "\n",
    "r1 = '^1(.{17})(\\d{2})(.{12}) (.{13}) (\\d{5})-(\\d{1})  (\\d{5})[-+](\\d{1}) (\\d{1}) (.{4})(\\d{1})'\n",
    "r1 = '^1(.{17})(\\d{2})(.{12}) (.{9})'\n",
    "r2 = '^2 20580 (.{8}) (.{8}) (.{7}) (.{8}) (.{8}) (.{11})(.{5})(\\d{1})'\n",
    "p1 = re.compile(r1)\n",
    "p2 = re.compile(r2)"
   ]
  },
  {
   "cell_type": "code",
   "execution_count": 4,
   "metadata": {},
   "outputs": [],
   "source": [
    "fy = []\n",
    "orb = []\n",
    "MM = []\n",
    "MMdot = []\n",
    "PerS = []\n",
    "semi = []\n",
    "alt = []\n",
    "inc = []\n",
    "ecc = []\n",
    "RAAN = []\n",
    "MeanAnom = []\n",
    "ArgPer = []\n",
    "prec = []\n",
    "PrecP = []"
   ]
  },
  {
   "cell_type": "code",
   "execution_count": 5,
   "metadata": {},
   "outputs": [],
   "source": [
    "def TLE1_calc(line1):\n",
    "    m1 = p1.match(line1)\n",
    "#    m1 = re.match(r1,line1)\n",
    "    year = int(m1.group(2))\n",
    "    if year > 50:\n",
    "        year -= 100\n",
    "    doy = float(m1.group(3))\n",
    "    MMdot.append(m1.group(4))\n",
    "    ylen = (365, 366)[bool(year % 4)]\n",
    "    fy.append(round(year + 2000 + doy/ylen,6))\n",
    "#    print(m1.group(4))"
   ]
  },
  {
   "cell_type": "code",
   "execution_count": 6,
   "metadata": {},
   "outputs": [],
   "source": [
    "def TLE2_calc(line2):\n",
    "    m2 = p2.match(line2)\n",
    "    inc.append(float(m2.group(1)))\n",
    "    RAAN.append(float(m2.group(2)))\n",
    "    ecc.append(float(m2.group(3))/1.0e7)\n",
    "    ArgPer.append(float(m2.group(4)))\n",
    "    MeanAnom.append(float(m2.group(5)))\n",
    "    MM.append(float(m2.group(6)))\n",
    "    orb.append(int(m2.group(7)))\n",
    "    PerS.append(86400.0/float(MM[-1]))\n",
    "    pi = 3.14159265359\n",
    "    GM = 398600.44  # km^3 s^-2 (Wertz 1978)\n",
    "    semimajor = (GM*(PerS[-1]/2/pi)**2.0)**0.333333333333   # km\n",
    "    semi.append(round(semimajor,4))\n",
    "    alt.append(semi[-1] - 6378)    # km\n",
    "    ecc_term = (1.0-ecc[-1]**2.0)**2.0\n",
    "    inc_term = -2.06474e14 * np.cos(inc[-1]*pi/180)\n",
    "    prec_rate = inc_term /(ecc_term * (semimajor**3.5))  # deg/day\n",
    "    prec.append(round(prec_rate,5))\n",
    "    PrecP.append(round(abs(360/prec_rate),3))     # days\n",
    "    outlist1 = (fy[-1],orb[-1],MM[-1],MMdot[-1],PerS[-1],semi[-1],alt[-1])\n",
    "    outlist2 = (inc[-1],ecc[-1],RAAN[-1],MeanAnom[-1],ArgPer[-1],prec[-1],PrecP[-1])\n",
    "    outstr1 = outfmt1.format(*outlist1)\n",
    "    outstr2 = outfmt2.format(*outlist2)\n",
    "    fo.write(outstr1+outstr2)\n",
    "#    print (ecc[-1], inc[-1], PrecP[-1])"
   ]
  },
  {
   "cell_type": "code",
   "execution_count": 7,
   "metadata": {},
   "outputs": [],
   "source": [
    "# read regular ASCII tabular file of Fermi 2-line TLE records\n",
    "\n",
    "one = \"\"\n",
    "two = \"\"\n",
    "need = 1\n",
    "prev = {}\n",
    "row = 0\n",
    "\n",
    "with open(tlefile,'r') as ft:\n",
    "    for line in ft:\n",
    "        line = line.rstrip()\n",
    "        if \" 20580\" not in line:\n",
    "            continue\n",
    "        if \"1 20580U 90037 \" in line:\n",
    "            need = 2\n",
    "            one = line\n",
    "        if \"2 20580 \" in line:\n",
    "            need = 1\n",
    "            two = line\n",
    "        if (one and two):\n",
    "            if one not in prev:\n",
    "                TLE1_calc(one)\n",
    "                TLE2_calc(two)\n",
    "                row += 1\n",
    "            prev[one] = 1\n",
    "            one = \"\"\n",
    "            two = \"\"\n",
    "            \n",
    "#print (row,\"unique TLEs read from TLE history file\")"
   ]
  },
  {
   "cell_type": "code",
   "execution_count": 8,
   "metadata": {},
   "outputs": [
    {
     "data": {
      "text/plain": [
       "[<matplotlib.lines.Line2D at 0x81d4ccc88>]"
      ]
     },
     "execution_count": 8,
     "metadata": {},
     "output_type": "execute_result"
    },
    {
     "data": {
      "image/png": "[encoded data removed]",
      "text/plain": [
       "<Figure size 1152x648 with 1 Axes>"
      ]
     },
     "metadata": {
      "needs_background": "light"
     },
     "output_type": "display_data"
    }
   ],
   "source": [
    "# plot the Hubble orbit altitude\n",
    "plt.figure(figsize = [16, 9])\n",
    "plt.rc('font', size = 18)\n",
    "plt.ylabel('Orbit Altitude (km)')\n",
    "plt.xlim(1990,2020)\n",
    "plt.ylim(500,650)\n",
    "plt.tick_params(axis = 'both', which = 'major')\n",
    "plt.tick_params(axis = 'both', which = 'minor')\n",
    "plt.minorticks_on()\n",
    "plt.grid(which='major')\n",
    "plt.ticklabel_format(useOffset=False)\n",
    "plt.plot(fy, alt, '', lw=3)"
   ]
  },
  {
   "cell_type": "code",
   "execution_count": 9,
   "metadata": {},
   "outputs": [
    {
     "data": {
      "text/plain": [
       "<Figure size 432x288 with 0 Axes>"
      ]
     },
     "metadata": {},
     "output_type": "display_data"
    }
   ],
   "source": [
    "plt.savefig(path+\"alt2019.png\")\n",
    "fo.close()"
   ]
  },
  {
   "cell_type": "code",
   "execution_count": 10,
   "metadata": {},
   "outputs": [
    {
     "data": {
      "text/plain": [
       "[<matplotlib.lines.Line2D at 0x81defddd8>]"
      ]
     },
     "execution_count": 10,
     "metadata": {},
     "output_type": "execute_result"
    },
    {
     "data": {
      "image/png": "[encoded data removed]",
      "text/plain": [
       "<Figure size 1152x648 with 1 Axes>"
      ]
     },
     "metadata": {
      "needs_background": "light"
     },
     "output_type": "display_data"
    }
   ],
   "source": [
    "# plot the Hubble orbit altitude\n",
    "plt.figure(figsize = [16, 9])\n",
    "plt.rc('font', size = 18)\n",
    "plt.ylabel('Orbit Altitude (km)')\n",
    "plt.ylim([400,650])\n",
    "plt.xlim([1990,2020])\n",
    "plt.tick_params(axis = 'both', which = 'major')\n",
    "plt.tick_params(axis = 'both', which = 'minor')\n",
    "plt.minorticks_on()\n",
    "plt.grid(which='major')\n",
    "plt.ticklabel_format(useOffset=False)\n",
    "plt.plot(fy, alt, '', lw=3)"
   ]
  },
  {
   "cell_type": "code",
   "execution_count": 11,
   "metadata": {},
   "outputs": [
    {
     "data": {
      "text/plain": [
       "[<matplotlib.lines.Line2D at 0x81e1ab780>]"
      ]
     },
     "execution_count": 11,
     "metadata": {},
     "output_type": "execute_result"
    },
    {
     "data": {
      "image/png": "[encoded data removed]",
      "text/plain": [
       "<Figure size 720x648 with 1 Axes>"
      ]
     },
     "metadata": {
      "needs_background": "light"
     },
     "output_type": "display_data"
    }
   ],
   "source": [
    "# plot the Hubble orbit altitude\n",
    "plt.figure(figsize = [10, 9])\n",
    "plt.rc('font', size = 18)\n",
    "plt.ylabel('Orbit Altitude (km)')\n",
    "plt.ylim([500,650])\n",
    "plt.xlim([1990,2020])\n",
    "plt.tick_params(axis = 'both', which = 'major')\n",
    "plt.tick_params(axis = 'both', which = 'minor')\n",
    "plt.minorticks_on()\n",
    "plt.grid(which='major')\n",
    "plt.ticklabel_format(useOffset=False)\n",
    "plt.plot(fy, alt, '', lw=3)"
   ]
  },
  {
   "cell_type": "code",
   "execution_count": null,
   "metadata": {},
   "outputs": [],
   "source": []
  }
 ],
 "metadata": {
  "kernelspec": {
   "display_name": "Python [default]",
   "language": "python",
   "name": "python3"
  },
  "language_info": {
   "codemirror_mode": {
    "name": "ipython",
    "version": 3
   },
   "file_extension": ".py",
   "mimetype": "text/x-python",
   "name": "python",
   "nbconvert_exporter": "python",
   "pygments_lexer": "ipython3",
   "version": "3.5.6"
  }
 },
 "nbformat": 4,
 "nbformat_minor": 1
}
