{
 "cells": [
  {
   "cell_type": "markdown",
   "metadata": {},
   "source": [
    "# Animation - Multi-Color\n",
    "\n",
    "### from Stackoverflow"
   ]
  },
  {
   "cell_type": "code",
   "execution_count": 1,
   "metadata": {
    "collapsed": false
   },
   "outputs": [],
   "source": [
    "from random import random as r\n",
    "\n",
    "numlin=50\n",
    "\n",
    "matt = []\n",
    "for j in range(numlin):\n",
    "    matt.append([r()*10, r()*10,r()*10,r()*10])"
   ]
  },
  {
   "cell_type": "code",
   "execution_count": 2,
   "metadata": {
    "collapsed": false
   },
   "outputs": [],
   "source": [
    "from matplotlib.pyplot import plot, show, subplots\n",
    "import matplotlib.animation as animation\n",
    "#%matplotlib inline\n",
    "\n",
    "fig,ax=subplots(figsize=(10,10))\n",
    "ax.set_xlim([0,10])\n",
    "ax.set_ylim([0,10])\n",
    "\n",
    "def animate(i):\n",
    "    animlist = plot(matt[i][0],matt[i][1],'r',matt[i][2],matt[i][3],'b',marker='o',markersize=8)\n",
    "    return animlist\n",
    "\n",
    "def init():\n",
    "    return []\n",
    "\n",
    "#anim=animation.FuncAnimation(fig,animate,frames=numlin,interval=1000,init_func=init,blit=True,repeat=0)\n",
    "anim=animation.FuncAnimation(fig,animate,frames=numlin,interval=100,init_func=init,repeat=0)\n",
    "\n",
    "show()"
   ]
  }
 ],
 "metadata": {
  "kernelspec": {
   "display_name": "Python 3",
   "language": "python",
   "name": "python3"
  },
  "language_info": {
   "codemirror_mode": {
    "name": "ipython",
    "version": 3
   },
   "file_extension": ".py",
   "mimetype": "text/x-python",
   "name": "python",
   "nbconvert_exporter": "python",
   "pygments_lexer": "ipython3",
   "version": "3.5.1"
  }
 },
 "nbformat": 4,
 "nbformat_minor": 0
}
