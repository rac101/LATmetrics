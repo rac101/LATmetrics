{
 "cells": [
  {
   "cell_type": "markdown",
   "metadata": {},
   "source": [
    "# attempting simple 3D animation"
   ]
  },
  {
   "cell_type": "code",
   "execution_count": 15,
   "metadata": {
    "collapsed": true
   },
   "outputs": [],
   "source": [
    "import numpy as np\n",
    "import matplotlib.pyplot as plt\n",
    "from matplotlib.animation import FuncAnimation"
   ]
  },
  {
   "cell_type": "code",
   "execution_count": 16,
   "metadata": {
    "collapsed": true
   },
   "outputs": [],
   "source": [
    "# A - B - C - A - D - B - C - D  # connect the vertices of a tetrahedron\n",
    "x = np.array([-1,1,0,-1,0,1,0,0])\n",
    "y = np.array([0,0,1,0,0,0,1,0])\n",
    "z = np.array([0,0,0,0,1,0,0,1])"
   ]
  },
  {
   "cell_type": "code",
   "execution_count": 17,
   "metadata": {
    "collapsed": true
   },
   "outputs": [],
   "source": [
    "a = 80         # a = angle between rotation (=z) axis and line-of-sight (degrees)\n",
    "b = 65         # b = angle between east and projection of rotation (=z) axis on sky (degrees)\n",
    "theta = 0     # theta = angle of rotation (degrees)\n",
    "\n",
    "a = np.radians(a)\n",
    "b = np.radians(b)\n",
    "theta = np.radians(theta)\n",
    "sina = np.sin(a)\n",
    "sinb = np.sin(b)\n",
    "cosa = np.cos(a)\n",
    "cosb = np.cos(b)\n",
    "sintheta = np.sin(theta)\n",
    "costheta = np.cos(theta)\n",
    "\n",
    "delta = 5     # delta is the angle between your eyes for the stereo projection (degrees)\n",
    "delta = np.radians(delta)\n",
    "sindelta = np.sin(delta)\n",
    "cosdelta = np.cos(delta)"
   ]
  },
  {
   "cell_type": "code",
   "execution_count": null,
   "metadata": {
    "collapsed": true
   },
   "outputs": [],
   "source": [
    "# rotate by angle theta around z-axis\n",
    "\n",
    "xr = costheta*x + sintheta*y\n",
    "yr = costheta*y + (-1)*sintheta*x\n",
    "zr = z\n",
    "\n",
    "# project rotated object onto the x,y,z axes\n",
    "\n",
    "x1 = cosa*cosb*xr + sinb*yr + (-1)*sina*cosb*zr\n",
    "y1 =-cosa*sinb*xr + cosb*yr + sina*sinb*zr\n",
    "z1 = sina*xr + cosa*zr\n",
    "\n",
    "# project rotated object onto the x',y',z' axes\n",
    "# and separate the 2 views of the object in x\n",
    "\n",
    "xd1 = cosdelta*x1 + sindelta*z1\n",
    "yd1 = y1\n",
    "zd1 = cosdelta*z1 + (-1)*sindelta*x1"
   ]
  },
  {
   "cell_type": "code",
   "execution_count": null,
   "metadata": {
    "collapsed": false
   },
   "outputs": [],
   "source": [
    "#this works!!\n",
    "\n",
    "fig2, (ax1, ax2) = plt.subplots(1, 2, subplot_kw=dict(frame_on=False))\n",
    "tet1, = ax1.plot(x1,y1)\n",
    "tet2, = ax2.plot(xd1,yd1)\n",
    "ax1.axis('off')\n",
    "ax2.axis('off')\n",
    "ax1.set_xlim(-1.5,1.5)\n",
    "ax2.set_xlim(-1.5,1.5)\n",
    "ax1.set_ylim(-1.5,1.5)\n",
    "ax2.set_ylim(-1.5,1.5)\n",
    "\n",
    "def update(i):\n",
    "    theta = np.radians(i)\n",
    "    sintheta = np.sin(theta)\n",
    "    costheta = np.cos(theta)\n",
    "    xr = costheta*x + sintheta*y\n",
    "    yr = costheta*y + (-1)*sintheta*x\n",
    "\n",
    "    # project rotated object onto the x,y,z axes\n",
    "\n",
    "    x1 = cosa*cosb*xr + sinb*yr + (-1)*sina*cosb*zr\n",
    "    y1 =-cosa*sinb*xr + cosb*yr + sina*sinb*zr\n",
    "#    z1 = sina*xr + cosa*zr\n",
    "\n",
    "    # project rotated object onto the x',y',z' axes\n",
    "    # and separate the 2 views of the object in x\n",
    "\n",
    "    xd1 = cosdelta*x1 + sindelta*z1\n",
    "    yd1 = y1\n",
    "#    zd1 = cosdelta*z1 + (-1)*sindelta*x1\n",
    "    tet1.set_xdata(x1)\n",
    "    tet1.set_ydata(y1)\n",
    "    tet2.set_xdata(xd1)\n",
    "    tet2.set_ydata(yd1)\n",
    "\n",
    "    return tet1,tet2,\n",
    "                \n",
    "ani = FuncAnimation(fig2, update, interval=20)\n",
    "plt.show() "
   ]
  },
  {
   "cell_type": "code",
   "execution_count": null,
   "metadata": {
    "collapsed": false
   },
   "outputs": [],
   "source": [
    "%%ignore\n",
    "fig2, (ax1, ax2) = plt.subplots(1, 2, subplot_kw=dict(frame_on=False))\n",
    "tet1, = ax1.plot(x1,y1)\n",
    "tet2, = ax2.plot(xd1,yd1)\n",
    "#plt.axis('off')\n",
    "ax1.axis('off')\n",
    "ax2.axis('off')\n",
    "#ax1.set_ylim(-1, 10)\n",
    "#ax2.set_ylim(-10,20)\n",
    "    \n",
    "def update(i):\n",
    "    theta = np.radians(i*0.02)\n",
    "    sintheta = np.sin(theta)\n",
    "    costheta = np.cos(theta)\n",
    "    xr = costheta*x + sintheta*y\n",
    "    yr = costheta*y + (-1)*sintheta*x\n",
    "\n",
    "    # project rotated object onto the x,y,z axes\n",
    "\n",
    "    x1 = cosa*cosb*xr + sinb*yr + (-1)*sina*cosb*zr\n",
    "    y1 =-cosa*sinb*xr + cosb*yr + sina*sinb*zr\n",
    "#    z1 = sina*xr + cosa*zr\n",
    "\n",
    "    # project rotated object onto the x',y',z' axes\n",
    "    # and separate the 2 views of the object in x\n",
    "\n",
    "    xd1 = cosdelta*x1 + sindelta*z1 + 1.5\n",
    "    yd1 = y1\n",
    "#    zd1 = cosdelta*z1 + (-1)*sindelta*x1\n",
    "    return x1,y1,x2,y2,\n",
    "                \n",
    "ani = FuncAnimation(fig2, update, interval=200)\n",
    "plt.show() "
   ]
  },
  {
   "cell_type": "code",
   "execution_count": null,
   "metadata": {
    "collapsed": false
   },
   "outputs": [],
   "source": [
    "%%ignore\n",
    "# Create new Figure and an Axes which fills it\n",
    "fig = plt.figure(figsize=(14, 7))\n",
    "ax = fig.add_axes([0, 0, 1, 1], frameon=False)\n",
    "ax.set_xlim(0, 1), ax.set_xticks([])\n",
    "ax.set_ylim(0, 1), ax.set_yticks([])"
   ]
  },
  {
   "cell_type": "code",
   "execution_count": null,
   "metadata": {
    "collapsed": false
   },
   "outputs": [],
   "source": [
    "%%ignore\n",
    "# Create rain data\n",
    "n_drops = 40\n",
    "rain_drops = np.zeros(n_drops, dtype=[('position', float, 2),\n",
    "                                      ('size',     float, 1),\n",
    "                                      ('growth',   float, 1),\n",
    "                                      ('color',    float, 4)])\n",
    "\n",
    "# Initialize the raindrops in random positions and with random growth rates\n",
    "rain_drops['position'] = np.random.uniform(0.4, 0.5, (n_drops, 2))\n",
    "#rain_drops['growth'] = np.random.uniform(5, 20, n_drops)\n",
    "\n",
    "# Construct the scatter that updates during animation as the raindrops develop\n",
    "scat = ax.scatter(rain_drops['position'][:, 0], rain_drops['position'][:, 1],\n",
    "                  s=rain_drops['size'], lw=0.5, edgecolors=rain_drops['color'],\n",
    "                  facecolors='none')"
   ]
  },
  {
   "cell_type": "code",
   "execution_count": null,
   "metadata": {
    "collapsed": false
   },
   "outputs": [],
   "source": [
    "%%ignore\n",
    "def update(frame_number):\n",
    "    # Get an index which we can use to re-spawn the oldest raindrop\n",
    "    current_index = frame_number % n_drops\n",
    "\n",
    "    # Make all circles bigger\n",
    "    #rain_drops['size'] += rain_drops['growth']\n",
    "\n",
    "    # Pick a new position for oldest rain drop, resetting its size, color and growth factor\n",
    "    rain_drops['position'][current_index] = np.random.uniform(0.4,0.5,2)\n",
    "    rain_drops['size'][current_index] = 45\n",
    "    rain_drops['color'][current_index] = (0, 0, 0, 1)\n",
    "    #rain_drops['growth'][current_index] = np.random.uniform(5, 20)\n",
    "\n",
    "    # Update the scatter collection, with the new colors, sizes and positions\n",
    "    scat.set_edgecolors(rain_drops['color'])\n",
    "    scat.set_sizes(rain_drops['size'])\n",
    "    scat.set_offsets(rain_drops['position'])"
   ]
  },
  {
   "cell_type": "code",
   "execution_count": null,
   "metadata": {
    "collapsed": false
   },
   "outputs": [],
   "source": [
    "%%ignore\n",
    "# Construct the animation, using the update function as the animation director\n",
    "animation = FuncAnimation(fig, update, interval=10)\n",
    "plt.show()"
   ]
  },
  {
   "cell_type": "code",
   "execution_count": null,
   "metadata": {
    "collapsed": false
   },
   "outputs": [],
   "source": [
    "%%ignore\n",
    "fig, ax = plt.subplots()\n",
    "line, = ax.plot(np.random.rand(10))\n",
    "ax.set_ylim(0, 1)\n",
    "\n",
    "def update(data):\n",
    "    line.set_ydata(data)\n",
    "    return line,\n",
    "\n",
    "def data_gen():\n",
    "    while True:\n",
    "        yield np.random.rand(10)\n",
    "\n",
    "ani = FuncAnimation(fig, update, data_gen, interval=1000)\n",
    "plt.show()"
   ]
  },
  {
   "cell_type": "code",
   "execution_count": null,
   "metadata": {
    "collapsed": false
   },
   "outputs": [],
   "source": [
    "%%ignore\n",
    "fig, ax = plt.subplots()\n",
    "line, = ax.plot([2,2])\n",
    "ax.set_ylim(-1, 10)\n",
    "                \n",
    "def update(i):\n",
    "    line.set_ydata([i%9,i%9])\n",
    "    return line, \n",
    "                \n",
    "ani = FuncAnimation(fig, update, interval=200)\n",
    "plt.show()                "
   ]
  },
  {
   "cell_type": "code",
   "execution_count": null,
   "metadata": {
    "collapsed": false
   },
   "outputs": [],
   "source": [
    "%%ignore\n",
    "\n",
    "# this cell works as desired!!!\n",
    "fig2, (ax1, ax2) = plt.subplots(1, 2, subplot_kw=dict(frame_on=False))\n",
    "line1, = ax1.plot([2,2])\n",
    "line2, = ax2.plot([4,4])\n",
    "#plt.axis('off')\n",
    "ax1.axis('off')\n",
    "ax2.axis('off')\n",
    "ax1.set_ylim(-1, 10)\n",
    "ax2.set_ylim(-10,20)\n",
    "    \n",
    "def update(i):\n",
    "    line1.set_ydata([i%9,i%9])\n",
    "    line2.set_ydata([[i%9+3,i%9+2]])\n",
    "    return line1,line2,\n",
    "                \n",
    "ani = FuncAnimation(fig2, update, interval=200)\n",
    "plt.show() "
   ]
  },
  {
   "cell_type": "code",
   "execution_count": null,
   "metadata": {
    "collapsed": false
   },
   "outputs": [],
   "source": [
    "%%ignore\n",
    "theta = np.radians(i*0.02)\n",
    "    sintheta = np.sin(theta)\n",
    "    costheta = np.cos(theta)\n",
    "    xr = costheta*x + sintheta*y\n",
    "    yr = costheta*y + (-1)*sintheta*x\n",
    "\n",
    "    # project rotated object onto the x,y,z axes\n",
    "\n",
    "    x1 = cosa*cosb*xr + sinb*yr + (-1)*sina*cosb*zr\n",
    "    y1 =-cosa*sinb*xr + cosb*yr + sina*sinb*zr\n",
    "    z1 = sina*xr + cosa*zr\n",
    "\n",
    "    # project rotated object onto the x',y',z' axes\n",
    "    # and separate the 2 views of the object in x\n",
    "\n",
    "    xd1 = cosdelta*x1 + sindelta*z1 + 1.5\n",
    "    yd1 = y1\n",
    "    zd1 = cosdelta*z1 + (-1)*sindelta*x1\n",
    "    \n",
    "    plt.plot(x1,y1,'-b')\n",
    "    plt.plot(xd1,yd1,'-b')"
   ]
  }
 ],
 "metadata": {
  "kernelspec": {
   "display_name": "Python 3",
   "language": "python",
   "name": "python3"
  },
  "language_info": {
   "codemirror_mode": {
    "name": "ipython",
    "version": 3
   },
   "file_extension": ".py",
   "mimetype": "text/x-python",
   "name": "python",
   "nbconvert_exporter": "python",
   "pygments_lexer": "ipython3",
   "version": "3.5.1"
  }
 },
 "nbformat": 4,
 "nbformat_minor": 0
}
