{
 "cells": [
  {
   "cell_type": "markdown",
   "metadata": {
    "collapsed": true
   },
   "source": [
    "### Calculate and Plot Fermi beta angle"
   ]
  },
  {
   "cell_type": "markdown",
   "metadata": {},
   "source": [
    "### <span style=\"color:red; font-family:Georgia;\">Robert Cameron, May 2017</span>"
   ]
  },
  {
   "cell_type": "markdown",
   "metadata": {},
   "source": [
    "Based on the python implementation of SGP4 orbit propagator\n",
    "available at https://pypi.python.org/pypi/sgp4/"
   ]
  },
  {
   "cell_type": "code",
   "execution_count": 1,
   "metadata": {},
   "outputs": [],
   "source": [
    "# set the date range limits to calculate the beta angle for Fermi\n",
    "start = \"2018-01-01\" \n",
    "stop = \"2019-01-01\""
   ]
  },
  {
   "cell_type": "code",
   "execution_count": 2,
   "metadata": {},
   "outputs": [],
   "source": [
    "# set the output directory for output text files and plots\n",
    "outdir = \"/Users/rac/Documents/GLAST/ISOC/LATmetrics/beta/\""
   ]
  },
  {
   "cell_type": "code",
   "execution_count": 3,
   "metadata": {},
   "outputs": [
    {
     "name": "stderr",
     "output_type": "stream",
     "text": [
      "UsageError: unrecognized arguments: # it seems that this line must be before the matplotlib imports\n"
     ]
    }
   ],
   "source": [
    "import numpy as np\n",
    "import re\n",
    "import urllib\n",
    "from math import *\n",
    "%matplotlib notebook  # it seems that this line must be before the matplotlib imports\n",
    "import matplotlib.pyplot as plt, mpld3\n",
    "from matplotlib.ticker import (MultipleLocator, FormatStrFormatter, AutoMinorLocator)\n",
    "import sys\n",
    "from os.path import expanduser\n",
    "HOME = expanduser(\"~\")\n",
    "sys.path.append(HOME+'/Documents/GLAST/sgp4-1.4')\n",
    "from sgp4.earth_gravity import wgs84\n",
    "from sgp4.io import twoline2rv\n",
    "from sgp4.ext import jday, invjday, days2mdhms\n",
    "import datetime as dt     \n",
    "today = str(dt.date.today())"
   ]
  },
  {
   "cell_type": "code",
   "execution_count": null,
   "metadata": {},
   "outputs": [],
   "source": [
    "# get latest TLE (Two Line Elements) for Fermi orbit\n",
    "\n",
    "webTLE = \"http://celestrak.com/NORAD/elements/science.txt\"\n",
    "lines = urllib.request.urlopen(webTLE).readlines()\n",
    "regex = re.compile(b'(1|2) 33053')\n",
    "tle = [x.decode().replace('\\r\\n', '') for x in lines if regex.match(x)]\n",
    "tle"
   ]
  },
  {
   "cell_type": "code",
   "execution_count": null,
   "metadata": {},
   "outputs": [],
   "source": [
    "# use WGS84 Earth Coordinate System in TLE propagation\n",
    "satellite = twoline2rv(tle[0], tle[1], wgs84)"
   ]
  },
  {
   "cell_type": "code",
   "execution_count": null,
   "metadata": {},
   "outputs": [],
   "source": [
    "# The Fermi MOC and FSSC have the convention that the start of January 1 UTC = day-of-year (DOY) 1.0\n",
    "(y0,m0,d0) = map(int, start.split(\"-\"))\n",
    "jd0 = jday(y0,m0,d0,0,0,0)\n",
    "doy0 = jd0 - jday(y0,1,0,0,0,0)\n",
    "# omit the following line to have the beta angle time scale agree with the MOC/FOT and the FSSC\n",
    "#doy0 -= 1       ##### include this line to have the start of the year at Day-Of-Year = 0.0\n",
    "(y1,m1,d1) = map(int, stop.split(\"-\"))\n",
    "ndays = int(jday(y1,m1,d1,0,0,0)  - jd0)\n",
    "(y0, doy0, ndays)"
   ]
  },
  {
   "cell_type": "code",
   "execution_count": null,
   "metadata": {
    "raw_mimetype": "text/x-python"
   },
   "outputs": [],
   "source": [
    "# propagate Fermi orbit and calculate beta angle at 1-hour intervals\n",
    "# save data to a text file\n",
    "\n",
    "oformat = \"%4d %02d %02d %02d %02d %02d %12.5f %12.6f %12.6f %12.6f %8.3f\\n\"\n",
    "fo = open(outdir+\"beta_\"+today+\".txt\", \"w\")\n",
    "fo.write(\"Year MonDay H M  S     DOY     X(km)      Y(km)       Z(km)         beta\\n\"\n",
    "fdoypl = []\n",
    "betapl = []\n",
    "for day in range(ndays):\n",
    "    for hour in range(24):\n",
    "# add a small amount to the day number to ensure it is always a fraction of a second past the hour\n",
    "        dinc = day + hour/24.0 + 1.0e-9\n",
    "        jd = jd0 + dinc\n",
    "        fdoy = doy0 + dinc\n",
    "        (y,mon,d,h,m,s) = invjday(jd)    # need Julian Day for the Sun ephemeris\n",
    "        s = int(s)\n",
    "        fdoypl.append(fdoy)\n",
    "        pos, vel = satellite.propagate(y,mon,d,h,m,s)  # this is the key line to specify the date\n",
    "        pole = np.cross(pos,vel)\n",
    "        polelen = np.linalg.norm(pole)\n",
    "# calculate Sun coordinates. See (for example): https://en.wikipedia.org/wiki/Position_of_the_Sun\n",
    "        n = jd - 2451545.0\n",
    "        L = (280.460 + 0.9856474 * n) % 360\n",
    "        g = radians((357.528 + 0.9856003 * n) % 360)\n",
    "        lamda = radians(L + 1.915 * sin(g) + 0.020 * sin(2*g))\n",
    "        epsilon = radians(23.439 - 0.0000004 * n)\n",
    "        Xsun = cos(lamda)\n",
    "        Ysun = cos(epsilon) * sin(lamda)\n",
    "        Zsun = sin(epsilon) * sin(lamda)\n",
    "        dotprod = np.dot([Xsun,Ysun,Zsun], pole)\n",
    "        beta = degrees(np.arcsin(dotprod/polelen))\n",
    "        betapl.append(beta)\n",
    "        fo.write(oformat % (y, mon, d, h, m, s, fdoy, pos[0], pos[1], pos[2], beta))\n",
    "fo.close()"
   ]
  },
  {
   "cell_type": "code",
   "execution_count": null,
   "metadata": {},
   "outputs": [],
   "source": [
    "# set minor ticks on plot\n",
    "minorLocatorx = AutoMinorLocator(10)\n",
    "minorLocatory = AutoMinorLocator(10)\n",
    "\n",
    "#plt.rc('font', size = 12)\n",
    "fig, ax = plt.subplots(figsize = [11, 8.5])\n",
    "\n",
    "ax.set_ylim(-50,50)\n",
    "ax.grid('on',which='major', axis='both', linewidth=0.5, color='k')\n",
    "ax.grid('on',which='minor', axis='both',linestyle = 'dashed')\n",
    "ax.plot(fdoypl, betapl, label = 'Beta angle', color = 'b')\n",
    "ax.set_xlabel(str(y0)+' Day of Year')\n",
    "ax.set_ylabel('beta (degrees)', color = 'b')\n",
    "ax.set_title('Fermi Beta Angle')\n",
    "ax.xaxis.set_minor_locator(minorLocatorx)\n",
    "ax.yaxis.set_minor_locator(minorLocatory)\n",
    "xminmax = [fdoypl[0],fdoypl[-1]]\n",
    "\n",
    "ax.plot(xminmax,[-45,-45], color = 'r')\n",
    "ax.plot(xminmax,[45,45], color = 'r')\n",
    "\n",
    "mpld3.enable_notebook()"
   ]
  },
  {
   "cell_type": "code",
   "execution_count": null,
   "metadata": {},
   "outputs": [],
   "source": [
    "plt.savefig(outdir+'beta_'+today+'.png')"
   ]
  },
  {
   "cell_type": "code",
   "execution_count": null,
   "metadata": {},
   "outputs": [],
   "source": []
  }
 ],
 "metadata": {
  "celltoolbar": "Raw Cell Format",
  "kernelspec": {
   "display_name": "Python [default]",
   "language": "python",
   "name": "python3"
  },
  "language_info": {
   "codemirror_mode": {
    "name": "ipython",
    "version": 3
   },
   "file_extension": ".py",
   "mimetype": "text/x-python",
   "name": "python",
   "nbconvert_exporter": "python",
   "pygments_lexer": "ipython3",
   "version": "3.5.4"
  }
 },
 "nbformat": 4,
 "nbformat_minor": 1
}
