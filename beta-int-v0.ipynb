{
 "cells": [
  {
   "cell_type": "markdown",
   "metadata": {},
   "source": [
    "# Running SGP4 to calculate and plot Fermi beta angle"
   ]
  },
  {
   "cell_type": "markdown",
   "metadata": {},
   "source": [
    "### <span style=\"color:red; font-family:Georgia;\">Robert Cameron, July 2015</span>"
   ]
  },
  {
   "cell_type": "markdown",
   "metadata": {},
   "source": [
    "Based on the python implementation of SGP4 orbit propagator\n",
    "available at https://pypi.python.org/pypi/sgp4/"
   ]
  },
  {
   "cell_type": "code",
   "execution_count": 18,
   "metadata": {
    "collapsed": false
   },
   "outputs": [],
   "source": [
    "# specify the date range limits to calculate the beta angle for Fermi\n",
    "start = \"2015-07-01\" \n",
    "stop = \"2016-07-01\""
   ]
  },
  {
   "cell_type": "code",
   "execution_count": 19,
   "metadata": {
    "collapsed": false
   },
   "outputs": [
    {
     "name": "stdout",
     "output_type": "stream",
     "text": [
      "Populating the interactive namespace from numpy and matplotlib\n"
     ]
    },
    {
     "name": "stderr",
     "output_type": "stream",
     "text": [
      ":0: FutureWarning: IPython widgets are experimental and may change in the future.\n",
      "WARNING: pylab import has clobbered these variables: ['Widget', 'interactive', 'Text', 'beta', 'Button']\n",
      "`%matplotlib` prevents importing * from pylab and numpy\n"
     ]
    }
   ],
   "source": [
    "import numpy as np\n",
    "from IPython.html.widgets import *\n",
    "from IPython.display import *\n",
    "%pylab inline\n",
    "rcParams['figure.figsize'] = 12, 8\n",
    "rcParams['font.size'] = 16\n",
    "sys.path.append('/Users/rc/Documents/GLAST/sgp4-1.4')\n",
    "from sgp4.earth_gravity import wgs84\n",
    "from sgp4.io import twoline2rv\n",
    "from sgp4.ext import jday, invjday, days2mdhms\n",
    "import datetime as dt     \n",
    "today = str(dt.date.today())"
   ]
  },
  {
   "cell_type": "code",
   "execution_count": 20,
   "metadata": {
    "collapsed": false
   },
   "outputs": [],
   "source": [
    "tle = !tail -2 /Users/rc/Documents/GLAST/FGST-TLE.txt"
   ]
  },
  {
   "cell_type": "code",
   "execution_count": 21,
   "metadata": {
    "collapsed": false
   },
   "outputs": [
    {
     "data": {
      "text/plain": [
       "['1 33053U 08029A   15226.46154200  .00000889  00000-0  35715-4 0  9991',\n",
       " '2 33053  25.5822 259.6132 0013069  65.1459 295.0434 15.10050543395487']"
      ]
     },
     "execution_count": 21,
     "metadata": {},
     "output_type": "execute_result"
    }
   ],
   "source": [
    "tle"
   ]
  },
  {
   "cell_type": "code",
   "execution_count": 22,
   "metadata": {
    "collapsed": false
   },
   "outputs": [],
   "source": [
    "satellite = twoline2rv(tle[0], tle[1], wgs84)"
   ]
  },
  {
   "cell_type": "code",
   "execution_count": 23,
   "metadata": {
    "collapsed": false
   },
   "outputs": [
    {
     "data": {
      "text/plain": [
       "(2015, 181.0, 366)"
      ]
     },
     "execution_count": 23,
     "metadata": {},
     "output_type": "execute_result"
    }
   ],
   "source": [
    "(y0,m0,d0) = map(int, start.split(\"-\"))\n",
    "jd0 = jday(y0,m0,d0,0,0,0)\n",
    "doy0 = jd0 - jday(y0,1,1,0,0,0)\n",
    "(y1,m1,d1) = map(int, stop.split(\"-\"))\n",
    "ndays = int(jday(y1,m1,d1,0,0,0)  - jd0)\n",
    "(y0, doy0, ndays)"
   ]
  },
  {
   "cell_type": "code",
   "execution_count": 24,
   "metadata": {
    "collapsed": false
   },
   "outputs": [],
   "source": [
    "oformat = \"%4d %02d %02d %02d %02d %02d %12.5f %12.6f %12.6f %12.6f %8.3f\\n\"\n",
    "fo = open(\"beta_\"+today+\".txt\", \"w\")\n",
    "fdoypl = []\n",
    "betapl = []\n",
    "for day in range(ndays):\n",
    "    for hour in range(24):\n",
    "# add a small amount to the day number to ensure it is always a fraction of a second past the hour\n",
    "        dinc = day + hour/24.0 + 1.0e-9\n",
    "        jd = jd0 + dinc\n",
    "        fdoy = doy0 + dinc\n",
    "        (y,mon,d,h,m,s) = invjday(jd)    # need jd for the sun ephemeris\n",
    "        s = int(s)\n",
    "        fdoypl.append(fdoy)\n",
    "        pos, vel = satellite.propagate(y,mon,d,h,m,s)  # this is the key line to specify the date\n",
    "        pole = np.cross(pos,vel)\n",
    "        polelen = np.linalg.norm(pole)\n",
    "# calculate sun coordinates\n",
    "        n = jd - 2451545.0\n",
    "        L = (280.460 + 0.9856474 * n) % 360\n",
    "        g = radians((357.528 + 0.9856003 * n) % 360)\n",
    "        lamda = radians(L + 1.915 * sin(g) + 0.020 * sin(2*g))\n",
    "        epsilon = radians(23.439 - 0.0000004 * n)\n",
    "        Xsun = cos(lamda)\n",
    "        Ysun = cos(epsilon) * sin(lamda)\n",
    "        Zsun = sin(epsilon) * sin(lamda)\n",
    "        dotprod = np.dot([Xsun,Ysun,Zsun], pole)\n",
    "        beta = degrees(np.arcsin(dotprod/polelen))\n",
    "        betapl.append(beta)\n",
    "        fo.write(oformat % (y, mon, d, h, m, s, fdoy, pos[0], pos[1], pos[2], beta))\n",
    "fo.close()"
   ]
  },
  {
   "cell_type": "code",
   "execution_count": 32,
   "metadata": {
    "collapsed": false
   },
   "outputs": [
    {
     "data": {
      "text/plain": [
       "<function __main__.plot_beta>"
      ]
     },
     "execution_count": 32,
     "metadata": {},
     "output_type": "execute_result"
    },
    {
     "data": {
      "image/png": "[encoded data removed]",
      "text/plain": [
       "<matplotlib.figure.Figure at 0x107180fd0>"
      ]
     },
     "metadata": {},
     "output_type": "display_data"
    }
   ],
   "source": [
    "rcParams['figure.figsize'] = 12, 8\n",
    "#pylab.ylim(-50, 50)\n",
    "#pylab.xlim(doy0, doy0+ndays)\n",
    "def plot_beta(begin, end):\n",
    "    pylab.minorticks_on()\n",
    "    pylab.xlabel(str(y0)+' Day of Year')\n",
    "    pylab.ylabel('beta (degrees)', color='b')\n",
    "    pylab.title(\"Beta Angle\")\n",
    "    pylab.plot(fdoypl[begin:end], betapl[begin:end], label = 'Beta angle')\n",
    "#    pylab.plot([fdoypl[begin],fdoypl[end-1]],[0,0],'k')\n",
    "#    pylab.plot([fdoypl[begin],fdoypl[end-1]],[45,45],'r')\n",
    "#    pylab.plot([fdoypl[begin],fdoypl[end-1]],[-45,-45],'r')\n",
    "#    pylab.legend(loc='best',fontsize=12)\n",
    "interact(plot_beta, begin=(0, ndays*24-1), end=(1, ndays*24-1))"
   ]
  },
  {
   "cell_type": "code",
   "execution_count": null,
   "metadata": {
    "collapsed": true
   },
   "outputs": [],
   "source": [
    "savefig('beta_'+today+'.png')"
   ]
  }
 ],
 "metadata": {
  "celltoolbar": "Raw Cell Format",
  "kernelspec": {
   "display_name": "Python 3",
   "language": "python",
   "name": "python3"
  },
  "language_info": {
   "codemirror_mode": {
    "name": "ipython",
    "version": 3
   },
   "file_extension": ".py",
   "mimetype": "text/x-python",
   "name": "python",
   "nbconvert_exporter": "python",
   "pygments_lexer": "ipython3",
   "version": "3.4.3"
  }
 },
 "nbformat": 4,
 "nbformat_minor": 0
}
