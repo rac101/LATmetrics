{
 "cells": [
  {
   "cell_type": "markdown",
   "metadata": {},
   "source": [
    "# Count LAT memory errors and plot errors in timespan on a map\n",
    "\n",
    "###Robert Cameron, August 2015"
   ]
  },
  {
   "cell_type": "code",
   "execution_count": 1,
   "metadata": {},
   "outputs": [],
   "source": [
    "# specify the time range for the geographic plot of LAT memory errors\n",
    "\n",
    "start = \"2018-01-01\"\n",
    "end = \"2018-03-01\""
   ]
  },
  {
   "cell_type": "code",
   "execution_count": 2,
   "metadata": {},
   "outputs": [
    {
     "ename": "ImportError",
     "evalue": "No module named 'mpl_toolkits.basemap'",
     "output_type": "error",
     "traceback": [
      "\u001b[0;31m---------------------------------------------------------------------------\u001b[0m",
      "\u001b[0;31mImportError\u001b[0m                               Traceback (most recent call last)",
      "\u001b[0;32m<ipython-input-2-8c419b299ffd>\u001b[0m in \u001b[0;36m<module>\u001b[0;34m()\u001b[0m\n\u001b[1;32m      5\u001b[0m \u001b[0;32mimport\u001b[0m \u001b[0mmatplotlib\u001b[0m\u001b[0;34m.\u001b[0m\u001b[0mpyplot\u001b[0m \u001b[0;32mas\u001b[0m \u001b[0mplt\u001b[0m\u001b[0;34m\u001b[0m\u001b[0m\n\u001b[1;32m      6\u001b[0m \u001b[0;32mimport\u001b[0m \u001b[0mnumpy\u001b[0m \u001b[0;32mas\u001b[0m \u001b[0mnp\u001b[0m\u001b[0;34m\u001b[0m\u001b[0m\n\u001b[0;32m----> 7\u001b[0;31m \u001b[0;32mfrom\u001b[0m \u001b[0mmpl_toolkits\u001b[0m\u001b[0;34m.\u001b[0m\u001b[0mbasemap\u001b[0m \u001b[0;32mimport\u001b[0m \u001b[0mBasemap\u001b[0m\u001b[0;34m\u001b[0m\u001b[0m\n\u001b[0m\u001b[1;32m      8\u001b[0m \u001b[0;31m#plt.rc('figure', figsize = [16, 12])\u001b[0m\u001b[0;34m\u001b[0m\u001b[0;34m\u001b[0m\u001b[0m\n\u001b[1;32m      9\u001b[0m \u001b[0;31m#fig = plt.figure(figsize = [16, 9])\u001b[0m\u001b[0;34m\u001b[0m\u001b[0;34m\u001b[0m\u001b[0m\n",
      "\u001b[0;31mImportError\u001b[0m: No module named 'mpl_toolkits.basemap'"
     ]
    }
   ],
   "source": [
    "%matplotlib notebook\n",
    "import time\n",
    "import calendar\n",
    "import re\n",
    "import matplotlib.pyplot as plt\n",
    "import numpy as np\n",
    "from mpl_toolkits.basemap import Basemap\n",
    "#plt.rc('figure', figsize = [16, 12])\n",
    "#fig = plt.figure(figsize = [16, 9])\n",
    "#plt.rc('font', size = 20)\n",
    "#print (plt.rcParams.keys())"
   ]
  },
  {
   "cell_type": "code",
   "execution_count": null,
   "metadata": {},
   "outputs": [],
   "source": [
    "t_start = calendar.timegm(time.strptime(start, '%Y-%m-%d'))\n",
    "t_end = calendar.timegm(time.strptime(end, '%Y-%m-%d'))\n",
    "# read ASCII file of LAT memory errors\n",
    "err_count = {}\n",
    "err_count['SIU'] = 0\n",
    "err_count[('SIU','3')] = 0\n",
    "err_count[('SIU','4')] = 0\n",
    "err_count['EPU0'] = 0\n",
    "err_count[('EPU0','3')] = 0\n",
    "err_count[('EPU0','4')] = 0\n",
    "err_count['EPU1'] = 0\n",
    "err_count[('EPU1','3')] = 0\n",
    "err_count[('EPU1','4')] = 0\n",
    "err_count['3'] = 0\n",
    "err_count['4'] = 0\n",
    "err_count['all'] = 0\n",
    "err_count_in = err_count.copy()\n",
    "err_count_out = err_count.copy()\n",
    "n_blank = 0\n",
    "lon_in = []\n",
    "lat_in = []\n",
    "lon_out = []\n",
    "lat_out = []\n",
    "period_err = 0\n",
    "with open(\"/Users/rac/Documents/GLAST/ISOC/LATmetrics/memerr/memerr.history\") as fi:\n",
    "    for line in fi:\n",
    "        if not line.strip():\n",
    "            n_blank += 1\n",
    "            continue\n",
    "        line = re.sub('[\\(\\)\\:]',' ',line)\n",
    "        ws = line.split()\n",
    "        key1 = ws[0]\n",
    "        key2 = (ws[0],ws[10])\n",
    "        key3 = ws[10]\n",
    "        err_count[key1] = err_count.get(key1, 0) + 1\n",
    "        err_count[key2] = err_count.get(key2, 0) + 1\n",
    "        err_count[key3] = err_count.get(key3, 0) + 1\n",
    "        err_count['all'] = err_count.get('all', 0) + 1\n",
    "        if float(ws[5]) > t_start and float(ws[5]) < t_end:\n",
    "#            print (ws[-1])\n",
    "            period_err += 1\n",
    "            if int(ws[-1]) == 1:\n",
    "                lon_in.append(ws[-3])\n",
    "                lat_in.append(ws[-2])\n",
    "                err_count_in[key1] = err_count_in.get(key1, 0) + 1\n",
    "                err_count_in[key2] = err_count_in.get(key2, 0) + 1\n",
    "                err_count_in[key3] = err_count_in.get(key3, 0) + 1\n",
    "                err_count_in['all'] = err_count_in.get('all', 0) + 1\n",
    "            else:\n",
    "                lon_out.append(ws[-3])\n",
    "                lat_out.append(ws[-2])\n",
    "                err_count_out[key1] = err_count_out.get(key1, 0) + 1\n",
    "                err_count_out[key2] = err_count_out.get(key2, 0) + 1\n",
    "                err_count_out[key3] = err_count_out.get(key3, 0) + 1\n",
    "                err_count_out['all'] = err_count_out.get('all', 0) + 1\n",
    "fi.close()"
   ]
  },
  {
   "cell_type": "code",
   "execution_count": null,
   "metadata": {},
   "outputs": [],
   "source": [
    "(t_start, t_end)"
   ]
  },
  {
   "cell_type": "code",
   "execution_count": null,
   "metadata": {},
   "outputs": [],
   "source": [
    "print (n_blank,\"blank lines (1 per day)\")\n",
    "err = err_count\n",
    "print (\"\\nCumulative Errors\\tSIU\\tEPU0\\tEPU1\\tTotal\")\n",
    "print (\"Single Bit\\t\\t%d\\t%d\\t%d\\t%d\" % (err[('SIU','3')],err[('EPU0','3')],err[('EPU1','3')],err['3']))\n",
    "print (\"Double Bit\\t\\t%d\\t%d\\t%d\\t%d\" % (err[('SIU','4')],err[('EPU0','4')],err[('EPU1','4')],err['4']))\n",
    "print (\"Total\\t\\t\\t%d\\t%d\\t%d\\t%d\" % (err['SIU'],err['EPU0'],err['EPU1'],err['all']))\n",
    "\n",
    "err = err_count_in\n",
    "print (\"\\nCumulative Errors\\tSIU\\tEPU0\\tEPU1\\tTotal (inside the SAA, for the time period)\")\n",
    "print (\"Single Bit\\t\\t%d\\t%d\\t%d\\t%d\" % (err[('SIU','3')],err[('EPU0','3')],err[('EPU1','3')],err['3']))\n",
    "print (\"Double Bit\\t\\t%d\\t%d\\t%d\\t%d\" % (err[('SIU','4')],err[('EPU0','4')],err[('EPU1','4')],err['4']))\n",
    "print (\"Total\\t\\t\\t%d\\t%d\\t%d\\t%d\" % (err['SIU'],err['EPU0'],err['EPU1'],err['all']))\n",
    "\n",
    "err = err_count_out\n",
    "print (\"\\nCumulative Errors\\tSIU\\tEPU0\\tEPU1\\tTotal (outside the SAA, for the time period)\")\n",
    "print (\"Single Bit\\t\\t%d\\t%d\\t%d\\t%d\" % (err[('SIU','3')],err[('EPU0','3')],err[('EPU1','3')],err['3']))\n",
    "print (\"Double Bit\\t\\t%d\\t%d\\t%d\\t%d\" % (err[('SIU','4')],err[('EPU0','4')],err[('EPU1','4')],err['4']))\n",
    "print (\"Total\\t\\t\\t%d\\t%d\\t%d\\t%d\" % (err['SIU'],err['EPU0'],err['EPU1'],err['all']))\n"
   ]
  },
  {
   "cell_type": "code",
   "execution_count": null,
   "metadata": {},
   "outputs": [],
   "source": [
    "saapercent = 100*len(lat_in)/period_err\n",
    "\n",
    "saalon = [ 33.9,  24.5, -18.6, -25.7, -36.0, -42.0, -58.8, -93.1, -97.5, -98.5, -92.1, -86.1,  33.9]\n",
    "saalat = [-30.0, -22.6,   2.5,   5.2,   5.2,   4.6,   0.7,  -8.6,  -9.9, -12.5, -21.7, -30.0, -30.0]\n",
    "\n",
    "#fig = plt.figure(figsize = [16, 9])\n",
    "plt.figure(figsize = [16/1.6, 9/1.6])\n",
    "plt.rc('font', size = 10)\n",
    "m = Basemap(projection='cyl',llcrnrlat=-90,urcrnrlat=90,llcrnrlon=-180,urcrnrlon=180)\n",
    "m.drawcoastlines()\n",
    "#m.fillcontinents(color='coral',lake_color='aqua')\n",
    "# draw parallels and meridians.\n",
    "m.drawparallels(np.arange(-90.,91.,30.))\n",
    "m.drawmeridians(np.arange(-180.,181.,45.))\n",
    "#m.drawmapboundary(fill_color='aqua')\n",
    "m.plot(saalon,saalat,linewidth=1.5,color='g')\n",
    "m.fillcontinents(color='#eebb99')\n",
    "m.scatter(lon_in,lat_in,s=15,marker='+',color='b')\n",
    "m.scatter(lon_out,lat_out,s=9,marker='o',color='r')\n",
    "plt.title(\"%s to %s:         %s Total Errors          %d%% inside SAA\" % (start,end,period_err,saapercent))\n",
    "#plt.show()"
   ]
  },
  {
   "cell_type": "code",
   "execution_count": null,
   "metadata": {},
   "outputs": [],
   "source": []
  }
 ],
 "metadata": {
  "anaconda-cloud": {},
  "kernelspec": {
   "display_name": "Python [default]",
   "language": "python",
   "name": "python3"
  },
  "language_info": {
   "codemirror_mode": {
    "name": "ipython",
    "version": 3
   },
   "file_extension": ".py",
   "mimetype": "text/x-python",
   "name": "python",
   "nbconvert_exporter": "python",
   "pygments_lexer": "ipython3",
   "version": "3.5.4"
  }
 },
 "nbformat": 4,
 "nbformat_minor": 1
}
