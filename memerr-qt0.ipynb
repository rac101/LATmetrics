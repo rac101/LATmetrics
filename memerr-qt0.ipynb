{
 "cells": [
  {
   "cell_type": "markdown",
   "metadata": {},
   "source": [
    "# Count LAT memory errors and plot errors in timespan on a map\n",
    "\n",
    "### Robert Cameron, August 2015"
   ]
  },
  {
   "cell_type": "code",
   "execution_count": 50,
   "metadata": {
    "collapsed": false
   },
   "outputs": [],
   "source": [
    "# specify the time range for the geographic plot of LAT memory errors\n",
    "\n",
    "start = \"2015-04-01\"\n",
    "end = \"2015-07-01\""
   ]
  },
  {
   "cell_type": "code",
   "execution_count": 51,
   "metadata": {
    "collapsed": false
   },
   "outputs": [],
   "source": [
    "import time\n",
    "import calendar\n",
    "import re\n",
    "from mpl_toolkits.basemap import Basemap\n",
    "import numpy as np\n",
    "import matplotlib.pyplot as plt\n",
    "#rcParams['figure.figsize'] = 16, 12\n",
    "#rcParams['font.size'] = 20"
   ]
  },
  {
   "cell_type": "code",
   "execution_count": 52,
   "metadata": {
    "collapsed": false
   },
   "outputs": [],
   "source": [
    "t_start = calendar.timegm(time.strptime(start, '%Y-%m-%d'))\n",
    "t_end = calendar.timegm(time.strptime(end, '%Y-%m-%d'))\n",
    "# read ASCII file of LAT memory errors\n",
    "n_blank = 0\n",
    "n_uncorr = 0\n",
    "n_siu = 0\n",
    "n_siu_single = 0\n",
    "n_epu0 = 0\n",
    "n_epu0_single = 0\n",
    "n_epu1 = 0\n",
    "n_epu1_single = 0\n",
    "with open(\"/Users/rc/Documents/GLAST/ISOC/LATmetrics/memerr/geosaa.out\") as fi:\n",
    "    for line in fi:\n",
    "        if not line.strip():\n",
    "            n_blank += 1\n",
    "            continue\n",
    "        if '(Correctable' not in line: \n",
    "            n_uncorr += 1\n",
    "        else:\n",
    "            if 'SIU' in line:\n",
    "                n_siu += 1\n",
    "                if 'single-bit' in line:\n",
    "                    n_siu_single += 1\n",
    "            elif 'EPU0' in line:\n",
    "                n_epu0 += 1\n",
    "                if 'single-bit' in line:\n",
    "                    n_epu0_single += 1\n",
    "            elif 'EPU1' in line:\n",
    "                n_epu1 += 1\n",
    "                if 'single-bit' in line:\n",
    "                    n_epu1_single += 1\n",
    "fi.close()"
   ]
  },
  {
   "cell_type": "code",
   "execution_count": 53,
   "metadata": {
    "collapsed": false
   },
   "outputs": [
    {
     "data": {
      "text/plain": [
       "(1427846400, 1435708800)"
      ]
     },
     "execution_count": 53,
     "metadata": {},
     "output_type": "execute_result"
    }
   ],
   "source": [
    "(t_start, t_end)"
   ]
  },
  {
   "cell_type": "code",
   "execution_count": 54,
   "metadata": {
    "collapsed": false
   },
   "outputs": [
    {
     "name": "stdout",
     "output_type": "stream",
     "text": [
      "2540 blank lines (1 per day)\n",
      "0 Uncorrectable errors\n",
      "\n",
      "Cumulative Errors\tSIU\tEPU0\tEPU1\n",
      "Single Bit\t\t25819\t10086\t28765\n",
      "Double Bit\t\t482\t178\t688\n",
      "Total\t\t\t26301\t10264\t29453\n"
     ]
    }
   ],
   "source": [
    "n_siu_multi = n_siu - n_siu_single\n",
    "n_epu0_multi = n_epu0 - n_epu0_single\n",
    "n_epu1_multi = n_epu1 - n_epu1_single\n",
    "\n",
    "print (\"%d blank lines (1 per day)\\n%d Uncorrectable errors\\n\" % (n_blank, n_uncorr))\n",
    "print (\"Cumulative Errors\\tSIU\\tEPU0\\tEPU1\")\n",
    "print (\"Single Bit\\t\\t%d\\t%d\\t%d\" % (n_siu_single, n_epu0_single, n_epu1_single))\n",
    "print (\"Double Bit\\t\\t%d\\t%d\\t%d\" % (n_siu_multi, n_epu0_multi, n_epu1_multi))\n",
    "print (\"Total\\t\\t\\t%d\\t%d\\t%d\" % (n_siu, n_epu0, n_epu1))"
   ]
  },
  {
   "cell_type": "code",
   "execution_count": null,
   "metadata": {
    "collapsed": true
   },
   "outputs": [],
   "source": []
  }
 ],
 "metadata": {
  "kernelspec": {
   "display_name": "Python 3",
   "language": "python",
   "name": "python3"
  },
  "language_info": {
   "codemirror_mode": {
    "name": "ipython",
    "version": 3
   },
   "file_extension": ".py",
   "mimetype": "text/x-python",
   "name": "python",
   "nbconvert_exporter": "python",
   "pygments_lexer": "ipython3",
   "version": "3.4.3"
  }
 },
 "nbformat": 4,
 "nbformat_minor": 0
}
