{
 "cells": [
  {
   "cell_type": "markdown",
   "metadata": {},
   "source": [
    "# Plot LAT memory errors on a geographic map\n",
    "\n",
    "### Robert Cameron, August 2015"
   ]
  },
  {
   "cell_type": "code",
   "execution_count": null,
   "metadata": {
    "collapsed": false
   },
   "outputs": [],
   "source": [
    "from mpl_toolkits.basemap import Basemap\n",
    "import numpy as np\n",
    "import matplotlib.pyplot as plt\n",
    "plt.rc('figure', figsize = [16, 12])\n",
    "plt.rc('font', size = 20)\n",
    "#rcParams['figure.figsize'] = 16, 12\n",
    "#rcParams['font.size'] = 20"
   ]
  },
  {
   "cell_type": "code",
   "execution_count": null,
   "metadata": {
    "collapsed": false
   },
   "outputs": [],
   "source": [
    "# read ASCII tabular file of 3-month memory errors\n",
    "infile = \"/Users/rc/Documents/GLAST/ISOC/LATmetrics/memerr/idl-2015-q2.inp\"\n",
    "y,mon,d,h,m,s,t,lon,lat,saa = np.loadtxt(infile, unpack=True)\n",
    "saa_out = np.where(saa == 0)\n",
    "saa_in = np.where(saa == 1)\n",
    "saapercent = 100*len(saa[saa_in])/len(saa)\n",
    "\n",
    "saalon = [ 33.9,  24.5, -18.6, -25.7, -36.0, -42.0, -58.8, -93.1, -97.5, -98.5, -92.1, -86.1,  33.9]\n",
    "saalat = [-30.0, -22.6,   2.5,   5.2,   5.2,   4.6,   0.7,  -8.6,  -9.9, -12.5, -21.7, -30.0, -30.0]\n",
    "\n",
    "m = Basemap(projection='cyl',llcrnrlat=-90,urcrnrlat=90,llcrnrlon=-180,urcrnrlon=180)\n",
    "m.drawcoastlines()\n",
    "#m.fillcontinents(color='coral',lake_color='aqua')\n",
    "# draw parallels and meridians.\n",
    "m.drawparallels(np.arange(-90.,91.,30.))\n",
    "m.drawmeridians(np.arange(-180.,181.,45.))\n",
    "#m.drawmapboundary(fill_color='aqua')\n",
    "m.plot(saalon,saalat,linewidth=1.5,color='g')\n",
    "m.scatter(lon[saa_in],lat[saa_in],s=15,marker='+',color='b')\n",
    "m.scatter(lon[saa_out],lat[saa_out],s=9,marker='o',color='r')\n",
    "plt.title('%s Total Errors                      %d%% inside SAA' % (len(saa),saapercent))\n",
    "plt.show()"
   ]
  },
  {
   "cell_type": "code",
   "execution_count": null,
   "metadata": {
    "collapsed": false
   },
   "outputs": [],
   "source": [
    "len(saa)"
   ]
  },
  {
   "cell_type": "code",
   "execution_count": null,
   "metadata": {
    "collapsed": false
   },
   "outputs": [],
   "source": [
    "len(saa[saa_out])"
   ]
  },
  {
   "cell_type": "code",
   "execution_count": null,
   "metadata": {
    "collapsed": false
   },
   "outputs": [],
   "source": [
    "len(saa[saa_in])"
   ]
  },
  {
   "cell_type": "code",
   "execution_count": null,
   "metadata": {
    "collapsed": false
   },
   "outputs": [],
   "source": [
    "saapercent"
   ]
  },
  {
   "cell_type": "code",
   "execution_count": null,
   "metadata": {
    "collapsed": true
   },
   "outputs": [],
   "source": []
  }
 ],
 "metadata": {
  "kernelspec": {
   "display_name": "Python 3",
   "language": "python",
   "name": "python3"
  },
  "language_info": {
   "codemirror_mode": {
    "name": "ipython",
    "version": 3
   },
   "file_extension": ".py",
   "mimetype": "text/x-python",
   "name": "python",
   "nbconvert_exporter": "python",
   "pygments_lexer": "ipython3",
   "version": "3.4.3"
  }
 },
 "nbformat": 4,
 "nbformat_minor": 0
}
