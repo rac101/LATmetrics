{
 "cells": [
  {
   "cell_type": "markdown",
   "metadata": {},
   "source": [
    "# Count LAT memory errors and plot errors in timespan on a map\n",
    "\n",
    "### Robert Cameron, August 2015"
   ]
  },
  {
   "cell_type": "code",
   "execution_count": 41,
   "metadata": {
    "collapsed": false
   },
   "outputs": [],
   "source": [
    "%matplotlib inline\n",
    "from datetime import *\n",
    "import re\n",
    "from mpl_toolkits.basemap import Basemap\n",
    "import numpy as np\n",
    "import matplotlib.pyplot as plt\n",
    "plt.rc('figure', figsize = [16, 12])\n",
    "plt.rc('font', size = 20)"
   ]
  },
  {
   "cell_type": "code",
   "execution_count": 42,
   "metadata": {
    "collapsed": false
   },
   "outputs": [],
   "source": [
    "# read ASCII file of LAT memory errors\n",
    "# example line:\n",
    "#EPU1: 2015-07-29 23:36:33.466179 (1438212993.466179)  Address:  122126272 (0x07477fc0)  Type: 3 (Correctable single-bit error) -13.696137 -25.135624 1\n",
    "err_count = {}\n",
    "yesterday = ''\n",
    "dates = []\n",
    "day_out = []\n",
    "day_in = []\n",
    "lon_in = []\n",
    "lat_in = []\n",
    "lon_out = []\n",
    "lat_out = []\n",
    "with open(\"/Users/rc/Documents/GLAST/ISOC/LATmetrics/memerr/geosaa.out\") as fi:\n",
    "    for line in fi:\n",
    "        if not re.search(' [01]$', line):\n",
    "            continue\n",
    "        line = re.sub('[\\(\\)\\:]',' ',line)\n",
    "        fields = line.split()\n",
    "        key1 = fields[0]  # SIU, EPU0 or EPU1\n",
    "        key2 = (fields[0],fields[10])    # and error type 3 (single-bit) or 4 (multi-bit)\n",
    "        today = fields[1]\n",
    "        err_count[key1] = err_count.get(key1, 0) + 1\n",
    "        err_count[key2] = err_count.get(key2, 0) + 1\n",
    "        if today != yesterday:\n",
    "            dates.append(today)\n",
    "            day_out.append(len(lon_out))\n",
    "            day_in.append(len(lon_in))\n",
    "            yesterday = today\n",
    "        if int(fields[-1]) == 1:\n",
    "            lon_in.append(fields[-3])\n",
    "            lat_in.append(fields[-2])\n",
    "        else:\n",
    "            lon_out.append(fields[-3])\n",
    "            lat_out.append(fields[-2])\n",
    "fi.close()\n",
    "#date = datetime.strptime(today, '%Y-%m-%d')\n",
    "#tomorrow = date + timedelta(days=1)\n",
    "#print (today, tomorrow)\n",
    "#len(lon_in)\n",
    "#print (line)"
   ]
  },
  {
   "cell_type": "code",
   "execution_count": 43,
   "metadata": {
    "collapsed": false
   },
   "outputs": [
    {
     "data": {
      "text/plain": [
       "('2012-01-01', '2015-07-30', 1307, 1306, 1306, 27298, 2456, 29754)"
      ]
     },
     "execution_count": 43,
     "metadata": {},
     "output_type": "execute_result"
    }
   ],
   "source": [
    "date = datetime.strptime(today, '%Y-%m-%d')\n",
    "tomorrow = date + timedelta(days=1)\n",
    "dates.append(tomorrow.strftime('%Y-%m-%d'))\n",
    "dates[0], dates[-1], len(dates), len(day_in), len(day_out), len(lon_in), len(lon_out), len(lon_in)+len(lon_out)"
   ]
  },
  {
   "cell_type": "code",
   "execution_count": 48,
   "metadata": {
    "collapsed": false
   },
   "outputs": [
    {
     "name": "stdout",
     "output_type": "stream",
     "text": [
      "Cumulative Errors\tSIU\tEPU0\tEPU1\n",
      "Single Bit\t\t11709\t4499\t12997\n",
      "Double Bit\t\t225\t77\t247\n",
      "Totals\t\t\t11934\t4576\t13244\n",
      "\n",
      "For 2012-01-01 to 2015-07-30: 29754 Total Errors, with 91% inside SAA\n"
     ]
    }
   ],
   "source": [
    "#print (n_blank,\"blank lines (1 per day)\\n\")\n",
    "err_total = err_count['SIU']+err_count['EPU0']+err_count['EPU1']\n",
    "print (\"Cumulative Errors\\tSIU\\tEPU0\\tEPU1\")\n",
    "print (\"Single Bit\\t\\t%d\\t%d\\t%d\" % (err_count[('SIU','3')],err_count[('EPU0','3')],err_count[('EPU1','3')]))\n",
    "print (\"Double Bit\\t\\t%d\\t%d\\t%d\" % (err_count[('SIU','4')],err_count[('EPU0','4')],err_count[('EPU1','4')]))\n",
    "print (\"Totals\\t\\t\\t%d\\t%d\\t%d\" % (err_count['SIU'],err_count['EPU0'],err_count['EPU1']))\n",
    "saapercent = 100*len(lon_in)/err_total\n",
    "print (\"\\nFor %s to %s: %s Total Errors, with %d%% inside SAA\" % (dates[0],dates[-1],err_total,saapercent))"
   ]
  },
  {
   "cell_type": "code",
   "execution_count": 5,
   "metadata": {
    "collapsed": false
   },
   "outputs": [
    {
     "ename": "NameError",
     "evalue": "name 'per_err' is not defined",
     "output_type": "error",
     "traceback": [
      "\u001b[0;31m---------------------------------------------------------------------------\u001b[0m",
      "\u001b[0;31mNameError\u001b[0m                                 Traceback (most recent call last)",
      "\u001b[0;32m<ipython-input-5-a769eb0e01fc>\u001b[0m in \u001b[0;36m<module>\u001b[0;34m()\u001b[0m\n\u001b[0;32m----> 1\u001b[0;31m \u001b[0msaapercent\u001b[0m \u001b[0;34m=\u001b[0m \u001b[0;36m100\u001b[0m\u001b[0;34m*\u001b[0m\u001b[0mlen\u001b[0m\u001b[0;34m(\u001b[0m\u001b[0mlat_in\u001b[0m\u001b[0;34m)\u001b[0m\u001b[0;34m/\u001b[0m\u001b[0mper_err\u001b[0m\u001b[0;34m\u001b[0m\u001b[0m\n\u001b[0m\u001b[1;32m      2\u001b[0m \u001b[0;34m\u001b[0m\u001b[0m\n\u001b[1;32m      3\u001b[0m \u001b[0msaalon\u001b[0m \u001b[0;34m=\u001b[0m \u001b[0;34m[\u001b[0m \u001b[0;36m33.9\u001b[0m\u001b[0;34m,\u001b[0m  \u001b[0;36m24.5\u001b[0m\u001b[0;34m,\u001b[0m \u001b[0;34m-\u001b[0m\u001b[0;36m18.6\u001b[0m\u001b[0;34m,\u001b[0m \u001b[0;34m-\u001b[0m\u001b[0;36m25.7\u001b[0m\u001b[0;34m,\u001b[0m \u001b[0;34m-\u001b[0m\u001b[0;36m36.0\u001b[0m\u001b[0;34m,\u001b[0m \u001b[0;34m-\u001b[0m\u001b[0;36m42.0\u001b[0m\u001b[0;34m,\u001b[0m \u001b[0;34m-\u001b[0m\u001b[0;36m58.8\u001b[0m\u001b[0;34m,\u001b[0m \u001b[0;34m-\u001b[0m\u001b[0;36m93.1\u001b[0m\u001b[0;34m,\u001b[0m \u001b[0;34m-\u001b[0m\u001b[0;36m97.5\u001b[0m\u001b[0;34m,\u001b[0m \u001b[0;34m-\u001b[0m\u001b[0;36m98.5\u001b[0m\u001b[0;34m,\u001b[0m \u001b[0;34m-\u001b[0m\u001b[0;36m92.1\u001b[0m\u001b[0;34m,\u001b[0m \u001b[0;34m-\u001b[0m\u001b[0;36m86.1\u001b[0m\u001b[0;34m,\u001b[0m  \u001b[0;36m33.9\u001b[0m\u001b[0;34m]\u001b[0m\u001b[0;34m\u001b[0m\u001b[0m\n\u001b[1;32m      4\u001b[0m \u001b[0msaalat\u001b[0m \u001b[0;34m=\u001b[0m \u001b[0;34m[\u001b[0m\u001b[0;34m-\u001b[0m\u001b[0;36m30.0\u001b[0m\u001b[0;34m,\u001b[0m \u001b[0;34m-\u001b[0m\u001b[0;36m22.6\u001b[0m\u001b[0;34m,\u001b[0m   \u001b[0;36m2.5\u001b[0m\u001b[0;34m,\u001b[0m   \u001b[0;36m5.2\u001b[0m\u001b[0;34m,\u001b[0m   \u001b[0;36m5.2\u001b[0m\u001b[0;34m,\u001b[0m   \u001b[0;36m4.6\u001b[0m\u001b[0;34m,\u001b[0m   \u001b[0;36m0.7\u001b[0m\u001b[0;34m,\u001b[0m  \u001b[0;34m-\u001b[0m\u001b[0;36m8.6\u001b[0m\u001b[0;34m,\u001b[0m  \u001b[0;34m-\u001b[0m\u001b[0;36m9.9\u001b[0m\u001b[0;34m,\u001b[0m \u001b[0;34m-\u001b[0m\u001b[0;36m12.5\u001b[0m\u001b[0;34m,\u001b[0m \u001b[0;34m-\u001b[0m\u001b[0;36m21.7\u001b[0m\u001b[0;34m,\u001b[0m \u001b[0;34m-\u001b[0m\u001b[0;36m30.0\u001b[0m\u001b[0;34m,\u001b[0m \u001b[0;34m-\u001b[0m\u001b[0;36m30.0\u001b[0m\u001b[0;34m]\u001b[0m\u001b[0;34m\u001b[0m\u001b[0m\n\u001b[1;32m      5\u001b[0m \u001b[0;34m\u001b[0m\u001b[0m\n",
      "\u001b[0;31mNameError\u001b[0m: name 'per_err' is not defined"
     ]
    }
   ],
   "source": [
    "saapercent = 100*len(lon_in)/err_total\n",
    "\n",
    "saalon = [ 33.9,  24.5, -18.6, -25.7, -36.0, -42.0, -58.8, -93.1, -97.5, -98.5, -92.1, -86.1,  33.9]\n",
    "saalat = [-30.0, -22.6,   2.5,   5.2,   5.2,   4.6,   0.7,  -8.6,  -9.9, -12.5, -21.7, -30.0, -30.0]\n",
    "\n",
    "m = Basemap(projection='cyl',llcrnrlat=-90,urcrnrlat=90,llcrnrlon=-180,urcrnrlon=180)\n",
    "m.drawcoastlines()\n",
    "m.drawparallels(np.arange(-90.,91.,30.))\n",
    "m.drawmeridians(np.arange(-180.,181.,45.))\n",
    "m.plot(saalon,saalat,linewidth=1.5,color='g')\n",
    "m.scatter(lon_in,lat_in,s=15,marker='+',color='b')\n",
    "m.scatter(lon_out,lat_out,s=9,marker='o',color='r')\n",
    "plt.title(\"%s to %s:         %s Total Errors          %d%% inside SAA\" % (start,end,per_err,saapercent))\n",
    "plt.show()"
   ]
  },
  {
   "cell_type": "code",
   "execution_count": null,
   "metadata": {
    "collapsed": true
   },
   "outputs": [],
   "source": []
  }
 ],
 "metadata": {
  "kernelspec": {
   "display_name": "Python 3",
   "language": "python",
   "name": "python3"
  },
  "language_info": {
   "codemirror_mode": {
    "name": "ipython",
    "version": 3
   },
   "file_extension": ".py",
   "mimetype": "text/x-python",
   "name": "python",
   "nbconvert_exporter": "python",
   "pygments_lexer": "ipython3",
   "version": "3.4.3"
  }
 },
 "nbformat": 4,
 "nbformat_minor": 0
}
