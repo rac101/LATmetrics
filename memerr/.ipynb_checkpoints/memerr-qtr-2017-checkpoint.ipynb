{
 "cells": [
  {
   "cell_type": "markdown",
   "metadata": {},
   "source": [
    "# Count LAT memory errors and plot errors in timespan on a map\n",
    "\n",
    "### Robert Cameron, August 2015"
   ]
  },
  {
   "cell_type": "code",
   "execution_count": 1,
   "metadata": {},
   "outputs": [],
   "source": [
    "from ipywidgets import *\n",
    "from IPython.display import *\n",
    "%matplotlib inline\n",
    "from datetime import *\n",
    "import re\n",
    "from mpl_toolkits.basemap import Basemap\n",
    "import numpy as np\n",
    "import matplotlib.pyplot as plt\n",
    "plt.rc('figure', figsize = [16, 12])\n",
    "plt.rc('font', size = 20)"
   ]
  },
  {
   "cell_type": "code",
   "execution_count": 2,
   "metadata": {},
   "outputs": [],
   "source": [
    "# read ASCII file of LAT memory errors\n",
    "# example line:\n",
    "#EPU1: 2015-07-29 23:36:33.466179 (1438212993.466179)  Address:  122126272 (0x07477fc0)  Type: 3 (Correctable single-bit error) -13.696137 -25.135624 1\n",
    "err_count = {}\n",
    "yesterday = ''\n",
    "dates = []\n",
    "day_out = []\n",
    "day_in = []\n",
    "lon_in = []\n",
    "lat_in = []\n",
    "lon_out = []\n",
    "lat_out = []\n",
    "with open(\"/Users/rac/Documents/GLAST/ISOC/LATmetrics/memerr/geosaa.out\") as fi:\n",
    "    for line in fi:\n",
    "        if not re.search(' [01]$', line):\n",
    "            continue\n",
    "        line = re.sub('[\\(\\)\\:]',' ',line)\n",
    "        fields = line.split()\n",
    "        key1 = fields[0]  # SIU, EPU0 or EPU1\n",
    "        key2 = (fields[0],fields[10])    # and error type 3 (single-bit) or 4 (multi-bit)\n",
    "        today = fields[1]\n",
    "        err_count[key1] = err_count.get(key1, 0) + 1\n",
    "        err_count[key2] = err_count.get(key2, 0) + 1\n",
    "        if today != yesterday:\n",
    "            dates.append(today)\n",
    "            day_out.append(len(lon_out))\n",
    "            day_in.append(len(lon_in))\n",
    "            yesterday = today\n",
    "        if int(fields[-1]) == 1:\n",
    "            lon_in.append(fields[-3])\n",
    "            lat_in.append(fields[-2])\n",
    "        else:\n",
    "            lon_out.append(fields[-3])\n",
    "            lat_out.append(fields[-2])\n",
    "fi.close()"
   ]
  },
  {
   "cell_type": "code",
   "execution_count": 3,
   "metadata": {},
   "outputs": [],
   "source": [
    "date = datetime.strptime(today, '%Y-%m-%d')\n",
    "tomorrow = date + timedelta(days=1)\n",
    "dates.append(tomorrow.strftime('%Y-%m-%d'))\n",
    "dates[0], dates[-1], len(dates), len(day_in), len(day_out), len(lon_in), len(lon_out), len(lon_in)+len(lon_out)\n",
    "ndays = len(dates)"
   ]
  },
  {
   "cell_type": "code",
   "execution_count": 4,
   "metadata": {},
   "outputs": [
    {
     "name": "stdout",
     "output_type": "stream",
     "text": [
      "Cumulative Errors\tSIU\tEPU0\tEPU1\n",
      "Single Bit\t\t30815\t11973\t34264\n",
      "Double Bit\t\t572\t204\t798\n",
      "Totals\t\t\t31387\t12177\t35062\n",
      "\n",
      "For 2008-08-02 to 2017-04-01: 3163 days: 78626 Total Errors, with 92% inside SAA\n"
     ]
    }
   ],
   "source": [
    "err_total = err_count['SIU']+err_count['EPU0']+err_count['EPU1']\n",
    "print (\"Cumulative Errors\\tSIU\\tEPU0\\tEPU1\")\n",
    "print (\"Single Bit\\t\\t%d\\t%d\\t%d\" % (err_count[('SIU','3')],err_count[('EPU0','3')],err_count[('EPU1','3')]))\n",
    "print (\"Double Bit\\t\\t%d\\t%d\\t%d\" % (err_count[('SIU','4')],err_count[('EPU0','4')],err_count[('EPU1','4')]))\n",
    "print (\"Totals\\t\\t\\t%d\\t%d\\t%d\" % (err_count['SIU'],err_count['EPU0'],err_count['EPU1']))\n",
    "saapc = 100*len(lon_in)/err_total\n",
    "print (\"\\nFor %s to %s: %s days: %s Total Errors, with %d%% inside SAA\" % (dates[0],dates[-1],ndays,err_total,saapc))"
   ]
  },
  {
   "cell_type": "code",
   "execution_count": 5,
   "metadata": {},
   "outputs": [
    {
     "name": "stderr",
     "output_type": "stream",
     "text": [
      "Widget Javascript not detected.  It may not be installed or enabled properly.\n"
     ]
    },
    {
     "data": {
      "application/vnd.jupyter.widget-view+json": {
       "model_id": "272b7f02b4ae4e1192321e72ca22824e"
      }
     },
     "metadata": {},
     "output_type": "display_data"
    },
    {
     "data": {
      "text/plain": [
       "<function __main__.plot_errors>"
      ]
     },
     "execution_count": 5,
     "metadata": {},
     "output_type": "execute_result"
    }
   ],
   "source": [
    "saapercent = 100*len(lon_in)/err_total\n",
    "\n",
    "saalon = [ 33.9,  24.5, -18.6, -25.7, -36.0, -42.0, -58.8, -93.1, -97.5, -98.5, -92.1, -86.1,  33.9]\n",
    "saalat = [-30.0, -22.6,   2.5,   5.2,   5.2,   4.6,   0.7,  -8.6,  -9.9, -12.5, -21.7, -30.0, -30.0]\n",
    "\n",
    "m = Basemap(projection='cyl',llcrnrlat=-90,urcrnrlat=90,llcrnrlon=-180,urcrnrlon=180)\n",
    "def plot_errors(begin, end): \n",
    "    bin = day_in[begin]\n",
    "    ein = day_in[end]\n",
    "    bout = day_out[begin]\n",
    "    eout = day_out[end]\n",
    "    nin = ein-bin\n",
    "    nout = eout-bout\n",
    "    ntot = nin+nout\n",
    "    saapc = 100*nin/ntot\n",
    "    m.drawcoastlines()\n",
    "    m.drawparallels(np.arange(-90.,91.,30.))\n",
    "    m.drawmeridians(np.arange(-180.,181.,45.))\n",
    "    m.plot(saalon,saalat,linewidth=1.5,color='g')\n",
    "    m.scatter(lon_in[bin:ein],lat_in[bin:ein],s=15,marker='+',color='b')\n",
    "    m.scatter(lon_out[bout:eout],lat_out[bout:eout],s=9,marker='o',color='r')\n",
    "    plt.title(\"%s to %s:         %s Errors          %d%% inside SAA\" % (dates[begin],dates[end],ntot,saapc))\n",
    "    plt.show()\n",
    "interact(plot_errors, begin=(0, ndays-1), end=(1, ndays))"
   ]
  },
  {
   "cell_type": "code",
   "execution_count": null,
   "metadata": {
    "collapsed": true
   },
   "outputs": [],
   "source": []
  }
 ],
 "metadata": {
  "kernelspec": {
   "display_name": "Python [default]",
   "language": "python",
   "name": "python3"
  },
  "language_info": {
   "codemirror_mode": {
    "name": "ipython",
    "version": 3
   },
   "file_extension": ".py",
   "mimetype": "text/x-python",
   "name": "python",
   "nbconvert_exporter": "python",
   "pygments_lexer": "ipython3",
   "version": "3.5.3"
  }
 },
 "nbformat": 4,
 "nbformat_minor": 1
}
