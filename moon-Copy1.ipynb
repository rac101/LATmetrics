{
 "cells": [
  {
   "cell_type": "markdown",
   "metadata": {},
   "source": [
    "# Calculate Moon Coordinates "
   ]
  },
  {
   "cell_type": "markdown",
   "metadata": {},
   "source": [
    "### <span style=\"color:red; font-family:Georgia;\">Robert Cameron, May 2017</span>"
   ]
  },
  {
   "cell_type": "markdown",
   "metadata": {},
   "source": [
    "Based on the equations at:\n",
    "http://www.stargazing.net/kepler/moon2.html\n",
    "and\n",
    "http://www.stjarnhimlen.se/comp/ppcomp.html "
   ]
  },
  {
   "cell_type": "code",
   "execution_count": null,
   "metadata": {
    "collapsed": true
   },
   "outputs": [],
   "source": [
    "'   definitions and functions\n",
    "DEFDBL A-Z\n",
    "pr$ = \"####.###\"\n",
    "pr2$ = \"#########.######\"\n",
    "pi = 4 * ATN(1)\n",
    "tpi = 2 * pi\n",
    "twopi = tpi\n",
    "degs = 180 / pi\n",
    "rads = pi / 180\n",
    "'\n",
    "'   Get the days to Dec 31st 0h 2000 - note, this is NOT same\n",
    "'   as J2000\n",
    "'   h is UT in decimal hours\n",
    "'   FNday only works between 1901 to 2099 - see Meeus chapter 7\n",
    "'\n",
    "DEF FNday (y, m, d, h) = 367 * y - 7 * (y + (m + 9) \\ 12) \\ 4 + 275 * m \\ 9 + d - 730530 + h /\n",
    "24\n",
    "'\n",
    "'   define atn2\n",
    "'\n",
    "'   the atn2 function below returns an angle in the range 0 to two pi\n",
    "'   depending on the signs of x and y.\n",
    "'\n",
    "DEF FNatn2 (y, x)\n",
    "\ta = ATN(y / x)\n",
    "\tIF x < 0 THEN a = a + pi\n",
    "\tIF (y < 0) AND (x > 0) THEN a = a + tpi\n",
    "\tFNatn2 = a\n",
    "END DEF\n",
    "'\n",
    "'   the function below returns the true integer part,\n",
    "'   even for negative numbers\n",
    "'\n",
    "DEF FNipart (x) = SGN(x) * INT(ABS(x))\n",
    "'\n",
    "'   the function below returns an angle in the range\n",
    "'   0 to two pi\n",
    "'\n",
    "DEF FNrange (x)\n",
    "\tb = x / tpi\n",
    "\ta = tpi * (b - FNipart(b))\n",
    "\tIF a < 0 THEN a = tpi + a\n",
    "\tFNrange = a\n",
    "END DEF\n"
   ]
  },
  {
   "cell_type": "code",
   "execution_count": null,
   "metadata": {
    "collapsed": true
   },
   "outputs": [],
   "source": [
    "'\n",
    "'    get the time (strictly TDT, but UT will do) and date\n",
    "'\n",
    "INPUT \"  year  : \", y\n",
    "INPUT \"  month : \", m\n",
    "INPUT \"  day   : \", day\n",
    "INPUT \"hour UT : \", h\n",
    "INPUT \" minute : \", mins\n",
    "h = h + mins / 60\n",
    "d = FNday(y, m, day, h)\n",
    "PRINT \"    days : \"; d\n"
   ]
  },
  {
   "cell_type": "code",
   "execution_count": null,
   "metadata": {
    "collapsed": true
   },
   "outputs": [],
   "source": [
    "'   moon elements\n",
    "Nm = FNrange((125.1228 - .0529538083# * d) * rads)\n",
    "im = 5.1454 * rads\n",
    "wm = FNrange((318.0634 + .1643573223# * d) * rads)\n",
    "am = 60.2666  '(Earth radii)\n",
    "ecm = .0549\n",
    "Mm = FNrange((115.3654 + 13.0649929509# * d) * rads)\n",
    "'   sun elements\n",
    "Ns = 0!\n",
    "isun = 0!\n",
    "ws = FNrange((282.9404 + 4.70935E-05 * d) * rads)\n",
    "asun = 1!        '(AU)\n",
    "ecs = .016709 - 1.151E-09 * d\n",
    "Ms = FNrange((356.047 + .9856002585# * d) * rads)\n",
    "'position of Sun\n",
    "'Es = Ms + Es * SIN(Ms) * (1! + ecs * COS(Ms))\n",
    "'xv = COS(Es) - ecs\n",
    "'yv = SQR(1! - ecs * ecs) * SIN(Es)\n",
    "'vs = FNatn2(yv, xv)\n",
    "'rs = SQR(xv * xv + yv * yv)\n",
    "'lonsun = vs + ws\n",
    "'xs = rs * COS(lonsun)\n",
    "'ys = rs * SIN(lonsun)\n",
    "'xe = xs\n",
    "'ye = ys * COS(ecl)\n",
    "''ze = ys * SIN(ecl)\n",
    "'ras = FNatn2(ye, xe)\n",
    "'decs = FNatn2(ze, sqr(xe * xe + ye * ye))\n",
    "'   position of Moon\n",
    "Em = Mm + ecm * SIN(Mm) * (1! + ecm * COS(Mm))\n",
    "xv = am * (COS(Em) - ecm)\n",
    "yv = am * (SQR(1! - ecm * ecm) * SIN(Em))\n",
    "vm = FNatn2(yv, xv)\n",
    "rm = SQR(xv * xv + yv * yv)\n",
    "xh = rm * (COS(Nm) * COS(vm + wm) - SIN(Nm) * SIN(vm + wm) * COS(im))\n",
    "yh = rm * (SIN(Nm) * COS(vm + wm) + COS(Nm) * SIN(vm + wm) * COS(im))\n",
    "zh = rm * (SIN(vm + wm) * SIN(im))\n",
    "'   moons geocentric long and lat\n",
    "lon = FNatn2(yh, xh)\n",
    "lat = FNatn2(zh, SQR(xh * xh + yh * yh))\n",
    "'   perturbations\n",
    "'   first calculate arguments below, which should be in radians\n",
    "'Ms, Mm             Mean Anomaly of the Sun and the Moon\n",
    "'Nm                 Longitude of the Moon's node\n",
    "'ws, wm             Argument of perihelion for the Sun and the Moon\n",
    "Ls = Ms + ws       'Mean Longitude of the Sun  (Ns=0)\n",
    "Lm = Mm + wm + Nm  'Mean longitude of the Moon\n",
    "dm = Lm - Ls        'Mean elongation of the Moon\n",
    "F = Lm - Nm        'Argument of latitude for the Moon\n",
    "' then add the following terms to the longitude\n",
    "' note amplitudes are in degrees, convert at end\n",
    "dlon = -1.274 * SIN(Mm - 2 * dm)        '(the Evection)\n",
    "dlon = dlon + .658 * SIN(2 * dm)        '(the Variation)\n",
    "dlon = dlon - .186 * SIN(Ms)            '(the Yearly Equation)\n",
    "dlon = dlon - .059 * SIN(2 * Mm - 2 * dm)\n",
    "dlon = dlon - .057 * SIN(Mm - 2 * dm + Ms)\n",
    "dlon = dlon + .053 * SIN(Mm + 2 * dm)\n",
    "dlon = dlon + .046 * SIN(2 * dm - Ms)\n",
    "dlon = dlon + .041 * SIN(Mm - Ms)\n",
    "dlon = dlon - .035 * SIN(dm)            '(the Parallactic Equation)\n",
    "dlon = dlon - .031 * SIN(Mm + Ms)\n",
    "dlon = dlon - .015 * SIN(2 * F - 2 * dm)\n",
    "dlon = dlon + .011 * SIN(Mm - 4 * dm)\n",
    "lon = dlon * rads + lon\n",
    "'   latitude terms\n",
    "dlat = -.173 * SIN(F - 2 * dm)\n",
    "dlat = dlat - .055 * SIN(Mm - F - 2 * dm)\n",
    "dlat = dlat - .046 * SIN(Mm + F - 2 * dm)\n",
    "dlat = dlat + .033 * SIN(F + 2 * dm)\n",
    "dlat = dlat + .017 * SIN(2 * Mm + F)\n",
    "lat = dlat * rads + lat\n",
    "'   distance terms earth radii\n",
    "rm = rm - .58 * COS(Mm - 2 * dm)\n",
    "rm = rm - .46 * COS(2 * dm)\n",
    "'   next find the cartesian coordinates\n",
    "'   of the geocentric lunar position\n",
    "xg = rm * COS(lon) * COS(lat)\n",
    "yg = rm * SIN(lon) * COS(lat)\n",
    "zg = rm * SIN(lat)\n",
    "'   rotate to equatorial coords\n",
    "'   obliquity of ecliptic of date\n",
    "ecl = (23.4393 - 3.563E-07 * d) * rads\n",
    "xe = xg\n",
    "ye = yg * COS(ecl) - zg * SIN(ecl)\n",
    "ze = yg * SIN(ecl) + zg * COS(ecl)\n",
    "'   geocentric RA and Dec\n",
    "ra = FNatn2(ye, xe)\n",
    "dec = ATN(ze / SQR(xe * xe + ye * ye))\n",
    "PRINT USING pr$; ra * degs / 15\n",
    "PRINT USING pr$; dec * degs\n",
    "END"
   ]
  },
  {
   "cell_type": "code",
   "execution_count": 15,
   "metadata": {
    "collapsed": true
   },
   "outputs": [],
   "source": [
    "# specify the UTC time for the Moon position/coordinate calculations\n",
    "start = \"1991-05-19 15:00:00\"\n",
    "timezone = \"CEST\""
   ]
  },
  {
   "cell_type": "code",
   "execution_count": 16,
   "metadata": {
    "collapsed": true
   },
   "outputs": [],
   "source": [
    "year = 1991\n",
    "month = 5\n",
    "day = 19\n",
    "hour = 15\n",
    "minute = 0\n",
    "second = 0"
   ]
  },
  {
   "cell_type": "code",
   "execution_count": 17,
   "metadata": {
    "collapsed": true
   },
   "outputs": [],
   "source": [
    "hms = hour + minute/60.0 + second/3600.0\n",
    "\n",
    "# convert input time to UTC\n",
    "\n",
    "ut = hms - 2.0"
   ]
  },
  {
   "cell_type": "code",
   "execution_count": 18,
   "metadata": {
    "collapsed": true
   },
   "outputs": [],
   "source": [
    "d = 367*year - 7 * ( year + (month+9)//12 ) // 4 + 275*month//9 + day - 730530"
   ]
  },
  {
   "cell_type": "code",
   "execution_count": 19,
   "metadata": {},
   "outputs": [
    {
     "data": {
      "text/plain": [
       "-3148.5416666666665"
      ]
     },
     "execution_count": 19,
     "metadata": {},
     "output_type": "execute_result"
    }
   ],
   "source": [
    "d -= ut/24.0\n",
    "d"
   ]
  },
  {
   "cell_type": "code",
   "execution_count": 20,
   "metadata": {
    "collapsed": true
   },
   "outputs": [],
   "source": [
    "import numpy as np\n",
    "from math import *\n",
    "%matplotlib inline\n",
    "import matplotlib as plt\n",
    "import sys\n",
    "import datetime as dt"
   ]
  },
  {
   "cell_type": "code",
   "execution_count": null,
   "metadata": {
    "collapsed": true
   },
   "outputs": [],
   "source": [
    "# Convert input time to UTC"
   ]
  },
  {
   "cell_type": "code",
   "execution_count": null,
   "metadata": {
    "collapsed": true
   },
   "outputs": [],
   "source": [
    "plt.rc('figure', figsize = [16, 12])\n",
    "plt.rc('font', size = 16)"
   ]
  },
  {
   "cell_type": "code",
   "execution_count": 24,
   "metadata": {},
   "outputs": [
    {
     "data": {
      "text/plain": [
       "(2016, 183.0, 6)"
      ]
     },
     "execution_count": 24,
     "metadata": {},
     "output_type": "execute_result"
    }
   ],
   "source": [
    "(y0,m0,d0) = map(int, start.split(\"-\"))\n",
    "jd0 = jday(y0,m0,d0,0,0,0)\n",
    "doy0 = jd0 - jday(y0,1,0,0,0,0)\n",
    "(y1,m1,d1) = map(int, stop.split(\"-\"))\n",
    "ndays = int(jday(y1,m1,d1,0,0,0)  - jd0)\n",
    "(y0, doy0, ndays)"
   ]
  },
  {
   "cell_type": "code",
   "execution_count": 25,
   "metadata": {
    "collapsed": true
   },
   "outputs": [],
   "source": [
    "oformat = \"%4d %02d %02d %02d %02d %02d %12.5f %12.6f %12.6f %12.6f %8.3f\\n\"\n",
    "fo = open(\"beta_\"+today+\".txt\", \"w\")\n",
    "fdoypl = []\n",
    "betapl = []\n",
    "for day in range(ndays):\n",
    "    for hour in range(24):\n",
    "# add a small amount to the day number to ensure it is always a fraction of a second past the hour\n",
    "        dinc = day + hour/24.0 + 1.0e-9\n",
    "        jd = jd0 + dinc\n",
    "        fdoy = doy0 + dinc\n",
    "        (y,mon,d,h,m,s) = invjday(jd)    # need jd for the sun ephemeris\n",
    "        s = int(s)\n",
    "        fdoypl.append(fdoy)\n",
    "        pos, vel = satellite.propagate(y,mon,d,h,m,s)  # this is the key line to specify the date\n",
    "        pole = np.cross(pos,vel)\n",
    "        polelen = np.linalg.norm(pole)\n",
    "# calculate sun coordinates\n",
    "        n = jd - 2451545.0\n",
    "        L = (280.460 + 0.9856474 * n) % 360\n",
    "        g = radians((357.528 + 0.9856003 * n) % 360)\n",
    "        lamda = radians(L + 1.915 * sin(g) + 0.020 * sin(2*g))\n",
    "        epsilon = radians(23.439 - 0.0000004 * n)\n",
    "        Xsun = cos(lamda)\n",
    "        Ysun = cos(epsilon) * sin(lamda)\n",
    "        Zsun = sin(epsilon) * sin(lamda)\n",
    "        dotprod = np.dot([Xsun,Ysun,Zsun], pole)\n",
    "        beta = degrees(np.arcsin(dotprod/polelen))\n",
    "        betapl.append(beta)\n",
    "        fo.write(oformat % (y, mon, d, h, m, s, fdoy, pos[0], pos[1], pos[2], beta))\n",
    "fo.close()"
   ]
  },
  {
   "cell_type": "code",
   "execution_count": 26,
   "metadata": {},
   "outputs": [
    {
     "data": {
      "image/png": "[encoded data removed]",
      "text/plain": [
       "<matplotlib.figure.Figure at 0x10ec0d438>"
      ]
     },
     "metadata": {},
     "output_type": "display_data"
    }
   ],
   "source": [
    "#rcParams['figure.figsize'] = 12, 8\n",
    "#pylab.ylim(-50, 50)\n",
    "#pylab.xlim(doy0, doy0+ndays)\n",
    "def plot_beta(begin, end):\n",
    "    pylab.minorticks_on()\n",
    "    pylab.xlabel(str(y0)+' Day of Year')\n",
    "    pylab.ylabel('beta (degrees)', color='b')\n",
    "    pylab.title(\"Beta Angle\")\n",
    "    pylab.plot(fdoypl[begin:end], betapl[begin:end], label = 'Beta angle')\n",
    "#    pylab.plot([fdoypl[begin],fdoypl[end-1]],[0,0],'k')\n",
    "#    pylab.plot([fdoypl[begin],fdoypl[end-1]],[45,45],'r')\n",
    "#    pylab.plot([fdoypl[begin],fdoypl[end-1]],[-45,-45],'r')\n",
    "#    pylab.legend(loc='best',fontsize=12)\n",
    "interact(plot_beta, begin=(0, ndays*24-1), end=(1, ndays*24-1))"
   ]
  },
  {
   "cell_type": "code",
   "execution_count": 27,
   "metadata": {},
   "outputs": [
    {
     "ename": "NameError",
     "evalue": "name 'savefig' is not defined",
     "output_type": "error",
     "traceback": [
      "\u001b[0;31m---------------------------------------------------------------------------\u001b[0m",
      "\u001b[0;31mNameError\u001b[0m                                 Traceback (most recent call last)",
      "\u001b[0;32m<ipython-input-27-2f0fa49b2fac>\u001b[0m in \u001b[0;36m<module>\u001b[0;34m()\u001b[0m\n\u001b[0;32m----> 1\u001b[0;31m \u001b[0msavefig\u001b[0m\u001b[0;34m(\u001b[0m\u001b[0;34m'beta_'\u001b[0m\u001b[0;34m+\u001b[0m\u001b[0mtoday\u001b[0m\u001b[0;34m+\u001b[0m\u001b[0;34m'.png'\u001b[0m\u001b[0;34m)\u001b[0m\u001b[0;34m\u001b[0m\u001b[0m\n\u001b[0m",
      "\u001b[0;31mNameError\u001b[0m: name 'savefig' is not defined"
     ]
    }
   ],
   "source": [
    "savefig('beta_'+today+'.png')"
   ]
  }
 ],
 "metadata": {
  "celltoolbar": "Raw Cell Format",
  "kernelspec": {
   "display_name": "Python [default]",
   "language": "python",
   "name": "python3"
  },
  "language_info": {
   "codemirror_mode": {
    "name": "ipython",
    "version": 3
   },
   "file_extension": ".py",
   "mimetype": "text/x-python",
   "name": "python",
   "nbconvert_exporter": "python",
   "pygments_lexer": "ipython3",
   "version": "3.5.3"
  }
 },
 "nbformat": 4,
 "nbformat_minor": 1
}
