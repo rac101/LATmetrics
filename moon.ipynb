{
 "cells": [
  {
   "cell_type": "markdown",
   "metadata": {},
   "source": [
    "# Calculate Moon Coordinates "
   ]
  },
  {
   "cell_type": "markdown",
   "metadata": {},
   "source": [
    "### <span style=\"color:red; font-family:Georgia;\">Robert Cameron, June 2017</span>"
   ]
  },
  {
   "cell_type": "markdown",
   "metadata": {},
   "source": [
    "Based on the equations at:\n",
    "http://www.stargazing.net/kepler/moon2.html and http://www.stjarnhimlen.se/comp/ppcomp.html"
   ]
  },
  {
   "cell_type": "code",
   "execution_count": 1,
   "metadata": {
    "collapsed": true
   },
   "outputs": [],
   "source": [
    "from math import *"
   ]
  },
  {
   "cell_type": "code",
   "execution_count": 2,
   "metadata": {
    "collapsed": true
   },
   "outputs": [],
   "source": [
    "# The time scale in the formulae below is days. \n",
    "# Hours, minutes, seconds are expressed as fractions of a day. \n",
    "# Day 0.0 occurs at 2000 Jan 0.0 UT (or 1999 Dec 31, 0:00 UT). \n",
    "# This \"day number\" d0 is computed as follows (y=year, m=month, D=date, UT=UT in hours+decimals):\n",
    "\n",
    "def d2000(y,m,d,h):\n",
    "    return 367*y - 7*(y + (m+9)//12) // 4 + 275*m//9 + d - 730530 + h/24.0"
   ]
  },
  {
   "cell_type": "code",
   "execution_count": 3,
   "metadata": {},
   "outputs": [
    {
     "data": {
      "text/plain": [
       "0.5"
      ]
     },
     "execution_count": 3,
     "metadata": {},
     "output_type": "execute_result"
    }
   ],
   "source": [
    "year = 1999\n",
    "mon = 12\n",
    "day = 31\n",
    "UT = 12.0     # UT = hours of the day\n",
    "d0 = d2000(year,mon,day,UT)\n",
    "d0"
   ]
  },
  {
   "cell_type": "code",
   "execution_count": 4,
   "metadata": {
    "collapsed": true
   },
   "outputs": [],
   "source": [
    "# Local Longitude (loclon) and Latitude (loclat) for Stanford University (in degrees):\n",
    "# From the Prime Meridian at Greenwich: east longitude is positive, west is negative.\n",
    "\n",
    "loclon = 122.17\n",
    "loclat = 37.43"
   ]
  },
  {
   "cell_type": "code",
   "execution_count": 5,
   "metadata": {
    "collapsed": true
   },
   "outputs": [],
   "source": [
    "twopi = 2.0 * pi"
   ]
  },
  {
   "cell_type": "code",
   "execution_count": 6,
   "metadata": {
    "collapsed": true
   },
   "outputs": [],
   "source": [
    "#   the function below returns an angle (in radians) in the range 0 to two pi\n",
    "def pang(x):\n",
    "    while (x <0):\n",
    "        x += twopi\n",
    "    while (x > twopi):\n",
    "        x -= twopi\n",
    "    return x"
   ]
  },
  {
   "cell_type": "code",
   "execution_count": 7,
   "metadata": {
    "collapsed": true
   },
   "outputs": [],
   "source": [
    "#   the myatan2 function below returns an angle in the range 0 to two pi\n",
    "#   the Python atan2 function returns an angle in the range -pi to +pi\n",
    "#\n",
    "def myatan2(y, x):\n",
    "    return pang(atan2(y, x))"
   ]
  },
  {
   "cell_type": "code",
   "execution_count": 8,
   "metadata": {},
   "outputs": [],
   "source": [
    "# Primary orbital elements are:\n",
    "\n",
    "#    N = longitude of the ascending node\n",
    "#    i = inclination to the ecliptic (plane of the Earth's orbit)\n",
    "#    w = argument of perihelion\n",
    "#    a = semi-major axis, or mean distance from Sun\n",
    "#    e = eccentricity (0=circle, 0-1=ellipse, 1=parabola)\n",
    "#    M = mean anomaly (0 at perihelion; increases uniformly with time)\n",
    "\n",
    "# Primary orbital elements of the Sun:\n",
    "\n",
    "N_s = 0.0\n",
    "i_s = 0.0\n",
    "w_s = radians(282.9404 + 4.70935E-5 * d0)\n",
    "a_s = 1.000000   # distance to the Sun in AU\n",
    "e_s = 0.016709 - 1.151E-9 * d0\n",
    "M_s = radians(356.0470 + 0.9856002585 * d0)\n",
    "\n",
    "# Primary orbital elements of the Moon:\n",
    "\n",
    "N_m = radians(125.1228 - 0.0529538083 * d0)\n",
    "i_m = radians(5.1454)\n",
    "w_m = radians(318.0634 + 0.1643573223 * d0)\n",
    "a_m = 60.2666   # distance to the Moon in Earth radii\n",
    "e_m = 0.054900\n",
    "M_m = radians(115.3654 + 13.0649929509 * d0)"
   ]
  },
  {
   "cell_type": "code",
   "execution_count": 9,
   "metadata": {},
   "outputs": [],
   "source": [
    "# Related orbital elements are:\n",
    "\n",
    "#    w1 = N + w   = longitude of perihelion\n",
    "#    L  = M + w1  = mean longitude\n",
    "#    q  = a*(1-e) = perihelion distance\n",
    "#    Q  = a*(1+e) = aphelion distance\n",
    "#    P  = a ^ 1.5 = orbital period (years if a is in AU, astronomical units)\n",
    "#    T  = Epoch_of_M - (M(deg)/360_deg) / P  = time of perihelion\n",
    "#    v  = true anomaly (angle between position and perihelion)\n",
    "#    EA  = eccentric anomaly\n",
    "\n",
    "# The position of the Sun:\n",
    "\n",
    "# Eccentric Anomaly:\n",
    "EA_s = M_s + e_s * sin(M_s) * ( 1.0 + e_s * cos(M_s) )\n",
    "\n",
    "# The Sun's distance and true anomaly:\n",
    "\n",
    "xv_s = a_s * ( cos(EA_s) - e_s )\n",
    "yv_s = a_s * ( sqrt(1.0 - e_s*e_s) * sin(EA_s) )\n",
    "\n",
    "v_s = atan2( yv_s, xv_s )\n",
    "r_s = sqrt( xv_s*xv_s + yv_s*yv_s )\n",
    "\n",
    "L_s = v_s + w_s\n",
    "\n",
    "# The position of the Moon:\n",
    "\n",
    "# Eccentric Anomaly:\n",
    "EA_m = M_m + e_m * sin(M_m) * ( 1.0 + e_m * cos(M_m) )\n",
    "\n",
    "# The Moon's distance and true anomaly:\n",
    "\n",
    "xv_m = a_m * ( cos(EA_m) - e_m )\n",
    "yv_m = a_m * ( sqrt(1.0 - e_m*e_m) * sin(EA_m) )\n",
    "\n",
    "v_m = atan2( yv_m, xv_m )\n",
    "r_m = sqrt( xv_m*xv_m + yv_m*yv_m )\n",
    "\n",
    "L_m = v_m + w_m"
   ]
  },
  {
   "cell_type": "code",
   "execution_count": 10,
   "metadata": {
    "collapsed": true
   },
   "outputs": [],
   "source": [
    "# Compute Sidereal Time\n",
    "\n",
    "# The Local Sideral Time (LST) is simply the RA of your local meridian. \n",
    "# The Greenwich Mean Sideral Time (GMST) is the LST at Greenwich. \n",
    "# The Greenwich Mean Sidereal Time at 0h UT (GMST0) is the GMST at Greenwich midnight. \n",
    "\n",
    "# GMST0 is computed from L_s (divide Ls by 15 to get GMST0 in hours rather than degrees).\n",
    "# Get GMST by adding the UT hours of the day, and get LST by adding your local longitude.\n",
    "# From the Prime Meridian at Greenwich: east longitude is positive, west is negative.\n",
    "\n",
    "# Assume times (UT) are in hours and angles (Ls, local longitude) in degrees, \n",
    "# and use the conversion factor of 15 degrees/hour:\n",
    "\n",
    "GMST0 = L_s/15.0 + 12.0\n",
    "GMST = GMST0 + UT\n",
    "LST  = GMST + loclon/15.0"
   ]
  },
  {
   "cell_type": "code",
   "execution_count": 11,
   "metadata": {},
   "outputs": [],
   "source": [
    "# The position of the Moon in cartesian and geocentric ecliptic coordinates:\n",
    "\n",
    "xg_m = r_m * ( cos(N_m) * cos(L_m) - sin(N_m) * sin(L_m) * cos(i_m) )\n",
    "yg_m = r_m * ( sin(N_m) * cos(L_m) + cos(N_m) * sin(L_m) * cos(i_m) )\n",
    "zg_m = r_m * ( sin(L_m) * sin(i_m) )\n",
    "\n",
    "lon_m = atan2( yg_m, xg_m )\n",
    "lat_m = atan2( zg_m, sqrt(xg_m*xg_m+yg_m*yg_m) )"
   ]
  },
  {
   "cell_type": "code",
   "execution_count": 12,
   "metadata": {
    "collapsed": true
   },
   "outputs": [],
   "source": [
    "# Precession\n",
    "\n",
    "# As the Earth's equatorial plane precesses relative to the ecliptic plane, the equinoxes \n",
    "# move westward along the ecliptic at 50.3 arcseconds per year = 3.82E-5 degrees per day. \n",
    "\n",
    "# Precession is needed to compute the Moon's position for some standard epoch, such as 2000.0 \n",
    "# (e.g. to be able to plot the position on a star atlas). \n",
    "\n",
    "# Precession correction is not needed for the position for today's epoch \n",
    "# (e.g. when computing rising/setting times).\n",
    "\n",
    "# Add the correction below to the ecliptic longitude (degrees).\n",
    "\n",
    "Epoch = 2000.0\n",
    "dlon_m = 3.82394E-5 * ( 365.2422 * ( Epoch - 2000.0 ) - d0 )"
   ]
  },
  {
   "cell_type": "code",
   "execution_count": 13,
   "metadata": {},
   "outputs": [],
   "source": [
    "# Perturbations of the Moon\n",
    "\n",
    "# If the position of the Moon is needed with a better accuracy than about 2 degrees, \n",
    "# then the most important perturbations must be taken into account. \n",
    "# For 2 arc minute accuracy, all the following terms should be accounted for. \n",
    "# If less accuracy is needed, some of the smaller terms can be omitted.\n",
    "\n",
    "# First compute:\n",
    "\n",
    "L_s = M_s + w_s           # Mean Longitude of the Sun  (N_sun=0)\n",
    "L_m = M_m + w_m + N_m     # Mean longitude of the Moon\n",
    "D_m = L_m - L_s           # Mean elongation of the Moon\n",
    "F_m = L_m - N_m           # Argument of latitude for the Moon\n",
    "\n",
    "# Add these terms to the Moon's geocentric ecliptic longitude (scale factors are for degrees):\n",
    "\n",
    "dlon_m += -1.274 * sin(M_m - 2*D_m) # the Evection\n",
    "dlon_m += +0.658 * sin(2*D_m)      # the Variation\n",
    "dlon_m += -0.186 * sin(M_s)        # the Yearly Equation\n",
    "dlon_m += -0.059 * sin(2*M_m - 2*D_m)\n",
    "dlon_m += -0.057 * sin(M_m - 2*D_m + M_s)\n",
    "dlon_m += +0.053 * sin(M_m + 2*D_m)\n",
    "dlon_m += +0.046 * sin(2*D_m - M_s)\n",
    "dlon_m += +0.041 * sin(M_m - M_s)\n",
    "dlon_m += -0.035 * sin(D_m)        # the Parallactic Equation\n",
    "dlon_m += -0.031 * sin(M_m + M_s)\n",
    "dlon_m += -0.015 * sin(2*F_m - 2*D_m)\n",
    "dlon_m += +0.011 * sin(M_m - 4*D_m)\n",
    "lon_m += radians(dlon_m)\n",
    "\n",
    "# Add these terms to the Moon's geocentric ecliptic latitude (scale factors are for degrees):\n",
    "\n",
    "dlat_m = -0.173 * sin(F_m - 2*D_m)\n",
    "dlat_m += -0.055 * sin(M_m - F_m - 2*D_m)\n",
    "dlat_m += -0.046 * sin(M_m + F_m - 2*D_m)\n",
    "dlat_m += +0.033 * sin(F_m + 2*D_m)\n",
    "dlat_m += +0.017 * sin(2*M_m + F_m)\n",
    "lat_m += radians(dlat_m)\n",
    "\n",
    "# Add these terms to the Moon's distance (scale factors are for Earth radii):\n",
    "\n",
    "dr_m = -0.58 * cos(M_m - 2*D_m)\n",
    "dr_m += -0.46 * cos(2*D_m)\n",
    "r_m += dr_m"
   ]
  },
  {
   "cell_type": "code",
   "execution_count": 14,
   "metadata": {},
   "outputs": [],
   "source": [
    "# the position of the Moon in Geocentric Cartesian ecliptic coordinates\n",
    "\n",
    "# Now we have the geocentric coordinates of the Moon including perturbations, \n",
    "# convert the perturbed ecliptic longitude, latitude, r to (perturbed) x, y, z:\n",
    "\n",
    "xg_m = r_m * cos(lon_m) * cos(lat_m)\n",
    "yg_m = r_m * sin(lon_m) * cos(lat_m)\n",
    "zg_m = r_m              * sin(lat_m)"
   ]
  },
  {
   "cell_type": "code",
   "execution_count": 15,
   "metadata": {},
   "outputs": [],
   "source": [
    "# Equatorial coordinates\n",
    "\n",
    "# convert rectangular, ecliptic coordinates to rectangular, equatorial coordinates: \n",
    "# simply rotate the y-z-plane by ecl, the angle of the obliquity of the ecliptic:\n",
    "\n",
    "# the obliquity of the ecliptic (degrees), which is slowly decreasing with time:\n",
    "\n",
    "ecl = 23.4393 - 3.563E-7 * d0\n",
    "\n",
    "xe_m = xg_m\n",
    "ye_m = yg_m * cos(ecl) - zg_m * sin(ecl)\n",
    "ze_m = yg_m * sin(ecl) + zg_m * cos(ecl)\n",
    "\n",
    "# Finally, compute the Moon's Right Ascension (RA) and Declination (Dec):\n",
    "\n",
    "RA_m  = atan2( ye_m, xe_m )\n",
    "Dec_m = atan2( ze_m, sqrt(xe_m*xe_m+ye_m*ye_m) )\n",
    "\n",
    "# Re-compute the Moon's geocentric distance:\n",
    "\n",
    "# rg_m = r + m = sqrt(xg_m*xg_m + yg_m*yg_m + zg_m*zg-m) = sqrt(xe_m*xe_m+ye_m*ye_m+ze_m*ze_m)"
   ]
  },
  {
   "cell_type": "code",
   "execution_count": 23,
   "metadata": {},
   "outputs": [],
   "source": [
    "# Azimuthal coordinates\n",
    "\n",
    "# To find the azimuthal coordinates (azimuth and altitude), proceed by computing \n",
    "# the HA (Hour Angle) of the object. But first we must compute the LST (Local Sidereal Time), \n",
    "# which we do as described in 5b above. When we know LST, we can easily compute HA from:\n",
    "\n",
    "HA_m = LST - RA_m\n",
    "\n",
    "# HA is usually given in the interval -12 to +12 hours, or -180 to +180 degrees. If HA is zero, the object can be seen directly to the south. If HA is negative, the object is to the east of south, and if HA is positive, the object is to the west of south. IF your computed HA should fall outside this interval, add or subtract 24 hours (or 360 degrees) until HA falls within this interval.\n",
    "\n",
    "# convert HA and Decl to local azimuth and altitude. Need local latitude \"loclat\".\n",
    "# Azimuth is 0 at North, 90 deg at East, 180 deg at South and 270 deg at West. \n",
    "# Altitude is 0 at the (mathematical) horizon, 90 deg at zenith, and negative below the horizon.\n",
    "\n",
    "x = cos(HA_m) * cos(Dec_m)\n",
    "y = sin(HA_m) * cos(Dec_m)\n",
    "z = sin(Dec_m)\n",
    "\n",
    "loclatr = radians(loclat)\n",
    "xhor = x * sin(loclatr) - z * cos(loclatr)\n",
    "yhor = y\n",
    "zhor = x * cos(loclatr) + z * sin(loclatr)\n",
    "\n",
    "az  = atan2( yhor, xhor ) + radians(180.0)\n",
    "alt_geocen = asin( zhor ) # = atan2( zhor, sqrt(xhor*xhor+yhor*yhor) )"
   ]
  },
  {
   "cell_type": "code",
   "execution_count": 25,
   "metadata": {},
   "outputs": [],
   "source": [
    "# The Moon's topocentric position.\n",
    "\n",
    "# The Moon's position computed earlier is geocentric, i.e. as seen by an imaginary observer \n",
    "# at the center of the Earth. Real observers on the surface of the Earth or on a LEO satellite\n",
    "# will see a different position - the topocentric position. This position can differ by more \n",
    "# than one degree from the geocentric position. \n",
    "# To compute the topocentric positions, add a correction to the geocentric position.\n",
    "# NOTE: velocity aberration from a LEO satellite will be less than a couple of arcseconds.\n",
    "#       See the ipython notebook: \"Aberration Angle\".\n",
    "\n",
    "# Start by computing the Moon's parallax, i.e. the apparent size \n",
    "# of the (equatorial) radius of the Earth, as seen from the Moon:\n",
    "\n",
    "mpar = asin( 1/r_m )\n",
    "\n",
    "# where r_m is the Moon's distance in Earth radii. It's simplest to apply the correction in \n",
    "# horizontal coordinates (azimuth and altitude): within our accuracy aim of 1-2 arc minutes, \n",
    "# no correction need be applied to the azimuth: only correct the altitude above the horizon:\n",
    "\n",
    "alt_topocen = alt_geocen - mpar * cos(alt_geocen)\n",
    "\n",
    "# Sometimes one need to correct for topocentric position directly in equatorial coordinates \n",
    "# though, e.g. if one wants to draw on a star map how the Moon passes in front of the Pleiades, \n",
    "# as seen from some specific location. \n",
    "# Then we need to know the Moon's geocentric Right Ascension and Declination (RA, Decl), \n",
    "# the Local Sidereal Time (LST), and our local latitude (lat).\n",
    "\n",
    "# Our astronomical latitude (loclat) must first be converted to a geocentric latitude (gclat), \n",
    "# and distance from the center of the Earth (rho) in Earth equatorial radii. \n",
    "# For an approximate topocentric position, pretend that the Earth is a sphere, and use:\n",
    "\n",
    "#gclatr = loclatr\n",
    "#rho = 1.0\n",
    "\n",
    "# To account for the flattening of the Earth, compute:\n",
    "\n",
    "gclatr = loclatr - radians(0.1924) * sin(2*loclatr)\n",
    "rho   = 0.99833 + 0.00167 * cos(2*loclatr)\n",
    "\n",
    "# We also need an auxiliary angle, g:\n",
    "\n",
    "g = atan( tan(gclatr) / cos(HA_m) )\n",
    "\n",
    "# Now convert the geocentric Right Ascension and Declination (RA, Dec) \n",
    "# to their topocentric values (topRA, topDec).\n",
    "# For gclat, and thus g, equal to or extremely close to zero, use a simpler equation:\n",
    "\n",
    "topRA  = RA_m  - mpar * rho * cos(gclatr) * sin(HA_m) / cos(Dec_m)\n",
    "if gclatr > 0.001:\n",
    "    topDec = Dec_m - mpar * rho * sin(gclatr) * sin(g - Dec_m) / sin(g)\n",
    "else:\n",
    "    topDec = Dec_m - mpar * rho * sin(-Dec_m) * cos(HA_m)"
   ]
  },
  {
   "cell_type": "code",
   "execution_count": 27,
   "metadata": {},
   "outputs": [
    {
     "data": {
      "text/plain": [
       "(169.2537867290913, 29.912698995435868)"
      ]
     },
     "execution_count": 27,
     "metadata": {},
     "output_type": "execute_result"
    }
   ],
   "source": [
    "degrees(topRA), degrees(topDec)"
   ]
  },
  {
   "cell_type": "code",
   "execution_count": null,
   "metadata": {
    "collapsed": true
   },
   "outputs": [],
   "source": []
  }
 ],
 "metadata": {
  "celltoolbar": "Raw Cell Format",
  "kernelspec": {
   "display_name": "Python [default]",
   "language": "python",
   "name": "python3"
  },
  "language_info": {
   "codemirror_mode": {
    "name": "ipython",
    "version": 3
   },
   "file_extension": ".py",
   "mimetype": "text/x-python",
   "name": "python",
   "nbconvert_exporter": "python",
   "pygments_lexer": "ipython3",
   "version": "3.5.3"
  }
 },
 "nbformat": 4,
 "nbformat_minor": 1
}
