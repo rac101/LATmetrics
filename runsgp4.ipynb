{
 "cells": [
  {
   "cell_type": "markdown",
   "metadata": {},
   "source": [
    "# Running SGP4 to calculate and plot Fermi beta angle"
   ]
  },
  {
   "cell_type": "markdown",
   "metadata": {},
   "source": [
    "### <span style=\"color:red; font-family:Georgia;\">Robert Cameron, July 2015</span>"
   ]
  },
  {
   "cell_type": "markdown",
   "metadata": {},
   "source": [
    "Based on the python implementation of SGP4 orbit propagator\n",
    "available at https://pypi.python.org/pypi/sgp4/"
   ]
  },
  {
   "cell_type": "code",
   "execution_count": 2,
   "metadata": {
    "collapsed": false
   },
   "outputs": [],
   "source": [
    "import sys\n",
    "from subprocess import Popen, PIPE, STDOUT\n",
    "from math import radians, sin, cos, sqrt, acos, asin, degrees\n",
    "import operator\n",
    "sys.path.append('/Users/rc/Documents/GLAST/sgp4-1.4')\n",
    "from sgp4.earth_gravity import wgs84\n",
    "from sgp4.earth_gravity import wgs84\n",
    "from sgp4.io import twoline2rv\n",
    "from sgp4.ext import jday, invjday, days2mdhms"
   ]
  },
  {
   "cell_type": "code",
   "execution_count": 3,
   "metadata": {
    "collapsed": false
   },
   "outputs": [],
   "source": [
    "tle = !tail -2 /Users/rc/Documents/GLAST/FGST-TLE.txt"
   ]
  },
  {
   "cell_type": "code",
   "execution_count": 4,
   "metadata": {
    "collapsed": false
   },
   "outputs": [
    {
     "data": {
      "text/plain": [
       "['1 33053U 08029A   15207.89213919  .00000844  00000-0  33035-4 0  9994',\n",
       " '2 33053  25.5834  25.8114 0012665 208.6632 151.3207 15.10019820392674']"
      ]
     },
     "execution_count": 4,
     "metadata": {},
     "output_type": "execute_result"
    }
   ],
   "source": [
    "tle"
   ]
  },
  {
   "cell_type": "code",
   "execution_count": 5,
   "metadata": {
    "collapsed": false
   },
   "outputs": [],
   "source": [
    "satellite = twoline2rv(tle[0], tle[1], wgs84)"
   ]
  },
  {
   "cell_type": "code",
   "execution_count": 6,
   "metadata": {
    "collapsed": true
   },
   "outputs": [],
   "source": [
    "def crossprod(a, b):\n",
    "    c = [a[1]*b[2] - a[2]*b[1],\n",
    "         a[2]*b[0] - a[0]*b[2],\n",
    "         a[0]*b[1] - a[1]*b[0]]\n",
    "    return c"
   ]
  },
  {
   "cell_type": "code",
   "execution_count": 7,
   "metadata": {
    "collapsed": false
   },
   "outputs": [
    {
     "ename": "NameError",
     "evalue": "name 'reduce' is not defined",
     "output_type": "error",
     "traceback": [
      "\u001b[0;31m---------------------------------------------------------------------------\u001b[0m",
      "\u001b[0;31mNameError\u001b[0m                                 Traceback (most recent call last)",
      "\u001b[0;32m<ipython-input-7-2906839c4830>\u001b[0m in \u001b[0;36m<module>\u001b[0;34m()\u001b[0m\n\u001b[1;32m     29\u001b[0m         \u001b[0mYsun\u001b[0m \u001b[0;34m=\u001b[0m \u001b[0mcos\u001b[0m\u001b[0;34m(\u001b[0m\u001b[0mepsilon\u001b[0m\u001b[0;34m)\u001b[0m \u001b[0;34m*\u001b[0m \u001b[0msin\u001b[0m\u001b[0;34m(\u001b[0m\u001b[0mlamda\u001b[0m\u001b[0;34m)\u001b[0m\u001b[0;34m\u001b[0m\u001b[0m\n\u001b[1;32m     30\u001b[0m         \u001b[0mZsun\u001b[0m \u001b[0;34m=\u001b[0m \u001b[0msin\u001b[0m\u001b[0;34m(\u001b[0m\u001b[0mepsilon\u001b[0m\u001b[0;34m)\u001b[0m \u001b[0;34m*\u001b[0m \u001b[0msin\u001b[0m\u001b[0;34m(\u001b[0m\u001b[0mlamda\u001b[0m\u001b[0;34m)\u001b[0m\u001b[0;34m\u001b[0m\u001b[0m\n\u001b[0;32m---> 31\u001b[0;31m         \u001b[0mdotprod\u001b[0m \u001b[0;34m=\u001b[0m \u001b[0mreduce\u001b[0m\u001b[0;34m(\u001b[0m \u001b[0moperator\u001b[0m\u001b[0;34m.\u001b[0m\u001b[0madd\u001b[0m\u001b[0;34m,\u001b[0m \u001b[0mmap\u001b[0m\u001b[0;34m(\u001b[0m \u001b[0moperator\u001b[0m\u001b[0;34m.\u001b[0m\u001b[0mmul\u001b[0m\u001b[0;34m,\u001b[0m \u001b[0;34m(\u001b[0m\u001b[0mXsun\u001b[0m\u001b[0;34m,\u001b[0m\u001b[0mYsun\u001b[0m\u001b[0;34m,\u001b[0m\u001b[0mZsun\u001b[0m\u001b[0;34m)\u001b[0m\u001b[0;34m,\u001b[0m \u001b[0mpole\u001b[0m\u001b[0;34m)\u001b[0m\u001b[0;34m)\u001b[0m\u001b[0;34m\u001b[0m\u001b[0m\n\u001b[0m\u001b[1;32m     32\u001b[0m         \u001b[0mbeta\u001b[0m \u001b[0;34m=\u001b[0m \u001b[0mdegrees\u001b[0m\u001b[0;34m(\u001b[0m\u001b[0masin\u001b[0m\u001b[0;34m(\u001b[0m\u001b[0mdotprod\u001b[0m\u001b[0;34m/\u001b[0m\u001b[0mpolelen\u001b[0m\u001b[0;34m)\u001b[0m\u001b[0;34m)\u001b[0m\u001b[0;34m\u001b[0m\u001b[0m\n\u001b[1;32m     33\u001b[0m         \u001b[0mbpl\u001b[0m\u001b[0;34m.\u001b[0m\u001b[0mappend\u001b[0m\u001b[0;34m(\u001b[0m\u001b[0mbeta\u001b[0m\u001b[0;34m)\u001b[0m\u001b[0;34m\u001b[0m\u001b[0m\n",
      "\u001b[0;31mNameError\u001b[0m: name 'reduce' is not defined"
     ]
    }
   ],
   "source": [
    "ws = tle[0].split()\n",
    "ydoy = float(ws[3])\n",
    "year = int(ydoy)/1000 + 2000\n",
    "jd0 = jday(year,1,1,0,0,0)\n",
    "ylen = 365\n",
    "if year % 4 == 0:\n",
    "    ylen = 366\n",
    "fypl = []\n",
    "bpl = []\n",
    "for doy in range(ylen):\n",
    "    for hour in range(24):\n",
    "# add a small amount to the day number to ensure it is always a fraction of a second past the hour\n",
    "        fdoy = doy + hour/24.0 + 1.0e-9\n",
    "        jd = jd0 + fdoy\n",
    "        (y,mon,d,h,m,s) = invjday(jd)\n",
    "        s = int(s)\n",
    "        fy = y + fdoy/ylen\n",
    "        fypl.append(fy)\n",
    "        pos, vel = satellite.propagate(y,mon,d,h,m,s)\n",
    "        pole = crossprod(pos,vel)\n",
    "        polelen = sqrt(pole[0]*pole[0]+pole[1]*pole[1]+pole[2]*pole[2])\n",
    "# calculate sun coordinates\n",
    "        n = jd - 2451545.0\n",
    "        L = (280.460 + 0.9856474 * n) % 360\n",
    "        g = radians((357.528 + 0.9856003 * n) % 360)\n",
    "        lamda = radians(L + 1.915 * sin(g) + 0.020 * sin(2*g))\n",
    "        epsilon = radians(23.439 - 0.0000004 * n)\n",
    "        Xsun = cos(lamda)\n",
    "        Ysun = cos(epsilon) * sin(lamda)\n",
    "        Zsun = sin(epsilon) * sin(lamda)\n",
    "        dotprod = reduce( operator.add, map( operator.mul, (Xsun,Ysun,Zsun), pole))\n",
    "        beta = degrees(asin(dotprod/polelen))\n",
    "        bpl.append(beta)\n",
    "#        print oformat % (y, mon, d, h, m, s, fy, pos[0], pos[1], pos[2], beta)"
   ]
  },
  {
   "cell_type": "code",
   "execution_count": null,
   "metadata": {
    "collapsed": true
   },
   "outputs": [],
   "source": []
  }
 ],
 "metadata": {
  "kernelspec": {
   "display_name": "Python 3",
   "language": "python",
   "name": "python3"
  },
  "language_info": {
   "codemirror_mode": {
    "name": "ipython",
    "version": 3
   },
   "file_extension": ".py",
   "mimetype": "text/x-python",
   "name": "python",
   "nbconvert_exporter": "python",
   "pygments_lexer": "ipython3",
   "version": "3.4.3"
  }
 },
 "nbformat": 4,
 "nbformat_minor": 0
}
