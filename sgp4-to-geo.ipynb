{
 "cells": [
  {
   "cell_type": "markdown",
   "metadata": {},
   "source": [
    "# Running SGP4 to calculate Fermi geodetic coordinates for a specified time"
   ]
  },
  {
   "cell_type": "markdown",
   "metadata": {},
   "source": [
    "### <span style=\"color:red; font-family:Georgia;\">Robert Cameron, February 2016</span>"
   ]
  },
  {
   "cell_type": "markdown",
   "metadata": {},
   "source": [
    "Based on the python implementation of SGP4 orbit propagator\n",
    "available at https://pypi.python.org/pypi/sgp4/"
   ]
  },
  {
   "cell_type": "code",
   "execution_count": 169,
   "metadata": {
    "collapsed": false
   },
   "outputs": [],
   "source": [
    "import sys\n",
    "import numpy as np\n",
    "from subprocess import Popen, PIPE, STDOUT\n",
    "from math import radians, sin, cos, sqrt, acos, asin, atan2, pi, degrees\n",
    "import operator\n",
    "sys.path.append('/Users/rc/Documents/GLAST/sgp4-1.4')\n",
    "from sgp4.earth_gravity import wgs84\n",
    "from sgp4.io import twoline2rv\n",
    "from sgp4.ext import jday, invjday, days2mdhms"
   ]
  },
  {
   "cell_type": "code",
   "execution_count": 170,
   "metadata": {
    "collapsed": false
   },
   "outputs": [],
   "source": [
    "# specify the UTC date and time at which to calculate the Fermi position\n",
    "date = \"2015-11-15\" \n",
    "time = \"07:31:09.833\"\n",
    "time = \"11:01:36.849\"\n",
    "#time = \"13:01:27.288\"\n",
    "#time = \"14:36:30.387\"\n",
    "#time = \"16:21:22.232\""
   ]
  },
  {
   "cell_type": "code",
   "execution_count": 171,
   "metadata": {
    "collapsed": false
   },
   "outputs": [],
   "source": [
    "tle = ['1 33053U 08029A   15319.43445656  .00001507  00000-0  72237-4 0  9997',\n",
    "'2 33053  25.5836 347.6463 0012945  60.0439 300.1380 15.10243055409555']"
   ]
  },
  {
   "cell_type": "code",
   "execution_count": 172,
   "metadata": {
    "collapsed": false
   },
   "outputs": [],
   "source": [
    "satellite = twoline2rv(tle[0], tle[1], wgs84)"
   ]
  },
  {
   "cell_type": "code",
   "execution_count": 173,
   "metadata": {
    "collapsed": false
   },
   "outputs": [
    {
     "name": "stdout",
     "output_type": "stream",
     "text": [
      "2457341.959454271\n"
     ]
    }
   ],
   "source": [
    "(y,mon,d) = map(int, date.split(\"-\"))\n",
    "(h,m,s) = map(float, time.split(\":\"))\n",
    "# calculate the Julian day from the UTC date and time\n",
    "jd = jday(y,mon,d,h,m,s)\n",
    "print (jd)"
   ]
  },
  {
   "cell_type": "code",
   "execution_count": 174,
   "metadata": {
    "collapsed": false
   },
   "outputs": [
    {
     "name": "stdout",
     "output_type": "stream",
     "text": [
      "14.641465619846713\n"
     ]
    }
   ],
   "source": [
    "# compute Greenwich Sidereal Time (GST) in seconds\n",
    "# then compute Local Sidereal Time (LST) at Longitude = 0\n",
    "# for the constants used below, see Astronomical Algorithms by Jean Meeus, p. 84 (Eq. 11-4).\n",
    "c = [280.46061837, 360.98564736629, 0.000387933, 38710000.0]\n",
    "jd2000 = 2451545.0\n",
    "t0 = jd - jd2000\n",
    "t = t0/36525\n",
    "theta = c[0] + (c[1] * t0) + t**2*(c[2] - t/ c[3])  # GST in seconds\n",
    "lst = theta/15                                  # LST at longitude = 0, in hours \n",
    "lst = (lst + 24) % 24\n",
    "print (lst)"
   ]
  },
  {
   "cell_type": "code",
   "execution_count": 175,
   "metadata": {
    "collapsed": false
   },
   "outputs": [],
   "source": [
    "(y,mon,d) = map(int, date.split(\"-\"))\n",
    "(h,m,s) = map(float, time.split(\":\"))\n",
    "pos, vel = satellite.propagate(y,mon,d,h,m,s)"
   ]
  },
  {
   "cell_type": "code",
   "execution_count": 176,
   "metadata": {
    "collapsed": false
   },
   "outputs": [
    {
     "data": {
      "text/plain": [
       "(-3966.979641728793, 5269.563783180933, 2049.617160896793)"
      ]
     },
     "execution_count": 176,
     "metadata": {},
     "output_type": "execute_result"
    }
   ],
   "source": [
    "pos"
   ]
  },
  {
   "cell_type": "code",
   "execution_count": 177,
   "metadata": {
    "collapsed": false
   },
   "outputs": [
    {
     "name": "stdout",
     "output_type": "stream",
     "text": [
      "2015-11-15 11:01:36.849 : -92.649 17.262\n"
     ]
    }
   ],
   "source": [
    "az_angle = atan2(pos[1],pos[0])       # azimuth angle (radians)\n",
    "angle_sid = lst * 2.*pi/24.        # sidereal angle (radians)\n",
    "lon = (az_angle - angle_sid ) % (2*pi)     # geo longitude (radians)\n",
    "r = sqrt(pos[0]**2 + pos[1]**2)\n",
    "lat = atan2(pos[2],r)       # geo latitude (radians)\n",
    "glon = degrees(lon)\n",
    "if glon > 180: \n",
    "    glon -= 360\n",
    "glat = degrees(lat)\n",
    "#print (date, time, \":\", glon, glat)\n",
    "print (date, time, \": %.3f %.3f\" % (glon, glat))"
   ]
  },
  {
   "cell_type": "code",
   "execution_count": 178,
   "metadata": {
    "collapsed": false
   },
   "outputs": [
    {
     "name": "stderr",
     "output_type": "stream",
     "text": [
      "ERROR: Cell magic `%%inactive` not found.\n"
     ]
    }
   ],
   "source": [
    "%%inactive\n",
    "r = np.linalg.norm(pos)\n",
    "glon = degrees(atan2(pos[1],pos[0]))\n",
    "glat = degrees(asin(pos[2]/r))\n",
    "print (glon, glat)"
   ]
  },
  {
   "cell_type": "code",
   "execution_count": 179,
   "metadata": {
    "collapsed": false
   },
   "outputs": [
    {
     "name": "stderr",
     "output_type": "stream",
     "text": [
      "ERROR: Cell magic `%%inactive` not found.\n"
     ]
    }
   ],
   "source": [
    "%%inactive\n",
    "ws = tle[0].split()\n",
    "ydoy = float(ws[3])\n",
    "year = int(ydoy)/1000 + 2000\n",
    "jd0 = jday(year,1,1,0,0,0)\n",
    "ylen = 365\n",
    "if year % 4 == 0:\n",
    "    ylen = 366\n",
    "fypl = []\n",
    "bpl = []\n",
    "for doy in range(ylen):\n",
    "    for hour in range(24):\n",
    "# add a small amount to the day number to ensure it is always a fraction of a second past the hour\n",
    "        fdoy = doy + hour/24.0 + 1.0e-9\n",
    "        jd = jd0 + fdoy\n",
    "        (y,mon,d,h,m,s) = invjday(jd)\n",
    "        s = int(s)\n",
    "        fy = y + fdoy/ylen\n",
    "        fypl.append(fy)\n",
    "        pos, vel = satellite.propagate(y,mon,d,h,m,s)\n",
    "        pole = crossprod(pos,vel)\n",
    "        polelen = sqrt(pole[0]*pole[0]+pole[1]*pole[1]+pole[2]*pole[2])\n",
    "# calculate sun coordinates\n",
    "        n = jd - 2451545.0\n",
    "        L = (280.460 + 0.9856474 * n) % 360\n",
    "        g = radians((357.528 + 0.9856003 * n) % 360)\n",
    "        lamda = radians(L + 1.915 * sin(g) + 0.020 * sin(2*g))\n",
    "        epsilon = radians(23.439 - 0.0000004 * n)\n",
    "        Xsun = cos(lamda)\n",
    "        Ysun = cos(epsilon) * sin(lamda)\n",
    "        Zsun = sin(epsilon) * sin(lamda)\n",
    "        dotprod = reduce( operator.add, map( operator.mul, (Xsun,Ysun,Zsun), pole))\n",
    "        beta = degrees(asin(dotprod/polelen))\n",
    "        bpl.append(beta)\n",
    "#        print oformat % (y, mon, d, h, m, s, fy, pos[0], pos[1], pos[2], beta)"
   ]
  },
  {
   "cell_type": "code",
   "execution_count": 180,
   "metadata": {
    "collapsed": false
   },
   "outputs": [
    {
     "data": {
      "text/plain": [
       "(-6.1900850794762485, -3.716942306962325, -2.3814911949331234)"
      ]
     },
     "execution_count": 180,
     "metadata": {},
     "output_type": "execute_result"
    }
   ],
   "source": [
    "vel"
   ]
  },
  {
   "cell_type": "code",
   "execution_count": null,
   "metadata": {
    "collapsed": true
   },
   "outputs": [],
   "source": []
  }
 ],
 "metadata": {
  "kernelspec": {
   "display_name": "Python 3",
   "language": "python",
   "name": "python3"
  },
  "language_info": {
   "codemirror_mode": {
    "name": "ipython",
    "version": 3
   },
   "file_extension": ".py",
   "mimetype": "text/x-python",
   "name": "python",
   "nbconvert_exporter": "python",
   "pygments_lexer": "ipython3",
   "version": "3.4.3"
  }
 },
 "nbformat": 4,
 "nbformat_minor": 0
}
