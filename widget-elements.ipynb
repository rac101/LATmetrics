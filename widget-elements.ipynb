{
 "cells": [
  {
   "cell_type": "code",
   "execution_count": 11,
   "metadata": {
    "collapsed": false
   },
   "outputs": [
    {
     "data": {
      "text/plain": [
       "['AccordionWidget',\n",
       " 'BoundedFloatTextWidget',\n",
       " 'BoundedIntTextWidget',\n",
       " 'ButtonWidget',\n",
       " 'CheckboxWidget',\n",
       " 'ContainerWidget',\n",
       " 'DOMWidget',\n",
       " 'DropdownWidget',\n",
       " 'FloatProgressWidget',\n",
       " 'FloatSliderWidget',\n",
       " 'FloatTextWidget',\n",
       " 'HTMLWidget',\n",
       " 'ImageWidget',\n",
       " 'IntProgressWidget',\n",
       " 'IntSliderWidget',\n",
       " 'IntTextWidget',\n",
       " 'LatexWidget',\n",
       " 'RadioButtonsWidget',\n",
       " 'SelectWidget',\n",
       " 'TabWidget',\n",
       " 'TextWidget',\n",
       " 'TextareaWidget',\n",
       " 'ToggleButtonWidget',\n",
       " 'ToggleButtonsWidget',\n",
       " 'Widget']"
      ]
     },
     "execution_count": 11,
     "metadata": {},
     "output_type": "execute_result"
    }
   ],
   "source": [
    "from IPython.html import widgets\n",
    "from IPython.display import *\n",
    "[widget for widget in dir(widgets) if widget.endswith('Widget')]"
   ]
  },
  {
   "cell_type": "code",
   "execution_count": 13,
   "metadata": {
    "collapsed": false
   },
   "outputs": [],
   "source": [
    "foo=widgets.IntSlider(slider_color = 'red')\n",
    "display(foo)"
   ]
  },
  {
   "cell_type": "code",
   "execution_count": 14,
   "metadata": {
    "collapsed": false
   },
   "outputs": [
    {
     "data": {
      "text/plain": [
       "{'_model_id': '42060c508b1a4054b6ddb8fbd4e4d717',\n",
       " '_trait_dyn_inits': {'keys': '_keys_default', 'log': '_log_default'},\n",
       " '_trait_notifiers': {'border_color': [<function IPython.html.widgets.widget.DOMWidget.__init__.<locals>._validate_border>],\n",
       "  'border_style': [<function IPython.html.widgets.widget.DOMWidget.__init__.<locals>._validate_border>],\n",
       "  'border_width': [<function IPython.html.widgets.widget.DOMWidget.__init__.<locals>._validate_border>],\n",
       "  'max': [<bound method IntSlider._handle_max_changed of <IPython.html.widgets.widget_int.IntSlider object at 0x10508c080>>],\n",
       "  'min': [<bound method IntSlider._handle_min_changed of <IPython.html.widgets.widget_int.IntSlider object at 0x10508c080>>],\n",
       "  'value': [<bound method IntSlider._handle_value_changed of <IPython.html.widgets.widget_int.IntSlider object at 0x10508c080>>]},\n",
       " '_trait_values': {'_css': (),\n",
       "  '_display_callbacks': <IPython.html.widgets.widget.CallbackDispatcher at 0x10508c3c8>,\n",
       "  '_dom_classes': (),\n",
       "  '_model_module': None,\n",
       "  '_model_name': 'WidgetModel',\n",
       "  '_msg_callbacks': <IPython.html.widgets.widget.CallbackDispatcher at 0x10508c0b8>,\n",
       "  '_property_lock': (None, None),\n",
       "  '_range': False,\n",
       "  '_send_state_lock': 0,\n",
       "  '_states_to_send': set(),\n",
       "  '_view_module': '',\n",
       "  '_view_name': 'IntSliderView',\n",
       "  'background_color': '',\n",
       "  'border_color': '',\n",
       "  'border_radius': '',\n",
       "  'border_style': '',\n",
       "  'border_width': '',\n",
       "  'color': '',\n",
       "  'comm': <IPython.kernel.comm.comm.Comm at 0x10508c198>,\n",
       "  'config': {},\n",
       "  'description': '',\n",
       "  'disabled': False,\n",
       "  'font_family': '',\n",
       "  'font_size': '',\n",
       "  'font_style': '',\n",
       "  'font_weight': '',\n",
       "  'height': '',\n",
       "  'keys': ['min',\n",
       "   'width',\n",
       "   'readout',\n",
       "   'background_color',\n",
       "   'description',\n",
       "   'padding',\n",
       "   'value',\n",
       "   'border_style',\n",
       "   'border_radius',\n",
       "   'border_width',\n",
       "   '_dom_classes',\n",
       "   'font_family',\n",
       "   'font_style',\n",
       "   'slider_color',\n",
       "   'disabled',\n",
       "   'msg_throttle',\n",
       "   '_view_name',\n",
       "   '_range',\n",
       "   'font_size',\n",
       "   'orientation',\n",
       "   'border_color',\n",
       "   '_view_module',\n",
       "   'height',\n",
       "   'version',\n",
       "   'margin',\n",
       "   'step',\n",
       "   'color',\n",
       "   'font_weight',\n",
       "   'visible',\n",
       "   'max',\n",
       "   '_css'],\n",
       "  'margin': '',\n",
       "  'max': 100,\n",
       "  'min': 0,\n",
       "  'msg_throttle': 3,\n",
       "  'orientation': 'horizontal',\n",
       "  'padding': '',\n",
       "  'parent': None,\n",
       "  'readout': True,\n",
       "  'slider_color': 'red',\n",
       "  'step': 1,\n",
       "  'value': 0,\n",
       "  'version': 0,\n",
       "  'visible': True,\n",
       "  'width': ''}}"
      ]
     },
     "execution_count": 14,
     "metadata": {},
     "output_type": "execute_result"
    }
   ],
   "source": [
    "foo.__dict__"
   ]
  },
  {
   "cell_type": "code",
   "execution_count": 16,
   "metadata": {
    "collapsed": false
   },
   "outputs": [
    {
     "data": {
      "text/plain": [
       "0"
      ]
     },
     "execution_count": 16,
     "metadata": {},
     "output_type": "execute_result"
    }
   ],
   "source": [
    "foo.value"
   ]
  },
  {
   "cell_type": "code",
   "execution_count": 49,
   "metadata": {
    "collapsed": true
   },
   "outputs": [],
   "source": [
    "myslide=widgets.FloatSlider(\n",
    "    value=7.5,\n",
    "    min=5.0,\n",
    "    max=10.0,\n",
    "    step=0.1,\n",
    "    description='Test:',\n",
    ")\n",
    "display(myslide)\n",
    "foo = myslide.value\n",
    "widgets.FloatText(\n",
    "    value=foo,\n",
    "    description='slider:',\n",
    ")"
   ]
  },
  {
   "cell_type": "code",
   "execution_count": 50,
   "metadata": {
    "collapsed": false
   },
   "outputs": [
    {
     "data": {
      "text/plain": [
       "8.3"
      ]
     },
     "execution_count": 50,
     "metadata": {},
     "output_type": "execute_result"
    }
   ],
   "source": [
    "myslide.value"
   ]
  },
  {
   "cell_type": "code",
   "execution_count": 19,
   "metadata": {
    "collapsed": false
   },
   "outputs": [],
   "source": [
    "widgets.FloatSlider(\n",
    "    value=7.5,\n",
    "    min=5.0,\n",
    "    max=10.0,\n",
    "    step=0.1,\n",
    "    description='Test',\n",
    "    orientation='vertical',\n",
    ")"
   ]
  },
  {
   "cell_type": "code",
   "execution_count": 20,
   "metadata": {
    "collapsed": true
   },
   "outputs": [],
   "source": [
    "widgets.FloatProgress(\n",
    "    value=7.5,\n",
    "    min=5.0,\n",
    "    max=10.0,\n",
    "    step=0.1,\n",
    "    description='Loading:',\n",
    ")"
   ]
  },
  {
   "cell_type": "code",
   "execution_count": 21,
   "metadata": {
    "collapsed": true
   },
   "outputs": [],
   "source": [
    "widgets.BoundedFloatText(\n",
    "    value=7.5,\n",
    "    min=5.0,\n",
    "    max=10.0,\n",
    "    description='Bounded Values:',\n",
    ")"
   ]
  },
  {
   "cell_type": "code",
   "execution_count": 47,
   "metadata": {
    "collapsed": true
   },
   "outputs": [],
   "source": [
    "foo = 6.3\n",
    "widgets.FloatText(\n",
    "    value=foo,\n",
    "    description='Any value:',\n",
    ")"
   ]
  },
  {
   "cell_type": "code",
   "execution_count": 24,
   "metadata": {
    "collapsed": true
   },
   "outputs": [],
   "source": [
    "widgets.ToggleButton(\n",
    "    description='Click me',\n",
    "    value=False,\n",
    ")"
   ]
  },
  {
   "cell_type": "code",
   "execution_count": 25,
   "metadata": {
    "collapsed": true
   },
   "outputs": [],
   "source": [
    "widgets.Checkbox(\n",
    "    description='Check me',\n",
    "    value=True,\n",
    ")"
   ]
  },
  {
   "cell_type": "code",
   "execution_count": 32,
   "metadata": {
    "collapsed": false
   },
   "outputs": [],
   "source": [
    "from IPython.display import display\n",
    "w = widgets.Dropdown(\n",
    "    options=['1', '2', '3'],\n",
    "    value='2',\n",
    "    description='Picklist:',\n",
    ")\n",
    "display(w)"
   ]
  },
  {
   "cell_type": "code",
   "execution_count": 33,
   "metadata": {
    "collapsed": false
   },
   "outputs": [
    {
     "data": {
      "text/plain": [
       "'3'"
      ]
     },
     "execution_count": 33,
     "metadata": {},
     "output_type": "execute_result"
    }
   ],
   "source": [
    "w.value"
   ]
  },
  {
   "cell_type": "code",
   "execution_count": 43,
   "metadata": {
    "collapsed": true
   },
   "outputs": [],
   "source": [
    "r=widgets.RadioButtons(\n",
    "    description='Pizza topping:',\n",
    "    options=['pepperoni', 'pineapple', 'anchovies'],\n",
    ")"
   ]
  },
  {
   "cell_type": "code",
   "execution_count": 44,
   "metadata": {
    "collapsed": false
   },
   "outputs": [],
   "source": [
    "r"
   ]
  },
  {
   "cell_type": "code",
   "execution_count": 45,
   "metadata": {
    "collapsed": false
   },
   "outputs": [
    {
     "data": {
      "text/plain": [
       "'pineapple'"
      ]
     },
     "execution_count": 45,
     "metadata": {},
     "output_type": "execute_result"
    }
   ],
   "source": [
    "r.value"
   ]
  },
  {
   "cell_type": "code",
   "execution_count": 46,
   "metadata": {
    "collapsed": true
   },
   "outputs": [],
   "source": [
    "widgets.ToggleButtons(\n",
    "    description='Speed:',\n",
    "    options=['Slow', 'Regular', 'Fast'],\n",
    ")"
   ]
  },
  {
   "cell_type": "code",
   "execution_count": null,
   "metadata": {
    "collapsed": true
   },
   "outputs": [],
   "source": [
    "widgets.Select(\n",
    "    description='OS:',\n",
    "    options=['Linux', 'Windows', 'OSX'],\n",
    ")"
   ]
  },
  {
   "cell_type": "code",
   "execution_count": null,
   "metadata": {
    "collapsed": true
   },
   "outputs": [],
   "source": [
    "w = SelectMultiple(\n",
    "    description=\"Fruits\",\n",
    "    options=['Apples', 'Oranges', 'Pears']\n",
    ")\n",
    "display(w)"
   ]
  },
  {
   "cell_type": "code",
   "execution_count": null,
   "metadata": {
    "collapsed": false
   },
   "outputs": [],
   "source": [
    "w.value"
   ]
  },
  {
   "cell_type": "code",
   "execution_count": null,
   "metadata": {
    "collapsed": true
   },
   "outputs": [],
   "source": [
    "Text(\n",
    "    description='String:',\n",
    "    value='Hello World',\n",
    ")"
   ]
  },
  {
   "cell_type": "code",
   "execution_count": null,
   "metadata": {
    "collapsed": true
   },
   "outputs": [],
   "source": [
    "Textarea(\n",
    "    description='String:',\n",
    "    value='Hello Worlds',\n",
    ")"
   ]
  },
  {
   "cell_type": "code",
   "execution_count": null,
   "metadata": {
    "collapsed": true
   },
   "outputs": [],
   "source": [
    "Latex(\n",
    "    value=\"$$\\\\frac{n!}{k!(n-k)!} = \\\\binom{n}{k}$$\",\n",
    ")"
   ]
  },
  {
   "cell_type": "code",
   "execution_count": null,
   "metadata": {
    "collapsed": true
   },
   "outputs": [],
   "source": [
    "Latex(\n",
    "    value=\"$$\\\\frac{n!}{k!(n-k)!} = \\\\binom{n}{k}$$\",\n",
    ")"
   ]
  },
  {
   "cell_type": "code",
   "execution_count": null,
   "metadata": {
    "collapsed": true
   },
   "outputs": [],
   "source": [
    "HTML(\n",
    "    value=\"Hello <b>World</b>\"\n",
    ")"
   ]
  },
  {
   "cell_type": "code",
   "execution_count": null,
   "metadata": {
    "collapsed": false
   },
   "outputs": [],
   "source": [
    "Button(description='Click me')"
   ]
  },
  {
   "cell_type": "code",
   "execution_count": null,
   "metadata": {
    "collapsed": true
   },
   "outputs": [],
   "source": []
  }
 ],
 "metadata": {
  "kernelspec": {
   "display_name": "Python 3",
   "language": "python",
   "name": "python3"
  },
  "language_info": {
   "codemirror_mode": {
    "name": "ipython",
    "version": 3
   },
   "file_extension": ".py",
   "mimetype": "text/x-python",
   "name": "python",
   "nbconvert_exporter": "python",
   "pygments_lexer": "ipython3",
   "version": "3.4.3"
  }
 },
 "nbformat": 4,
 "nbformat_minor": 0
}
